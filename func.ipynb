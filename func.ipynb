{
 "cells": [
  {
   "cell_type": "code",
   "execution_count": 1,
   "id": "79d40ccd-8c69-43d9-9cbd-9dba99c4c99f",
   "metadata": {
    "execution": {
     "iopub.execute_input": "2023-12-02T01:04:38.507351Z",
     "iopub.status.busy": "2023-12-02T01:04:38.506569Z",
     "iopub.status.idle": "2023-12-02T01:04:38.870528Z",
     "shell.execute_reply": "2023-12-02T01:04:38.870263Z",
     "shell.execute_reply.started": "2023-12-02T01:04:38.507227Z"
    }
   },
   "outputs": [],
   "source": [
    "import pandas as pd"
   ]
  },
  {
   "cell_type": "code",
   "execution_count": 29,
   "id": "e3f09f98-37c6-46ff-b80d-a93f06512f87",
   "metadata": {
    "execution": {
     "iopub.execute_input": "2023-12-02T01:25:29.338804Z",
     "iopub.status.busy": "2023-12-02T01:25:29.338061Z",
     "iopub.status.idle": "2023-12-02T01:25:29.357056Z",
     "shell.execute_reply": "2023-12-02T01:25:29.356144Z",
     "shell.execute_reply.started": "2023-12-02T01:25:29.338744Z"
    }
   },
   "outputs": [
    {
     "data": {
      "text/plain": [
       "(2, 1)"
      ]
     },
     "execution_count": 29,
     "metadata": {},
     "output_type": "execute_result"
    }
   ],
   "source": [
    "def column_check(ref_df:pd.DataFrame, df:pd.DataFrame) -> bool:\n",
    "    \"\"\"\n",
    "    check if dataframes have the same columns and column order\n",
    "    \"\"\"\n",
    "    col_check = all(ref_df.columns == df.columns)\n",
    "\n",
    "    if col_check == False:\n",
    "        raise Exception(\"Dataframes have different columns\")\n",
    "\n",
    "\n",
    "def duplicated_rows(ref_df:pd.DataFrame, df:pd.DataFrame) -> pd.DataFrame:\n",
    "    \"\"\"\n",
    "    return duplicate rows between ref_df and df\n",
    "    \"\"\"\n",
    "    \n",
    "    duplicated_rows_between = ref_df.merge(df, on=list(ref_df.columns), how=\"inner\")\n",
    "    duplicated_rows_within = df[df.duplicated()]\n",
    "    \n",
    "    dup_between = duplicated_rows_between.shape[0] \n",
    "    dup_within = duplicated_rows_within.shape[0]\n",
    "\n",
    "    return dup_between, dup_within\n",
    "\n",
    "\n",
    "\n",
    "\n",
    "\n",
    "ref_df = pd.DataFrame({\"col1\":[1,2,2,3],\"col2\":[4,5,5,6]})\n",
    "df = pd.DataFrame({\"col1\":[1,3,5,5],\"col2\":[4,6,9,9]})\n",
    "\n",
    "duplicated_rows(ref_df,df)"
   ]
  },
  {
   "cell_type": "code",
   "execution_count": 13,
   "id": "1720a3d3-33d5-4ba6-b102-6ee08f643415",
   "metadata": {
    "execution": {
     "iopub.execute_input": "2023-12-02T01:16:16.100934Z",
     "iopub.status.busy": "2023-12-02T01:16:16.100345Z",
     "iopub.status.idle": "2023-12-02T01:16:16.108825Z",
     "shell.execute_reply": "2023-12-02T01:16:16.107571Z",
     "shell.execute_reply.started": "2023-12-02T01:16:16.100898Z"
    }
   },
   "outputs": [
    {
     "data": {
      "text/plain": [
       "True"
      ]
     },
     "execution_count": 13,
     "metadata": {},
     "output_type": "execute_result"
    }
   ],
   "source": [
    "all(ref_df.columns == df.columns)"
   ]
  },
  {
   "cell_type": "code",
   "execution_count": 22,
   "id": "7008dd5b-61ee-4623-870b-921085ff02db",
   "metadata": {
    "execution": {
     "iopub.execute_input": "2023-12-02T01:20:57.435144Z",
     "iopub.status.busy": "2023-12-02T01:20:57.434553Z",
     "iopub.status.idle": "2023-12-02T01:20:57.443745Z",
     "shell.execute_reply": "2023-12-02T01:20:57.442660Z",
     "shell.execute_reply.started": "2023-12-02T01:20:57.435105Z"
    }
   },
   "outputs": [
    {
     "data": {
      "text/plain": [
       "1"
      ]
     },
     "execution_count": 22,
     "metadata": {},
     "output_type": "execute_result"
    }
   ],
   "source": [
    "sum(ref_df.duplicated())"
   ]
  }
 ],
 "metadata": {
  "kernelspec": {
   "display_name": "splus_env",
   "language": "python",
   "name": "env"
  },
  "language_info": {
   "codemirror_mode": {
    "name": "ipython",
    "version": 3
   },
   "file_extension": ".py",
   "mimetype": "text/x-python",
   "name": "python",
   "nbconvert_exporter": "python",
   "pygments_lexer": "ipython3",
   "version": "3.9.6"
  }
 },
 "nbformat": 4,
 "nbformat_minor": 5
}
