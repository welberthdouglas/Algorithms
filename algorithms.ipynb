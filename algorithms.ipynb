{
 "cells": [
  {
   "cell_type": "markdown",
   "metadata": {
    "ExecuteTime": {
     "end_time": "2021-04-05T02:52:25.025498Z",
     "start_time": "2021-04-05T02:52:25.018249Z"
    }
   },
   "source": [
    "# TODO\n",
    "\n"
   ]
  },
  {
   "cell_type": "markdown",
   "metadata": {},
   "source": [
    "# [Implementation] Counting\n",
    "\n",
    "Or just use the built in counter in collections"
   ]
  },
  {
   "cell_type": "code",
   "execution_count": 1,
   "metadata": {
    "ExecuteTime": {
     "end_time": "2022-04-06T13:47:26.759515Z",
     "start_time": "2022-04-06T13:47:26.747047Z"
    }
   },
   "outputs": [],
   "source": [
    "from collections import defaultdict\n",
    "\n",
    "def counting(A:list, m:int)->list:\n",
    "    n = len(A)\n",
    "    count = [0] * (m + 1)\n",
    "    for k in range(n):\n",
    "        count[A[k]] += 1\n",
    "    return count\n",
    "\n",
    "def counting_with_neg(A:list,m:int)->list:\n",
    "    n = len(A)\n",
    "    count = [0]*(2*m+1)\n",
    "    for k in range(n):\n",
    "        count[A[k]+m] +=1\n",
    "    return count\n",
    "\n",
    "def counting_dict(A:list)->dict:\n",
    "    \"\"\"-Slightly slower than using an array since it dynamicaly extends the dictionary as it grows\n",
    "       -It does not require us to specify the lenght of the array (m).\n",
    "       -Still O(n) though.\n",
    "       -Negative numbers and strings are taken care of automaticaly.\n",
    "    \"\"\"\n",
    "    count = {a:0 for a in A}\n",
    "    for a in A:\n",
    "        count[a] += 1\n",
    "    return count\n",
    "\n",
    "def counting_defaultdict(A:list)->dict:\n",
    "    \"\"\"\n",
    "      - Slower still but slightly more convenient\n",
    "    \"\"\"\n",
    "    count = defaultdict(lambda:0)\n",
    "    for a in A:\n",
    "        count[a] +=1\n",
    "    return count"
   ]
  },
  {
   "cell_type": "code",
   "execution_count": 177,
   "metadata": {
    "ExecuteTime": {
     "end_time": "2021-04-09T03:19:37.941422Z",
     "start_time": "2021-04-09T03:19:37.937052Z"
    }
   },
   "outputs": [
    {
     "data": {
      "text/plain": [
       "[0, 1, 1, 3, 0, 1, 1, 0, 0, 0, 0]"
      ]
     },
     "execution_count": 177,
     "metadata": {},
     "output_type": "execute_result"
    }
   ],
   "source": [
    "counting([1,2,3,3,3,5,6], 10)"
   ]
  },
  {
   "cell_type": "code",
   "execution_count": 178,
   "metadata": {
    "ExecuteTime": {
     "end_time": "2021-04-09T03:19:48.804839Z",
     "start_time": "2021-04-09T03:19:48.800799Z"
    }
   },
   "outputs": [
    {
     "data": {
      "text/plain": [
       "[0, 0, 0, 3, 0, 1, 1, 0, 0, 0, 2]"
      ]
     },
     "execution_count": 178,
     "metadata": {},
     "output_type": "execute_result"
    }
   ],
   "source": [
    "counting([-1,-1,3,3,3,5,6], 10)"
   ]
  },
  {
   "cell_type": "code",
   "execution_count": 5,
   "metadata": {
    "ExecuteTime": {
     "end_time": "2022-04-06T13:48:06.132882Z",
     "start_time": "2022-04-06T13:48:06.128527Z"
    }
   },
   "outputs": [
    {
     "data": {
      "text/plain": [
       "{-1: 2, 3: 3, 5: 1, 6: 1}"
      ]
     },
     "execution_count": 5,
     "metadata": {},
     "output_type": "execute_result"
    }
   ],
   "source": [
    "counting_dict([-1,-1,3,3,3,5,6])"
   ]
  },
  {
   "cell_type": "code",
   "execution_count": 6,
   "metadata": {
    "ExecuteTime": {
     "end_time": "2022-04-06T13:48:07.269616Z",
     "start_time": "2022-04-06T13:48:07.265167Z"
    }
   },
   "outputs": [
    {
     "data": {
      "text/plain": [
       "defaultdict(<function __main__.counting_defaultdict.<locals>.<lambda>()>,\n",
       "            {-1: 2, 3: 3, 5: 1, 6: 1})"
      ]
     },
     "execution_count": 6,
     "metadata": {},
     "output_type": "execute_result"
    }
   ],
   "source": [
    "counting_defaultdict([-1,-1,3,3,3,5,6])"
   ]
  },
  {
   "cell_type": "code",
   "execution_count": 194,
   "metadata": {
    "ExecuteTime": {
     "end_time": "2021-04-10T13:27:12.280037Z",
     "start_time": "2021-04-10T13:27:12.275826Z"
    }
   },
   "outputs": [
    {
     "data": {
      "text/plain": [
       "[1, 0, 0, 0, 0, 0, 0, 0, 0, 2, 1, 0, 0, 3, 0, 1, 1, 0, 0, 0, 0]"
      ]
     },
     "execution_count": 194,
     "metadata": {},
     "output_type": "execute_result"
    }
   ],
   "source": [
    "counting_with_neg([-1,-1,3,3,3,5,6,-10,0], 10)"
   ]
  },
  {
   "cell_type": "code",
   "execution_count": 7,
   "metadata": {
    "ExecuteTime": {
     "end_time": "2022-04-06T13:48:18.343355Z",
     "start_time": "2022-04-06T13:48:18.143766Z"
    }
   },
   "outputs": [],
   "source": [
    "d = counting(range(1_000_000), 1_000_001)"
   ]
  },
  {
   "cell_type": "code",
   "execution_count": 8,
   "metadata": {
    "ExecuteTime": {
     "end_time": "2022-04-06T13:48:19.567195Z",
     "start_time": "2022-04-06T13:48:19.317922Z"
    }
   },
   "outputs": [],
   "source": [
    "d = counting_dict(range(1_000_000))"
   ]
  },
  {
   "cell_type": "code",
   "execution_count": 9,
   "metadata": {
    "ExecuteTime": {
     "end_time": "2022-04-06T13:48:20.567661Z",
     "start_time": "2022-04-06T13:48:20.269829Z"
    }
   },
   "outputs": [],
   "source": [
    "d = counting_defaultdict(range(1_000_000))"
   ]
  },
  {
   "cell_type": "code",
   "execution_count": 592,
   "metadata": {
    "ExecuteTime": {
     "end_time": "2021-05-09T04:10:46.161625Z",
     "start_time": "2021-05-09T04:10:46.045630Z"
    }
   },
   "outputs": [],
   "source": [
    "from collections import Counter\n",
    "d = Counter(range(1_000_000))"
   ]
  },
  {
   "cell_type": "markdown",
   "metadata": {},
   "source": [
    "# [Implementation] Stack and Queue"
   ]
  },
  {
   "cell_type": "code",
   "execution_count": 488,
   "metadata": {
    "ExecuteTime": {
     "end_time": "2021-04-11T06:01:07.287583Z",
     "start_time": "2021-04-11T06:01:07.169723Z"
    }
   },
   "outputs": [],
   "source": [
    "from collections import deque\n",
    "\n",
    "class stack():\n",
    "    def __init__(self):\n",
    "        self.s = []\n",
    "    def push(self,el:int):\n",
    "        self.s.append(el)\n",
    "    def pop(self):\n",
    "        poped_el = self.s.pop()\n",
    "        return poped_el\n",
    "    def __str__(self):\n",
    "        return \"[\"+\",\".join([str(el) for el in self.s])+\"]\"\n",
    "    def extend(self,l:list):\n",
    "        self.s += l \n",
    "    \n",
    "class queue_slow_pop():\n",
    "    def __init__(self):\n",
    "        self.s = []\n",
    "    def push(self,el:int):\n",
    "        self.s.append(el)\n",
    "    def pop(self):\n",
    "        poped_el = self.s.pop(0)   # pop(0) has O(n) time complexity!!\n",
    "        return poped_el\n",
    "    def __str__(self):\n",
    "        return \"[\"+\",\".join([str(el) for el in self.s])+\"]\"\n",
    "    \n",
    "    def extend(self,l:list):\n",
    "        self.s += l \n",
    "\n",
    "class queue():\n",
    "    def __init__(self):\n",
    "        self.s = deque([])\n",
    "    def push(self,el:int):\n",
    "        self.s.append(el)\n",
    "    def pop(self):\n",
    "        poped_el = self.s.popleft()   # popleft() has O(1) time complexity using deque\n",
    "        return poped_el\n",
    "    def __str__(self):\n",
    "        return \"[\"+\",\".join([str(el) for el in self.s])+\"]\"\n",
    "    \n",
    "    def extend(self,l:list):\n",
    "        self.s.extend(l) "
   ]
  },
  {
   "cell_type": "code",
   "execution_count": 489,
   "metadata": {
    "ExecuteTime": {
     "end_time": "2021-04-11T06:01:08.762808Z",
     "start_time": "2021-04-11T06:01:08.759577Z"
    }
   },
   "outputs": [
    {
     "name": "stdout",
     "output_type": "stream",
     "text": [
      "[0,1,2,3,4,5,6,7,8,9]\n"
     ]
    }
   ],
   "source": [
    "q = queue()\n",
    "for n in range(10):\n",
    "    q.push(n)\n",
    "print(q)"
   ]
  },
  {
   "cell_type": "code",
   "execution_count": 490,
   "metadata": {
    "ExecuteTime": {
     "end_time": "2021-04-11T06:01:09.153904Z",
     "start_time": "2021-04-11T06:01:09.148257Z"
    }
   },
   "outputs": [
    {
     "name": "stdout",
     "output_type": "stream",
     "text": [
      "[0,1,2,3,4,5,6,7,8,9]\n",
      "[1,2,3,4,5,6,7,8,9]\n",
      "[2,3,4,5,6,7,8,9]\n",
      "[3,4,5,6,7,8,9]\n",
      "[4,5,6,7,8,9]\n",
      "[5,6,7,8,9]\n",
      "[5,6,7,8,9,100]\n",
      "[5,6,7,8,9,100,-1,-2,-3,-4]\n"
     ]
    }
   ],
   "source": [
    "print(q)\n",
    "q.pop()\n",
    "print(q)\n",
    "q.pop()\n",
    "print(q)\n",
    "q.pop()\n",
    "print(q)\n",
    "q.pop()\n",
    "print(q)\n",
    "q.pop()\n",
    "print(q)\n",
    "q.push(100)\n",
    "print(q)\n",
    "q.extend([-1,-2,-3,-4])\n",
    "print(q)"
   ]
  },
  {
   "cell_type": "code",
   "execution_count": 310,
   "metadata": {
    "ExecuteTime": {
     "end_time": "2021-04-10T14:09:59.387686Z",
     "start_time": "2021-04-10T14:09:59.385443Z"
    }
   },
   "outputs": [],
   "source": [
    "s = stack()"
   ]
  },
  {
   "cell_type": "code",
   "execution_count": 311,
   "metadata": {
    "ExecuteTime": {
     "end_time": "2021-04-10T14:09:59.818387Z",
     "start_time": "2021-04-10T14:09:59.814478Z"
    }
   },
   "outputs": [
    {
     "name": "stdout",
     "output_type": "stream",
     "text": [
      "[0,1,2,3,4,5,6,7,8,9]\n"
     ]
    }
   ],
   "source": [
    "for n in range(10):\n",
    "    s.push(n)\n",
    "print(s)"
   ]
  },
  {
   "cell_type": "code",
   "execution_count": 312,
   "metadata": {
    "ExecuteTime": {
     "end_time": "2021-04-10T14:10:00.283567Z",
     "start_time": "2021-04-10T14:10:00.277353Z"
    }
   },
   "outputs": [
    {
     "name": "stdout",
     "output_type": "stream",
     "text": [
      "[0,1,2,3,4,5,6,7,8,9]\n",
      "[0,1,2,3,4,5,6,7,8]\n",
      "[0,1,2,3,4,5,6,7]\n",
      "[0,1,2,3,4,5,6]\n",
      "[0,1,2,3,4,5]\n",
      "[0,1,2,3,4]\n",
      "[0,1,2,3,4,100]\n",
      "[5,6,7,8,9,100,-1,-2,-3,-4]\n"
     ]
    }
   ],
   "source": [
    "print(s)\n",
    "s.pop()\n",
    "print(s)\n",
    "s.pop()\n",
    "print(s)\n",
    "s.pop()\n",
    "print(s)\n",
    "s.pop()\n",
    "print(s)\n",
    "s.pop()\n",
    "print(s)\n",
    "s.push(100)\n",
    "print(s)\n",
    "s.extend([-1,-2,-3,-4])\n",
    "print(q)"
   ]
  },
  {
   "cell_type": "markdown",
   "metadata": {},
   "source": [
    "# [Implementation] Prefix Sum\n",
    "\n",
    "Or use np.cumsum( ) which is faster of course!\n",
    "- Can't use numpy in codility though"
   ]
  },
  {
   "cell_type": "code",
   "execution_count": 8,
   "metadata": {
    "ExecuteTime": {
     "end_time": "2022-05-09T14:19:42.208400Z",
     "start_time": "2022-05-09T14:19:42.204488Z"
    }
   },
   "outputs": [],
   "source": [
    "def prefix_sums(A):\n",
    "    P = [A[0]]\n",
    "    for i in range(1,len(A)):\n",
    "        P.append(A[i]+P[i-1])\n",
    "    return P\n",
    "\n",
    "def sum_slice(P, x, y):\n",
    "    return P[y] - P[x-1]"
   ]
  },
  {
   "cell_type": "code",
   "execution_count": 5,
   "metadata": {
    "ExecuteTime": {
     "end_time": "2022-05-09T14:18:07.825555Z",
     "start_time": "2022-05-09T14:18:07.625757Z"
    }
   },
   "outputs": [
    {
     "data": {
      "text/plain": [
       "array([ 1,  3,  6, 10, 15])"
      ]
     },
     "execution_count": 5,
     "metadata": {},
     "output_type": "execute_result"
    }
   ],
   "source": [
    "import numpy as np\n",
    "np.cumsum([1,2,3,4,5])"
   ]
  },
  {
   "cell_type": "code",
   "execution_count": 2,
   "metadata": {
    "ExecuteTime": {
     "end_time": "2022-05-09T14:16:45.244798Z",
     "start_time": "2022-05-09T14:16:45.235203Z"
    }
   },
   "outputs": [
    {
     "data": {
      "text/plain": [
       "[1, 3, 6, 10, 15]"
      ]
     },
     "execution_count": 2,
     "metadata": {},
     "output_type": "execute_result"
    }
   ],
   "source": [
    "prefix_sums([1,2,3,4,5])"
   ]
  },
  {
   "cell_type": "code",
   "execution_count": 11,
   "metadata": {
    "ExecuteTime": {
     "end_time": "2022-05-09T14:20:19.874719Z",
     "start_time": "2022-05-09T14:20:19.870602Z"
    }
   },
   "outputs": [
    {
     "data": {
      "text/plain": [
       "14"
      ]
     },
     "execution_count": 11,
     "metadata": {},
     "output_type": "execute_result"
    }
   ],
   "source": [
    "sum_slice(prefix_sums([1,2,3,4,5]),1,4)"
   ]
  },
  {
   "cell_type": "markdown",
   "metadata": {},
   "source": [
    "comparing with cumsum from numpy"
   ]
  },
  {
   "cell_type": "code",
   "execution_count": 119,
   "metadata": {
    "ExecuteTime": {
     "end_time": "2021-04-25T00:24:26.235542Z",
     "start_time": "2021-04-25T00:24:17.525897Z"
    }
   },
   "outputs": [],
   "source": [
    "int_list = random_int_list(10_000_000,0,10)"
   ]
  },
  {
   "cell_type": "code",
   "execution_count": 121,
   "metadata": {
    "ExecuteTime": {
     "end_time": "2021-04-25T00:24:32.284778Z",
     "start_time": "2021-04-25T00:24:30.353756Z"
    }
   },
   "outputs": [],
   "source": [
    "_=prefix_sums(int_list)"
   ]
  },
  {
   "cell_type": "code",
   "execution_count": 120,
   "metadata": {
    "ExecuteTime": {
     "end_time": "2021-04-25T00:24:28.483344Z",
     "start_time": "2021-04-25T00:24:27.423780Z"
    }
   },
   "outputs": [],
   "source": [
    "_=list(np.cumsum(int_list))"
   ]
  },
  {
   "cell_type": "markdown",
   "metadata": {},
   "source": [
    "# [Implementation] Counting Sort O(n + k)\n",
    "\n",
    "better then built-in sort but:\n",
    "- We need to know the limits of the integers in the array (k)\n",
    "- We use more memory ( as we create the counting array )\n",
    "- Is here for pedagogical purposes"
   ]
  },
  {
   "cell_type": "code",
   "execution_count": 13,
   "metadata": {
    "ExecuteTime": {
     "end_time": "2022-04-06T14:56:54.918646Z",
     "start_time": "2022-04-06T14:56:54.914280Z"
    }
   },
   "outputs": [],
   "source": [
    "def counting_sort(A:list,k:int)->list:\n",
    "    \"\"\"\n",
    "    sorts an array of integers N given that abs(N) <= k\n",
    "    \"\"\"\n",
    "    \n",
    "    count = [0]*(2*k +1)   # O(k)\n",
    "    for a in A:            # O(n)\n",
    "        count[a+k] +=1\n",
    "    \n",
    "    index = 0\n",
    "    for i,el in enumerate(count):   #O(n)\n",
    "        for j in range(el):\n",
    "            A[index] = i-k \n",
    "            index +=1\n",
    "    return A\n",
    "    "
   ]
  },
  {
   "cell_type": "code",
   "execution_count": 14,
   "metadata": {
    "ExecuteTime": {
     "end_time": "2022-04-06T14:58:28.840825Z",
     "start_time": "2022-04-06T14:56:55.263875Z"
    }
   },
   "outputs": [],
   "source": [
    "listona_int = random_int_list(100_000_000,-100_000,100_000)\n",
    "listona_int2 = listona_int.copy()"
   ]
  },
  {
   "cell_type": "code",
   "execution_count": 15,
   "metadata": {
    "ExecuteTime": {
     "end_time": "2022-04-06T14:58:49.784791Z",
     "start_time": "2022-04-06T14:58:28.844870Z"
    }
   },
   "outputs": [],
   "source": [
    "_ = counting_sort(listona_int,100_000)"
   ]
  },
  {
   "cell_type": "code",
   "execution_count": 16,
   "metadata": {
    "ExecuteTime": {
     "end_time": "2022-04-06T14:59:35.434607Z",
     "start_time": "2022-04-06T14:58:49.788378Z"
    }
   },
   "outputs": [],
   "source": [
    "_ = sorted(listona_int2)"
   ]
  },
  {
   "cell_type": "markdown",
   "metadata": {
    "ExecuteTime": {
     "end_time": "2021-04-27T00:49:25.665724Z",
     "start_time": "2021-04-27T00:49:25.663439Z"
    }
   },
   "source": [
    "# [Implementation] Leader\n",
    "\n",
    "interestly enought the \"slow\" version O(n log n) is faster for the sizes that we have tested! althouth the O(n**2) is definitedly slower than O(n log n)"
   ]
  },
  {
   "cell_type": "code",
   "execution_count": 20,
   "metadata": {
    "ExecuteTime": {
     "end_time": "2022-04-06T15:02:03.005322Z",
     "start_time": "2022-04-06T15:01:24.575177Z"
    }
   },
   "outputs": [],
   "source": [
    "def leader_slow(A:list)->int:\n",
    "    \"\"\"\n",
    "    returns the leader (element that occurs more than n/2 times) or -1 if there is no leader\n",
    "    - O(n**2)\n",
    "    \"\"\"\n",
    "    n = len(A)\n",
    "    for a in A:\n",
    "        count = 0\n",
    "        for i in A:\n",
    "            if i == a:\n",
    "                count +=1\n",
    "            if count > n/2:\n",
    "                return i\n",
    "    return -1\n",
    "\n",
    "def leader_faster(A:list)->int:\n",
    "    \"\"\"\n",
    "    O(n log n)\n",
    "    \"\"\"\n",
    "    A.sort()\n",
    "    n = len(A)\n",
    "    candidate = A[int(n/2)]\n",
    "    count = 0\n",
    "    for i in A:\n",
    "        if i == candidate:\n",
    "            count +=1\n",
    "        if count > n//2:\n",
    "            return i\n",
    "    return -1\n",
    "\n",
    "def leader_fastest(A:list)->int:\n",
    "    \"\"\"\n",
    "    O(n)\n",
    "    \"\"\"\n",
    "    stack = []\n",
    "    for a in A:\n",
    "        if stack:\n",
    "            if a != stack[-1]:\n",
    "                stack.pop()\n",
    "        else:\n",
    "            stack.append(a)\n",
    "    candidate = stack[-1]\n",
    "    \n",
    "    count = 0\n",
    "    n = len(A)\n",
    "    for a in A:\n",
    "        if a == candidate:\n",
    "            count +=1\n",
    "        if count > n//2:\n",
    "            return a\n",
    "    \n",
    "    return -1\n",
    "\n",
    "def golden_leader(A:list)->int:\n",
    "    n = len(A)\n",
    "    size = 0\n",
    "    for k in range(n):\n",
    "        if (size == 0):\n",
    "            size += 1\n",
    "            value = A[k]\n",
    "        else:\n",
    "            if (value != A[k]):\n",
    "                size -= 1\n",
    "            else:\n",
    "                size += 1\n",
    "    candidate = -1\n",
    "    if (size > 0):\n",
    "        candidate = value\n",
    "    leader = -1\n",
    "    count = 0\n",
    "    for k in range(n):\n",
    "        if (A[k] == candidate):\n",
    "            count += 1\n",
    "    if (count > n // 2):\n",
    "        leader = candidate\n",
    "    return leader"
   ]
  },
  {
   "cell_type": "code",
   "execution_count": 6,
   "metadata": {
    "ExecuteTime": {
     "end_time": "2021-04-27T01:15:48.912858Z",
     "start_time": "2021-04-27T01:15:19.929868Z"
    }
   },
   "outputs": [
    {
     "data": {
      "text/plain": [
       "100"
      ]
     },
     "execution_count": 6,
     "metadata": {},
     "output_type": "execute_result"
    }
   ],
   "source": [
    "leader_slow(random_int_list(99_999,0,1000)+[100]*100_000)"
   ]
  },
  {
   "cell_type": "code",
   "execution_count": 17,
   "metadata": {
    "ExecuteTime": {
     "end_time": "2022-04-06T15:01:17.248949Z",
     "start_time": "2022-04-06T15:01:08.455492Z"
    }
   },
   "outputs": [],
   "source": [
    "listona_leader = random_int_list(9_999_999,0,1000)+[100]*10_000_000"
   ]
  },
  {
   "cell_type": "code",
   "execution_count": 21,
   "metadata": {
    "ExecuteTime": {
     "end_time": "2022-04-06T15:02:06.191730Z",
     "start_time": "2022-04-06T15:02:03.010503Z"
    }
   },
   "outputs": [
    {
     "data": {
      "text/plain": [
       "100"
      ]
     },
     "execution_count": 21,
     "metadata": {},
     "output_type": "execute_result"
    }
   ],
   "source": [
    "leader_faster(listona_leader)"
   ]
  },
  {
   "cell_type": "code",
   "execution_count": 22,
   "metadata": {
    "ExecuteTime": {
     "end_time": "2022-04-06T15:02:10.641476Z",
     "start_time": "2022-04-06T15:02:06.194579Z"
    }
   },
   "outputs": [
    {
     "data": {
      "text/plain": [
       "-1"
      ]
     },
     "execution_count": 22,
     "metadata": {},
     "output_type": "execute_result"
    }
   ],
   "source": [
    "leader_fastest(listona_leader)"
   ]
  },
  {
   "cell_type": "code",
   "execution_count": 23,
   "metadata": {
    "ExecuteTime": {
     "end_time": "2022-04-06T15:02:15.619068Z",
     "start_time": "2022-04-06T15:02:10.643815Z"
    }
   },
   "outputs": [
    {
     "data": {
      "text/plain": [
       "100"
      ]
     },
     "execution_count": 23,
     "metadata": {},
     "output_type": "execute_result"
    }
   ],
   "source": [
    "golden_leader(listona_leader)"
   ]
  },
  {
   "cell_type": "markdown",
   "metadata": {},
   "source": [
    "# [Implementation] Counting Divisors"
   ]
  },
  {
   "cell_type": "code",
   "execution_count": 161,
   "metadata": {
    "ExecuteTime": {
     "end_time": "2021-05-02T03:04:15.222365Z",
     "start_time": "2021-05-02T03:04:15.219113Z"
    }
   },
   "outputs": [],
   "source": [
    "def count_divisors(N:int)->int:\n",
    "    i = 1\n",
    "    count = 0\n",
    "    while i**2 < N:\n",
    "        if N%i == 0:\n",
    "            count +=2\n",
    "        i +=1\n",
    "    if i**2 == N:\n",
    "        count +=1\n",
    "    \n",
    "    return count"
   ]
  },
  {
   "cell_type": "code",
   "execution_count": 162,
   "metadata": {
    "ExecuteTime": {
     "end_time": "2021-05-02T03:04:15.691178Z",
     "start_time": "2021-05-02T03:04:15.687296Z"
    }
   },
   "outputs": [
    {
     "data": {
      "text/plain": [
       "2"
      ]
     },
     "execution_count": 162,
     "metadata": {},
     "output_type": "execute_result"
    }
   ],
   "source": [
    "count_divisors(7)"
   ]
  },
  {
   "cell_type": "markdown",
   "metadata": {},
   "source": [
    "# [Implementation] Primality Test\n",
    "\n",
    "- Finds if a number is prime in O(sqrt(n))\n",
    "- Can be used to implement an algorithm to find all prime numbers up to N-1 with O(n*sqrt(n)) - polinomal time (worse than O(n**2))"
   ]
  },
  {
   "cell_type": "code",
   "execution_count": 176,
   "metadata": {
    "ExecuteTime": {
     "end_time": "2021-05-02T03:13:16.149668Z",
     "start_time": "2021-05-02T03:13:16.146561Z"
    }
   },
   "outputs": [],
   "source": [
    "def is_prime(N:int)->bool:\n",
    "    if N == 0:\n",
    "        return False\n",
    "    i=2\n",
    "    while i**2 <= N:\n",
    "        if N%i == 0:\n",
    "            return False\n",
    "        i += 1\n",
    "    return True"
   ]
  },
  {
   "cell_type": "code",
   "execution_count": 178,
   "metadata": {
    "ExecuteTime": {
     "end_time": "2021-05-02T03:13:29.126068Z",
     "start_time": "2021-05-02T03:13:29.122478Z"
    }
   },
   "outputs": [
    {
     "data": {
      "text/plain": [
       "True"
      ]
     },
     "execution_count": 178,
     "metadata": {},
     "output_type": "execute_result"
    }
   ],
   "source": [
    "is_prime(4)"
   ]
  },
  {
   "cell_type": "code",
   "execution_count": 378,
   "metadata": {
    "ExecuteTime": {
     "end_time": "2021-05-07T22:40:58.441535Z",
     "start_time": "2021-05-07T22:40:39.167049Z"
    }
   },
   "outputs": [],
   "source": [
    "_ = [i for i in range(1_000_000) if is_prime(i)]"
   ]
  },
  {
   "cell_type": "markdown",
   "metadata": {
    "ExecuteTime": {
     "end_time": "2021-05-07T22:27:30.907009Z",
     "start_time": "2021-05-07T22:27:30.892958Z"
    }
   },
   "source": [
    "# [Implementation] Siege\n",
    "- Faster way to find all prime numbers up to N. O(n*log log n )"
   ]
  },
  {
   "cell_type": "code",
   "execution_count": 370,
   "metadata": {
    "ExecuteTime": {
     "end_time": "2021-05-07T22:39:02.465514Z",
     "start_time": "2021-05-07T22:39:02.461271Z"
    }
   },
   "outputs": [],
   "source": [
    "def Find_primes(N:int)->list:\n",
    "    sieve = [True] * (N + 1)\n",
    "    sieve[0] = sieve[1] = False\n",
    "    i = 2\n",
    "    while (i**2 <= N):\n",
    "        if (sieve[i]):\n",
    "            k = i**2\n",
    "            while (k <= N):\n",
    "                sieve[k] = False\n",
    "                k += i\n",
    "        i += 1\n",
    "    return [n for n in range(N+1) if sieve[n]]"
   ]
  },
  {
   "cell_type": "code",
   "execution_count": 379,
   "metadata": {
    "ExecuteTime": {
     "end_time": "2021-05-07T22:40:58.731251Z",
     "start_time": "2021-05-07T22:40:58.444261Z"
    }
   },
   "outputs": [],
   "source": [
    "_=Find_primes(1_000_000)"
   ]
  },
  {
   "cell_type": "markdown",
   "metadata": {},
   "source": [
    "# [Implementation] Factorization"
   ]
  },
  {
   "cell_type": "code",
   "execution_count": 405,
   "metadata": {
    "ExecuteTime": {
     "end_time": "2021-05-07T23:15:14.887457Z",
     "start_time": "2021-05-07T23:15:14.882725Z"
    }
   },
   "outputs": [],
   "source": [
    "def prime_factors(N:int)->list:\n",
    "    F = [0]*(N+1)\n",
    "    i=2\n",
    "    while i**2 <= N:\n",
    "        if F[i]==0:\n",
    "            k = i**2\n",
    "            while k<=N:\n",
    "                F[k] = i\n",
    "                k +=i\n",
    "        i += 1\n",
    "    \n",
    "    return F\n",
    "\n",
    "def factorization(x):\n",
    "    primeFactors = []\n",
    "    F = prime_factors(x)\n",
    "    while (F[x] > 0):\n",
    "        primeFactors += [F[x]]\n",
    "        x //= F[x]\n",
    "    primeFactors += [x]\n",
    "    return sorted(primeFactors)"
   ]
  },
  {
   "cell_type": "code",
   "execution_count": 412,
   "metadata": {
    "ExecuteTime": {
     "end_time": "2021-05-07T23:46:17.098871Z",
     "start_time": "2021-05-07T23:46:17.095433Z"
    }
   },
   "outputs": [
    {
     "data": {
      "text/plain": [
       "[2, 2, 5]"
      ]
     },
     "execution_count": 412,
     "metadata": {},
     "output_type": "execute_result"
    }
   ],
   "source": [
    "factorization(20)"
   ]
  },
  {
   "cell_type": "markdown",
   "metadata": {},
   "source": [
    "# [Implementation] Binary Tree"
   ]
  },
  {
   "cell_type": "code",
   "execution_count": 90,
   "metadata": {
    "ExecuteTime": {
     "end_time": "2022-04-07T19:03:39.003097Z",
     "start_time": "2022-04-07T19:03:38.996896Z"
    }
   },
   "outputs": [],
   "source": [
    "class Node:\n",
    "    def __init__(self,val,left=None, right=None):\n",
    "        self.val = val\n",
    "        self.left = left\n",
    "        self.right = right\n",
    "\n",
    "\"\"\"\n",
    "     a\n",
    "    / \\\n",
    "   b   c\n",
    "  / \\\n",
    " d   e\n",
    "    / \\\n",
    "   f   g\n",
    "\"\"\"\n",
    "\n",
    "\n",
    "a = Node(1)\n",
    "b = Node(2)\n",
    "c = Node(3)\n",
    "d = Node(4)\n",
    "e = Node(5)\n",
    "f = Node(6)\n",
    "g = Node(7)\n",
    "\n",
    "a.left = b\n",
    "a.right = c\n",
    "b.left = d\n",
    "b.right = e\n",
    "e.left = f\n",
    "e.right = g\n",
    "    "
   ]
  },
  {
   "cell_type": "code",
   "execution_count": 117,
   "metadata": {
    "ExecuteTime": {
     "end_time": "2022-04-07T19:17:10.731049Z",
     "start_time": "2022-04-07T19:17:10.727483Z"
    }
   },
   "outputs": [
    {
     "data": {
      "text/plain": [
       "0"
      ]
     },
     "execution_count": 117,
     "metadata": {},
     "output_type": "execute_result"
    }
   ],
   "source": [
    "0%2"
   ]
  },
  {
   "cell_type": "code",
   "execution_count": 115,
   "metadata": {
    "ExecuteTime": {
     "end_time": "2022-04-07T19:14:27.687792Z",
     "start_time": "2022-04-07T19:14:27.682863Z"
    }
   },
   "outputs": [
    {
     "data": {
      "text/plain": [
       "'1111010111000'"
      ]
     },
     "execution_count": 115,
     "metadata": {},
     "output_type": "execute_result"
    }
   ],
   "source": [
    "dec2bin(7864)"
   ]
  },
  {
   "cell_type": "code",
   "execution_count": 112,
   "metadata": {
    "ExecuteTime": {
     "end_time": "2022-04-07T19:14:08.076764Z",
     "start_time": "2022-04-07T19:14:08.073761Z"
    }
   },
   "outputs": [],
   "source": [
    "def dec2bin(num:int)->str:\n",
    "    if num == 0:\n",
    "        return \"\"\n",
    "\n",
    "    return dec2bin(num//2) + str(num%2)"
   ]
  },
  {
   "cell_type": "code",
   "execution_count": 119,
   "metadata": {
    "ExecuteTime": {
     "end_time": "2022-04-07T20:24:55.293306Z",
     "start_time": "2022-04-07T20:24:55.276815Z"
    }
   },
   "outputs": [
    {
     "data": {
      "text/plain": [
       "'23'"
      ]
     },
     "execution_count": 119,
     "metadata": {},
     "output_type": "execute_result"
    }
   ],
   "source": [
    "al = \"2\"\n",
    "al += \"3\"\n",
    "al"
   ]
  },
  {
   "cell_type": "code",
   "execution_count": 65,
   "metadata": {
    "ExecuteTime": {
     "end_time": "2022-04-07T18:46:24.536201Z",
     "start_time": "2022-04-07T18:46:24.524226Z"
    }
   },
   "outputs": [],
   "source": [
    "def reverseString(string:str)->str:\n",
    "    if not string: #O(1)\n",
    "        return string\n",
    "    \n",
    "    return string[-1] + reverseString(string[:-1]) #O(n)\n",
    "    \n",
    "def isPalindrome(string:str)->bool:\n",
    "    if not string:\n",
    "        return True\n",
    "    \n",
    "    if string[0] != string [-1]:\n",
    "        return False\n",
    "    \n",
    "    return isPalindrome(string[1:-1])\n",
    "    "
   ]
  },
  {
   "cell_type": "code",
   "execution_count": 71,
   "metadata": {
    "ExecuteTime": {
     "end_time": "2022-04-07T18:53:32.603564Z",
     "start_time": "2022-04-07T18:53:32.599439Z"
    }
   },
   "outputs": [
    {
     "data": {
      "text/plain": [
       "True"
      ]
     },
     "execution_count": 71,
     "metadata": {},
     "output_type": "execute_result"
    }
   ],
   "source": [
    "isPalindrome(\"8\")"
   ]
  },
  {
   "cell_type": "code",
   "execution_count": 47,
   "metadata": {
    "ExecuteTime": {
     "end_time": "2022-04-07T15:18:00.923663Z",
     "start_time": "2022-04-07T15:18:00.915389Z"
    }
   },
   "outputs": [],
   "source": [
    "a = TreeNode(1)\n",
    "b = TreeNode(4)\n",
    "c = TreeNode(0)\n",
    "\n",
    "b.left = a\n",
    "b.right = c"
   ]
  },
  {
   "cell_type": "code",
   "execution_count": 51,
   "metadata": {
    "ExecuteTime": {
     "end_time": "2022-04-07T18:24:42.848969Z",
     "start_time": "2022-04-07T18:24:42.583674Z"
    }
   },
   "outputs": [
    {
     "ename": "NameError",
     "evalue": "name 'i' is not defined",
     "output_type": "error",
     "traceback": [
      "\u001b[0;31m---------------------------------------------------------------------------\u001b[0m",
      "\u001b[0;31mNameError\u001b[0m                                 Traceback (most recent call last)",
      "\u001b[0;32m<ipython-input-51-e6e10e8a770c>\u001b[0m in \u001b[0;36m<module>\u001b[0;34m\u001b[0m\n\u001b[0;32m----> 1\u001b[0;31m \u001b[0mtreeLinker\u001b[0m\u001b[0;34m(\u001b[0m\u001b[0;34m[\u001b[0m\u001b[0;36m0\u001b[0m\u001b[0;34m]\u001b[0m\u001b[0;34m)\u001b[0m\u001b[0;34m\u001b[0m\u001b[0;34m\u001b[0m\u001b[0m\n\u001b[0m",
      "\u001b[0;32m<ipython-input-50-bdde8c1b42eb>\u001b[0m in \u001b[0;36mtreeLinker\u001b[0;34m(tree_array)\u001b[0m\n\u001b[1;32m      9\u001b[0m     \u001b[0;32mif\u001b[0m \u001b[0mlen\u001b[0m\u001b[0;34m(\u001b[0m\u001b[0mtree_array\u001b[0m\u001b[0;34m)\u001b[0m \u001b[0;34m==\u001b[0m \u001b[0;36m0\u001b[0m\u001b[0;34m:\u001b[0m\u001b[0;34m\u001b[0m\u001b[0;34m\u001b[0m\u001b[0m\n\u001b[1;32m     10\u001b[0m         \u001b[0;32mreturn\u001b[0m \u001b[0mTreeNode\u001b[0m\u001b[0;34m(\u001b[0m\u001b[0mval\u001b[0m\u001b[0;34m=\u001b[0m\u001b[0mtree_array\u001b[0m\u001b[0;34m[\u001b[0m\u001b[0;36m0\u001b[0m\u001b[0;34m]\u001b[0m\u001b[0;34m)\u001b[0m\u001b[0;34m\u001b[0m\u001b[0;34m\u001b[0m\u001b[0m\n\u001b[0;32m---> 11\u001b[0;31m     \u001b[0mroot\u001b[0m \u001b[0;34m=\u001b[0m \u001b[0mtreeLinker\u001b[0m\u001b[0;34m(\u001b[0m\u001b[0mval\u001b[0m\u001b[0;34m=\u001b[0m \u001b[0mtree_array\u001b[0m\u001b[0;34m[\u001b[0m\u001b[0;36m1\u001b[0m\u001b[0;34m:\u001b[0m\u001b[0;34m]\u001b[0m\u001b[0;34m,\u001b[0m \u001b[0mleft\u001b[0m \u001b[0;34m=\u001b[0m \u001b[0mtreeLinker\u001b[0m\u001b[0;34m(\u001b[0m\u001b[0mtree_array\u001b[0m\u001b[0;34m[\u001b[0m\u001b[0;36m2\u001b[0m\u001b[0;34m*\u001b[0m\u001b[0mi\u001b[0m \u001b[0;34m+\u001b[0m \u001b[0;36m1\u001b[0m\u001b[0;34m]\u001b[0m\u001b[0;34m)\u001b[0m\u001b[0;34m,\u001b[0m \u001b[0mright\u001b[0m \u001b[0;34m=\u001b[0m \u001b[0mtreeLinker\u001b[0m\u001b[0;34m(\u001b[0m\u001b[0mtree_array\u001b[0m\u001b[0;34m[\u001b[0m\u001b[0;36m2\u001b[0m\u001b[0;34m*\u001b[0m\u001b[0mi\u001b[0m \u001b[0;34m+\u001b[0m \u001b[0;36m2\u001b[0m\u001b[0;34m]\u001b[0m\u001b[0;34m)\u001b[0m\u001b[0;34m)\u001b[0m\u001b[0;34m\u001b[0m\u001b[0;34m\u001b[0m\u001b[0m\n\u001b[0m",
      "\u001b[0;31mNameError\u001b[0m: name 'i' is not defined"
     ]
    }
   ],
   "source": [
    "treeLinker([0])"
   ]
  },
  {
   "cell_type": "markdown",
   "metadata": {},
   "source": [
    "# [Implementation] Linked Lists"
   ]
  },
  {
   "cell_type": "code",
   "execution_count": 303,
   "metadata": {
    "ExecuteTime": {
     "end_time": "2022-04-11T16:06:45.167836Z",
     "start_time": "2022-04-11T16:06:45.159894Z"
    }
   },
   "outputs": [
    {
     "data": {
      "text/plain": [
       "['a', 'b', 'c', 'd']"
      ]
     },
     "execution_count": 303,
     "metadata": {},
     "output_type": "execute_result"
    }
   ],
   "source": [
    "class listNode:\n",
    "    def __init__(self, val, next_node = None):\n",
    "        self.val = val\n",
    "        self.next_node = next_node\n",
    "        \n",
    "a= listNode(\"a\")\n",
    "b= listNode(\"b\")\n",
    "c= listNode(\"c\")\n",
    "d= listNode(\"d\")\n",
    "\n",
    "a.next_node = b\n",
    "b.next_node = c\n",
    "c.next_node = d\n",
    "\n",
    "\n",
    "\n",
    "def listTrav(node, array):\n",
    "    if not node:\n",
    "        return \n",
    "    else:\n",
    "        array.append(node.val)\n",
    "        listTrav(node.next_node,array)\n",
    "    \n",
    "def ListTraversal(node):\n",
    "    array = []\n",
    "    listTrav(node,array)\n",
    "    return array\n",
    "\n",
    "\n",
    "ListTraversal(a)"
   ]
  },
  {
   "cell_type": "markdown",
   "metadata": {},
   "source": [
    "# [Implementation] Graph - Undirected"
   ]
  },
  {
   "cell_type": "code",
   "execution_count": 91,
   "metadata": {
    "ExecuteTime": {
     "end_time": "2022-04-12T15:14:32.851140Z",
     "start_time": "2022-04-12T15:14:32.845169Z"
    }
   },
   "outputs": [],
   "source": [
    "class graphNode:\n",
    "    def __init__(self,val):\n",
    "        self.val = val\n",
    "        self.neigh = set()\n",
    "    \n",
    "    def addEdges(self,nodes):\n",
    "        for n in nodes:\n",
    "            self.neigh.add(n)\n",
    "            if self not in n.neigh:\n",
    "                n.addEdges([self])\n",
    "    \n",
    "    def __str__(self):\n",
    "        n_vals = [n.val for n in self.neigh]\n",
    "        return f\"{self.val}: {n_vals}\"\n",
    "        \n",
    "a = graphNode(\"a\")\n",
    "b = graphNode(\"b\")\n",
    "c = graphNode(\"c\")\n",
    "d = graphNode(\"d\")\n",
    "\n",
    "a.addEdges([b,c])\n",
    "c.addEdges([b])"
   ]
  },
  {
   "cell_type": "code",
   "execution_count": 92,
   "metadata": {
    "ExecuteTime": {
     "end_time": "2022-04-12T15:14:33.712306Z",
     "start_time": "2022-04-12T15:14:33.708988Z"
    }
   },
   "outputs": [
    {
     "name": "stdout",
     "output_type": "stream",
     "text": [
      "a: ['b', 'c']\n",
      "b: ['c', 'a']\n",
      "c: ['b', 'a']\n",
      "d: []\n"
     ]
    }
   ],
   "source": [
    "print(a)\n",
    "print(b)\n",
    "print(c)\n",
    "print(d)"
   ]
  },
  {
   "cell_type": "code",
   "execution_count": 90,
   "metadata": {
    "ExecuteTime": {
     "end_time": "2022-04-12T15:13:43.637071Z",
     "start_time": "2022-04-12T15:13:43.633431Z"
    }
   },
   "outputs": [
    {
     "data": {
      "text/plain": [
       "{<__main__.graphNode at 0x7f8092156050>,\n",
       " <__main__.graphNode at 0x7f8092156590>}"
      ]
     },
     "execution_count": 90,
     "metadata": {},
     "output_type": "execute_result"
    }
   ],
   "source": [
    "a.neigh"
   ]
  },
  {
   "cell_type": "markdown",
   "metadata": {},
   "source": [
    "# [Implementation] Combinations"
   ]
  },
  {
   "cell_type": "code",
   "execution_count": 163,
   "metadata": {
    "ExecuteTime": {
     "end_time": "2022-05-18T02:23:47.169758Z",
     "start_time": "2022-05-18T02:23:47.155183Z"
    }
   },
   "outputs": [],
   "source": [
    "def combs(arr:list)->list:\n",
    "    if not arr:\n",
    "        return [[]]\n",
    "    \n",
    "    withfirst_combs=[]\n",
    "    tail_combs = combs(arr[1:])\n",
    "    for tail in tail_combs:\n",
    "        withfirst_combs.append([arr[0]]+tail)\n",
    "    \n",
    "    return withfirst_combs+tail_combs\n",
    "    "
   ]
  },
  {
   "cell_type": "code",
   "execution_count": 165,
   "metadata": {
    "ExecuteTime": {
     "end_time": "2022-05-18T02:24:18.494123Z",
     "start_time": "2022-05-18T02:24:18.487038Z"
    }
   },
   "outputs": [
    {
     "data": {
      "text/plain": [
       "[[],\n",
       " ['1'],\n",
       " ['2'],\n",
       " ['1', '2'],\n",
       " ['3'],\n",
       " ['1', '3'],\n",
       " ['2', '3'],\n",
       " ['1', '2', '3'],\n",
       " ['4'],\n",
       " ['1', '4'],\n",
       " ['2', '4'],\n",
       " ['1', '2', '4'],\n",
       " ['3', '4'],\n",
       " ['1', '3', '4'],\n",
       " ['2', '3', '4'],\n",
       " ['1', '2', '3', '4'],\n",
       " ['5'],\n",
       " ['1', '5'],\n",
       " ['2', '5'],\n",
       " ['1', '2', '5'],\n",
       " ['3', '5'],\n",
       " ['1', '3', '5'],\n",
       " ['2', '3', '5'],\n",
       " ['1', '2', '3', '5'],\n",
       " ['4', '5'],\n",
       " ['1', '4', '5'],\n",
       " ['2', '4', '5'],\n",
       " ['1', '2', '4', '5'],\n",
       " ['3', '4', '5'],\n",
       " ['1', '3', '4', '5'],\n",
       " ['2', '3', '4', '5'],\n",
       " ['1', '2', '3', '4', '5']]"
      ]
     },
     "execution_count": 165,
     "metadata": {},
     "output_type": "execute_result"
    }
   ],
   "source": [
    "comb(['1','2','3','4','5'])"
   ]
  },
  {
   "cell_type": "markdown",
   "metadata": {},
   "source": [
    "# [Implementation] Permutation"
   ]
  },
  {
   "cell_type": "code",
   "execution_count": 144,
   "metadata": {
    "ExecuteTime": {
     "end_time": "2022-04-23T00:26:09.303695Z",
     "start_time": "2022-04-23T00:26:09.299174Z"
    }
   },
   "outputs": [],
   "source": [
    "def perm(elem:list):\n",
    "    if not elem:  return [[]]\n",
    "    \n",
    "    last = elem.pop()\n",
    "    rest = elem\n",
    "    \n",
    "    rest_perm = perm(rest)\n",
    "    withlast_perms = []\n",
    "\n",
    "    for c in rest_perm:\n",
    "        for i in range(len(c)+1):\n",
    "            with_last = c[:i]+[last]+c[i:]\n",
    "            withlast_perms.append(with_last)\n",
    "    \n",
    "    return withlast_perms"
   ]
  },
  {
   "cell_type": "code",
   "execution_count": 145,
   "metadata": {
    "ExecuteTime": {
     "end_time": "2022-04-23T00:26:09.837753Z",
     "start_time": "2022-04-23T00:26:09.830831Z"
    }
   },
   "outputs": [
    {
     "data": {
      "text/plain": [
       "[[5, 3, 2, 1],\n",
       " [3, 5, 2, 1],\n",
       " [3, 2, 5, 1],\n",
       " [3, 2, 1, 5],\n",
       " [5, 2, 3, 1],\n",
       " [2, 5, 3, 1],\n",
       " [2, 3, 5, 1],\n",
       " [2, 3, 1, 5],\n",
       " [5, 2, 1, 3],\n",
       " [2, 5, 1, 3],\n",
       " [2, 1, 5, 3],\n",
       " [2, 1, 3, 5],\n",
       " [5, 3, 1, 2],\n",
       " [3, 5, 1, 2],\n",
       " [3, 1, 5, 2],\n",
       " [3, 1, 2, 5],\n",
       " [5, 1, 3, 2],\n",
       " [1, 5, 3, 2],\n",
       " [1, 3, 5, 2],\n",
       " [1, 3, 2, 5],\n",
       " [5, 1, 2, 3],\n",
       " [1, 5, 2, 3],\n",
       " [1, 2, 5, 3],\n",
       " [1, 2, 3, 5]]"
      ]
     },
     "execution_count": 145,
     "metadata": {},
     "output_type": "execute_result"
    }
   ],
   "source": [
    "perm([1,2,3,5])"
   ]
  },
  {
   "cell_type": "markdown",
   "metadata": {},
   "source": [
    "# [Implementation] binary search"
   ]
  },
  {
   "cell_type": "code",
   "execution_count": 12,
   "metadata": {
    "ExecuteTime": {
     "end_time": "2022-06-17T09:58:51.098893Z",
     "start_time": "2022-06-17T09:58:51.093299Z"
    }
   },
   "outputs": [],
   "source": [
    "#left\n",
    "def bleft(a:list,x)->int:\n",
    "    lo = 0\n",
    "    hi = len(a)\n",
    "    while lo < hi:\n",
    "        mid = (lo + hi) // 2\n",
    "        if a[mid] < x:\n",
    "            lo = mid + 1\n",
    "        else:\n",
    "            hi = mid\n",
    "    return lo\n",
    "\n",
    "#right\n",
    "def bright(a:list,x)->int:\n",
    "    lo = 0\n",
    "    hi = len(a) -1\n",
    "    while lo < hi:\n",
    "        mid = (lo + hi) // 2\n",
    "        if a[mid] <= x: \n",
    "            lo = mid + 1\n",
    "        else:\n",
    "            hi = mid \n",
    "    return lo"
   ]
  },
  {
   "cell_type": "code",
   "execution_count": 13,
   "metadata": {
    "ExecuteTime": {
     "end_time": "2022-06-17T09:58:51.837387Z",
     "start_time": "2022-06-17T09:58:51.832721Z"
    }
   },
   "outputs": [
    {
     "data": {
      "text/plain": [
       "0"
      ]
     },
     "execution_count": 13,
     "metadata": {},
     "output_type": "execute_result"
    }
   ],
   "source": [
    "l = [4,4,4]\n",
    "bleft(l,4)"
   ]
  },
  {
   "cell_type": "code",
   "execution_count": 14,
   "metadata": {
    "ExecuteTime": {
     "end_time": "2022-06-17T09:58:52.825121Z",
     "start_time": "2022-06-17T09:58:52.820966Z"
    }
   },
   "outputs": [
    {
     "data": {
      "text/plain": [
       "2"
      ]
     },
     "execution_count": 14,
     "metadata": {},
     "output_type": "execute_result"
    }
   ],
   "source": [
    "bright(l,4)"
   ]
  },
  {
   "cell_type": "markdown",
   "metadata": {
    "ExecuteTime": {
     "end_time": "2022-05-07T12:44:32.612560Z",
     "start_time": "2022-05-07T12:44:32.563910Z"
    }
   },
   "source": [
    "# [Implementation] Merge Sort"
   ]
  },
  {
   "cell_type": "code",
   "execution_count": 44,
   "metadata": {
    "ExecuteTime": {
     "end_time": "2022-05-07T13:57:12.963763Z",
     "start_time": "2022-05-07T13:57:12.958159Z"
    }
   },
   "outputs": [],
   "source": [
    "def mergeSort(a):\n",
    "    \"\"\"\n",
    "    returns a new list with the same elements as \"a\" but in sorted order\n",
    "    \"\"\"\n",
    "    if len(a)==1:\n",
    "        return a\n",
    "    else:\n",
    "        left = mergeSort(a[:len(a)//2])\n",
    "        right = mergeSort(a[len(a)//2:])\n",
    "    \n",
    "    i = j = 0\n",
    "    sorted_l = []\n",
    "    while i < len(left) or j < len(right):\n",
    "        if j >= len(right) or (i < len(left) and left[i] < right[j]):\n",
    "            sorted_l.append(left[i])\n",
    "            i +=1\n",
    "        else:\n",
    "            sorted_l.append(right[j])\n",
    "            j += 1\n",
    "    return sorted_l"
   ]
  },
  {
   "cell_type": "code",
   "execution_count": 48,
   "metadata": {
    "ExecuteTime": {
     "end_time": "2022-05-07T13:58:20.177608Z",
     "start_time": "2022-05-07T13:58:20.172722Z"
    }
   },
   "outputs": [
    {
     "data": {
      "text/plain": [
       "[-200, 0, 1, 1, 2, 2, 3, 7, 7, 8, 22]"
      ]
     },
     "execution_count": 48,
     "metadata": {},
     "output_type": "execute_result"
    }
   ],
   "source": [
    "a = [3,1,8,7,22,2,1,2,7,0,-200]\n",
    "mergeSort(a)"
   ]
  },
  {
   "cell_type": "markdown",
   "metadata": {},
   "source": [
    "# [Implementation] Quick Sort"
   ]
  },
  {
   "cell_type": "code",
   "execution_count": 160,
   "metadata": {
    "ExecuteTime": {
     "end_time": "2022-05-16T17:44:49.630942Z",
     "start_time": "2022-05-16T17:44:49.623652Z"
    }
   },
   "outputs": [],
   "source": [
    "import random\n",
    "def quickSort(arr:list)->None:\n",
    "    lo,hi = 0, len(arr)-1\n",
    "    def sorthelper(arr,lo,hi):\n",
    "        if lo<hi:\n",
    "            p = partition(arr,lo,hi)\n",
    "            sorthelper(arr,lo,p-1)\n",
    "            sorthelper(arr,p+1,hi)\n",
    "    \n",
    "    sorthelper(arr,lo,hi)\n",
    "    \n",
    "\n",
    "def partition(arr:list,lo:int,hi:int)->int:\n",
    "    i = lo\n",
    "    pivot_index = random.randint(lo,hi)\n",
    "    arr[hi],arr[pivot_index]=arr[pivot_index],arr[hi]\n",
    "    pivot = arr[hi]\n",
    "    for j in range(lo,hi):\n",
    "        if arr[j]<=pivot:\n",
    "            arr[i],arr[j]=arr[j],arr[i]\n",
    "            i +=1\n",
    "    arr[hi],arr[i]=arr[i],arr[hi]\n",
    "    \n",
    "    return i"
   ]
  },
  {
   "cell_type": "code",
   "execution_count": 161,
   "metadata": {
    "ExecuteTime": {
     "end_time": "2022-05-16T17:44:50.240886Z",
     "start_time": "2022-05-16T17:44:50.233684Z"
    }
   },
   "outputs": [
    {
     "name": "stdout",
     "output_type": "stream",
     "text": [
      "[0, 1, 1, 2, 3, 4, 5, 6, 6, 7, 8, 8, 12]\n"
     ]
    }
   ],
   "source": [
    "a = [1,5,2,1,6,8,3,0,8,12,4,6,7]\n",
    "quickSort(a)\n",
    "print(a)"
   ]
  },
  {
   "cell_type": "markdown",
   "metadata": {},
   "source": [
    "# [ Implementation] BFS and DFS"
   ]
  },
  {
   "cell_type": "code",
   "execution_count": 1,
   "metadata": {
    "ExecuteTime": {
     "end_time": "2022-06-15T03:52:58.592569Z",
     "start_time": "2022-06-15T03:52:58.583798Z"
    }
   },
   "outputs": [],
   "source": [
    "class Node:\n",
    "    def __init__(self,val,left=None, right=None):\n",
    "        self.val = val\n",
    "        self.left = left\n",
    "        self.right = right\n",
    "        self.parent = None\n",
    "\n",
    "\"\"\"\n",
    "     a\n",
    "    / \\\n",
    "   b   c\n",
    "  / \\\n",
    " d   e\n",
    "    / \\\n",
    "   f   g\n",
    "\"\"\"\n",
    "\n",
    "\n",
    "a = Node(\"a\")\n",
    "b = Node(\"b\")\n",
    "c = Node(\"c\")\n",
    "d = Node(\"d\")\n",
    "e = Node(\"e\")\n",
    "f = Node(\"f\")\n",
    "g = Node(\"g\")\n",
    "\n",
    "a.left = b\n",
    "b.parent = a\n",
    "a.right = c\n",
    "c.parent = a\n",
    "b.left = d\n",
    "d.parent = b\n",
    "b.right = e\n",
    "e.parent = b\n",
    "e.left = f\n",
    "f.parent = e\n",
    "e.right = g\n",
    "g.parent = e"
   ]
  },
  {
   "cell_type": "code",
   "execution_count": 146,
   "metadata": {
    "ExecuteTime": {
     "end_time": "2022-05-15T15:44:16.363678Z",
     "start_time": "2022-05-15T15:44:16.360300Z"
    }
   },
   "outputs": [],
   "source": [
    "def lowestCommonAncestor(p,q):\n",
    "    visited = set()\n",
    "    while p:\n",
    "        visited.add(p)\n",
    "        p = p.parent\n",
    "    \n",
    "    while q not in visited:\n",
    "        q = q.parent\n",
    "    \n",
    "    return q.val"
   ]
  },
  {
   "cell_type": "code",
   "execution_count": 147,
   "metadata": {
    "ExecuteTime": {
     "end_time": "2022-05-15T15:44:17.064480Z",
     "start_time": "2022-05-15T15:44:17.058659Z"
    }
   },
   "outputs": [
    {
     "data": {
      "text/plain": [
       "'b'"
      ]
     },
     "execution_count": 147,
     "metadata": {},
     "output_type": "execute_result"
    }
   ],
   "source": [
    "lowestCommonAncestor(d,g)"
   ]
  },
  {
   "cell_type": "markdown",
   "metadata": {},
   "source": [
    "## BFS"
   ]
  },
  {
   "cell_type": "code",
   "execution_count": 35,
   "metadata": {
    "ExecuteTime": {
     "end_time": "2022-05-13T21:00:49.091133Z",
     "start_time": "2022-05-13T21:00:49.086927Z"
    }
   },
   "outputs": [],
   "source": [
    "from collections import deque\n",
    "\n",
    "def dfs(root):\n",
    "    queue = deque([root])\n",
    "    res = []\n",
    "    while queue:\n",
    "        node = queue.popleft()\n",
    "        if node:\n",
    "            res.append(node.val)\n",
    "            queue.append(node.left)\n",
    "            queue.append(node.right)\n",
    "    \n",
    "    return res"
   ]
  },
  {
   "cell_type": "code",
   "execution_count": null,
   "metadata": {},
   "outputs": [],
   "source": [
    "\"\"\"\n",
    "     a\n",
    "    / \\\n",
    "   b   c\n",
    "  / \\\n",
    " d   e\n",
    "    / \\\n",
    "   f   g\n",
    "\"\"\""
   ]
  },
  {
   "cell_type": "code",
   "execution_count": 39,
   "metadata": {
    "ExecuteTime": {
     "end_time": "2022-05-13T21:01:28.484359Z",
     "start_time": "2022-05-13T21:01:28.480229Z"
    }
   },
   "outputs": [
    {
     "data": {
      "text/plain": [
       "['a', 'b', 'c', 'd', 'e', 'f', 'g']"
      ]
     },
     "execution_count": 39,
     "metadata": {},
     "output_type": "execute_result"
    }
   ],
   "source": [
    "dfs(a)"
   ]
  },
  {
   "cell_type": "markdown",
   "metadata": {
    "ExecuteTime": {
     "end_time": "2022-05-13T21:02:22.803671Z",
     "start_time": "2022-05-13T21:02:22.801328Z"
    }
   },
   "source": [
    "## DFS preorder"
   ]
  },
  {
   "cell_type": "code",
   "execution_count": 5,
   "metadata": {
    "ExecuteTime": {
     "end_time": "2022-06-15T03:54:12.509328Z",
     "start_time": "2022-06-15T03:54:12.503333Z"
    }
   },
   "outputs": [],
   "source": [
    "def recursivePreOrder(root):\n",
    "    res = []\n",
    "    def dfs_pre(root):\n",
    "        if not root:\n",
    "            return\n",
    "\n",
    "        res.append(root.val)\n",
    "        dfs_pre(root.left)\n",
    "        dfs_pre(root.right)\n",
    "        \n",
    "    dfs_pre(root)\n",
    "    return res\n",
    "\n",
    "def iterativePreOrder(root):\n",
    "    res = []\n",
    "    stack = [root]\n",
    "    while stack:\n",
    "        node = stack.pop()\n",
    "        if node:\n",
    "            res.append(node.val)\n",
    "            stack.append(node.right)\n",
    "            stack.append(node.left)\n",
    "            \n",
    "    \n",
    "    return res"
   ]
  },
  {
   "cell_type": "code",
   "execution_count": 6,
   "metadata": {
    "ExecuteTime": {
     "end_time": "2022-06-15T03:54:13.117654Z",
     "start_time": "2022-06-15T03:54:13.113955Z"
    }
   },
   "outputs": [
    {
     "data": {
      "text/plain": [
       "'\\n     a\\n    /    b   c\\n  /  d   e\\n    /    f   g\\n'"
      ]
     },
     "execution_count": 6,
     "metadata": {},
     "output_type": "execute_result"
    }
   ],
   "source": [
    "\"\"\"\n",
    "     a\n",
    "    / \\\n",
    "   b   c\n",
    "  / \\\n",
    " d   e\n",
    "    / \\\n",
    "   f   g\n",
    "\"\"\""
   ]
  },
  {
   "cell_type": "code",
   "execution_count": 7,
   "metadata": {
    "ExecuteTime": {
     "end_time": "2022-06-15T03:54:14.568365Z",
     "start_time": "2022-06-15T03:54:14.564666Z"
    }
   },
   "outputs": [
    {
     "data": {
      "text/plain": [
       "['a', 'b', 'd', 'e', 'f', 'g', 'c']"
      ]
     },
     "execution_count": 7,
     "metadata": {},
     "output_type": "execute_result"
    }
   ],
   "source": [
    "recursivePreOrder(a)"
   ]
  },
  {
   "cell_type": "code",
   "execution_count": 4,
   "metadata": {
    "ExecuteTime": {
     "end_time": "2022-06-15T03:53:10.637368Z",
     "start_time": "2022-06-15T03:53:10.633342Z"
    }
   },
   "outputs": [
    {
     "data": {
      "text/plain": [
       "['a', 'b', 'd', 'e', 'f', 'g', 'c']"
      ]
     },
     "execution_count": 4,
     "metadata": {},
     "output_type": "execute_result"
    }
   ],
   "source": [
    "iterativePreOrder(a)"
   ]
  },
  {
   "cell_type": "markdown",
   "metadata": {},
   "source": [
    "## DFS inorder"
   ]
  },
  {
   "cell_type": "code",
   "execution_count": 105,
   "metadata": {
    "ExecuteTime": {
     "end_time": "2022-05-13T21:45:02.351051Z",
     "start_time": "2022-05-13T21:45:02.344622Z"
    }
   },
   "outputs": [],
   "source": [
    "def recursiveInOrder(root):\n",
    "    res = []\n",
    "    def dfs_in(root):\n",
    "        nonlocal res\n",
    "        \n",
    "        if not root:\n",
    "            return\n",
    "\n",
    "        left = dfs_in(root.left)\n",
    "        res.append(root.val)\n",
    "        right = dfs_in(root.right)\n",
    "        \n",
    "    dfs_in(root)\n",
    "    return res\n",
    "\n",
    "def iterativeInOrder(root):\n",
    "    res = []\n",
    "    stack = []\n",
    "    node = root\n",
    "    while stack or node:\n",
    "        if node:\n",
    "            stack.append(node)\n",
    "            node = node.left\n",
    "        else:\n",
    "            node = stack.pop()\n",
    "            res.append(node.val)\n",
    "            node = node.right\n",
    "               \n",
    "    return res"
   ]
  },
  {
   "cell_type": "code",
   "execution_count": null,
   "metadata": {},
   "outputs": [],
   "source": [
    "\"\"\"\n",
    "     a\n",
    "    / \\\n",
    "   b   c\n",
    "  / \\\n",
    " d   e\n",
    "    / \\\n",
    "   f   g\n",
    "\"\"\""
   ]
  },
  {
   "cell_type": "code",
   "execution_count": 95,
   "metadata": {
    "ExecuteTime": {
     "end_time": "2022-05-13T21:30:10.964059Z",
     "start_time": "2022-05-13T21:30:10.958689Z"
    }
   },
   "outputs": [
    {
     "data": {
      "text/plain": [
       "['d', 'b', 'f', 'e', 'g', 'a', 'c']"
      ]
     },
     "execution_count": 95,
     "metadata": {},
     "output_type": "execute_result"
    }
   ],
   "source": [
    "recursiveInOrder(a)"
   ]
  },
  {
   "cell_type": "code",
   "execution_count": 106,
   "metadata": {
    "ExecuteTime": {
     "end_time": "2022-05-13T21:45:07.178317Z",
     "start_time": "2022-05-13T21:45:07.174233Z"
    }
   },
   "outputs": [
    {
     "data": {
      "text/plain": [
       "['d', 'b', 'f', 'e', 'g', 'a', 'c']"
      ]
     },
     "execution_count": 106,
     "metadata": {},
     "output_type": "execute_result"
    }
   ],
   "source": [
    "iterativeInOrder(a)"
   ]
  },
  {
   "cell_type": "markdown",
   "metadata": {},
   "source": [
    "## DFS postorder"
   ]
  },
  {
   "cell_type": "code",
   "execution_count": 137,
   "metadata": {
    "ExecuteTime": {
     "end_time": "2022-05-13T22:43:47.235006Z",
     "start_time": "2022-05-13T22:43:47.228963Z"
    }
   },
   "outputs": [],
   "source": [
    "def recursivePostOrder(root):\n",
    "    res = []\n",
    "    def dfs_post(root):\n",
    "        nonlocal res\n",
    "        \n",
    "        if not root:\n",
    "            return\n",
    "\n",
    "        left = dfs_post(root.left)\n",
    "        right = dfs_post(root.right)\n",
    "        res.append(root.val)\n",
    "        \n",
    "    dfs_post(root)\n",
    "    return res\n",
    "\n",
    "def iterativePostOrder(root):\n",
    "    res = []\n",
    "    node = root\n",
    "    visited = set()\n",
    "    while (node and node not in visited):\n",
    "        if (node.left and node.left not in visited):\n",
    "            node = node.left\n",
    "\n",
    "        elif (node.right and node.right not in visited):\n",
    "            node = node.right\n",
    "\n",
    "        else:\n",
    "            res.append(node.val)\n",
    "            visited.add(node)\n",
    "            node = root\n",
    "    \n",
    "    return res"
   ]
  },
  {
   "cell_type": "code",
   "execution_count": null,
   "metadata": {
    "ExecuteTime": {
     "end_time": "2022-05-13T21:33:01.528621Z",
     "start_time": "2022-05-13T21:33:01.525110Z"
    }
   },
   "outputs": [],
   "source": [
    "\"\"\"\n",
    "     a\n",
    "    / \\\n",
    "   b   c\n",
    "  / \\\n",
    " d   e\n",
    "    / \\\n",
    "   f   g\n",
    "\"\"\""
   ]
  },
  {
   "cell_type": "code",
   "execution_count": 138,
   "metadata": {
    "ExecuteTime": {
     "end_time": "2022-05-13T22:43:50.545117Z",
     "start_time": "2022-05-13T22:43:50.541182Z"
    }
   },
   "outputs": [
    {
     "data": {
      "text/plain": [
       "['d', 'f', 'g', 'e', 'b', 'c', 'a']"
      ]
     },
     "execution_count": 138,
     "metadata": {},
     "output_type": "execute_result"
    }
   ],
   "source": [
    "recursivePostOrder(a)"
   ]
  },
  {
   "cell_type": "code",
   "execution_count": 139,
   "metadata": {
    "ExecuteTime": {
     "end_time": "2022-05-13T22:43:51.013048Z",
     "start_time": "2022-05-13T22:43:51.008437Z"
    }
   },
   "outputs": [
    {
     "data": {
      "text/plain": [
       "['d', 'f', 'g', 'e', 'b', 'c', 'a']"
      ]
     },
     "execution_count": 139,
     "metadata": {},
     "output_type": "execute_result"
    }
   ],
   "source": [
    "postorder(a)"
   ]
  },
  {
   "cell_type": "markdown",
   "metadata": {},
   "source": [
    "### Expression Tree example"
   ]
  },
  {
   "cell_type": "code",
   "execution_count": 123,
   "metadata": {
    "ExecuteTime": {
     "end_time": "2022-05-13T22:35:08.503672Z",
     "start_time": "2022-05-13T22:35:08.495995Z"
    }
   },
   "outputs": [],
   "source": [
    "\"\"\"\n",
    "     *\n",
    "    / \\\n",
    "   *   7\n",
    "  / \\\n",
    " 3   +\n",
    "    / \\\n",
    "   5   2\n",
    "\n",
    "3*(5+2)/7\n",
    "\"\"\"\n",
    "\n",
    "\n",
    "a1 = Node(\"/\")\n",
    "b1 = Node(\"*\")\n",
    "c1 = Node(7)\n",
    "d1 = Node(3)\n",
    "e1 = Node(\"+\")\n",
    "f1 = Node(5)\n",
    "g1 = Node(2)\n",
    "\n",
    "a1.left = b1\n",
    "a1.right = c1\n",
    "b1.left = d1\n",
    "b1.right = e1\n",
    "e1.left = f1\n",
    "e1.right = g1\n",
    "\n",
    "def expression(root):   \n",
    "    ops = {'+':lambda x, y: x+y,\n",
    "           '-':lambda x, y: x-y,                \n",
    "           '*':lambda x, y: x*y,\n",
    "           '/':lambda x, y: int(x/y)}\n",
    "    \n",
    "    if not root:\n",
    "        return\n",
    "\n",
    "    left = expression(root.left)\n",
    "    right = expression(root.right)\n",
    "    res = root.val if type(root.val) == int else ops[root.val](left,right)\n",
    "    return res"
   ]
  },
  {
   "cell_type": "code",
   "execution_count": 124,
   "metadata": {
    "ExecuteTime": {
     "end_time": "2022-05-13T22:35:09.263258Z",
     "start_time": "2022-05-13T22:35:09.258550Z"
    }
   },
   "outputs": [
    {
     "data": {
      "text/plain": [
       "3"
      ]
     },
     "execution_count": 124,
     "metadata": {},
     "output_type": "execute_result"
    }
   ],
   "source": [
    "expression(a1)"
   ]
  },
  {
   "cell_type": "markdown",
   "metadata": {},
   "source": [
    "# [Implementation] String Subsequences"
   ]
  },
  {
   "cell_type": "code",
   "execution_count": 166,
   "metadata": {
    "ExecuteTime": {
     "end_time": "2022-05-18T16:08:34.222131Z",
     "start_time": "2022-05-18T16:08:34.180486Z"
    }
   },
   "outputs": [],
   "source": [
    "def consecutive(s:int,k:int)->list:\n",
    "    res = []\n",
    "    for i in range(0,len(s)+1-k):\n",
    "        res.append(s[i:i+k])\n",
    "    return res\n",
    "\n",
    "\n",
    "def subsequence(arr:list,k:int,skip:int)->list:\n",
    "    skip = min(skip,k-1) # if we could go wild on skip\n",
    "    if skip ==0:\n",
    "        return consecutive(arr,k)\n",
    "    \n",
    "    res = []\n",
    "    for i in range(0,len(arr)+1-k):\n",
    "        for tail in subsequence(arr[i+1:],k-1,skip-1):\n",
    "            res.append([arr[i]]+tail)\n",
    "    \n",
    "    return res"
   ]
  },
  {
   "cell_type": "code",
   "execution_count": 170,
   "metadata": {
    "ExecuteTime": {
     "end_time": "2022-05-18T16:08:58.448917Z",
     "start_time": "2022-05-18T16:08:58.440327Z"
    }
   },
   "outputs": [
    {
     "data": {
      "text/plain": [
       "[['a', 'b', 'c'],\n",
       " ['a', 'c', 'd'],\n",
       " ['a', 'd', 'e'],\n",
       " ['a', 'e', 'f'],\n",
       " ['a', 'f', 'g'],\n",
       " ['b', 'c', 'd'],\n",
       " ['b', 'd', 'e'],\n",
       " ['b', 'e', 'f'],\n",
       " ['b', 'f', 'g'],\n",
       " ['c', 'd', 'e'],\n",
       " ['c', 'e', 'f'],\n",
       " ['c', 'f', 'g'],\n",
       " ['d', 'e', 'f'],\n",
       " ['d', 'f', 'g'],\n",
       " ['e', 'f', 'g']]"
      ]
     },
     "execution_count": 170,
     "metadata": {},
     "output_type": "execute_result"
    }
   ],
   "source": [
    "subsequence(['a','b','c','d','e','f','g'],3,1)"
   ]
  },
  {
   "cell_type": "markdown",
   "metadata": {},
   "source": [
    "\n",
    "# [Test Helpers ] Random int list"
   ]
  },
  {
   "cell_type": "code",
   "execution_count": 24,
   "metadata": {
    "ExecuteTime": {
     "end_time": "2022-04-06T15:12:40.617355Z",
     "start_time": "2022-04-06T15:12:40.613201Z"
    }
   },
   "outputs": [],
   "source": [
    "import random\n",
    "def random_int_list(size:int,l:int,u:int)->list:\n",
    "    random_list = [0]*size\n",
    "    for i in range(size):\n",
    "        random_list[i]= random.randrange(l,u+1)\n",
    "    return random_list"
   ]
  },
  {
   "cell_type": "code",
   "execution_count": null,
   "metadata": {
    "ExecuteTime": {
     "end_time": "2021-04-23T20:58:32.038019Z",
     "start_time": "2021-04-23T20:58:16.890Z"
    }
   },
   "outputs": [],
   "source": [
    "random_int_list(15,-1000,1000)"
   ]
  },
  {
   "cell_type": "markdown",
   "metadata": {},
   "source": [
    "# [Test Helpers ] Random char list"
   ]
  },
  {
   "cell_type": "code",
   "execution_count": 2,
   "metadata": {
    "ExecuteTime": {
     "end_time": "2021-04-26T20:35:10.187984Z",
     "start_time": "2021-04-26T20:35:10.184852Z"
    },
    "run_control": {
     "marked": false
    }
   },
   "outputs": [],
   "source": [
    "import string\n",
    "def random_char_list(size:int, chars:list=string.ascii_lowercase)->list:\n",
    "    return random.choices(chars, k=size)"
   ]
  },
  {
   "cell_type": "code",
   "execution_count": 12,
   "metadata": {
    "ExecuteTime": {
     "end_time": "2021-04-23T17:11:28.001299Z",
     "start_time": "2021-04-23T17:11:27.994327Z"
    }
   },
   "outputs": [
    {
     "data": {
      "text/plain": [
       "['q', 'o', 'w', 'm', 'i', 's', 's', 'm', 'b', 'b']"
      ]
     },
     "execution_count": 12,
     "metadata": {},
     "output_type": "execute_result"
    }
   ],
   "source": [
    "random_char_list(10)"
   ]
  },
  {
   "cell_type": "markdown",
   "metadata": {},
   "source": [
    "\n",
    "# [Tips] Carreful with default parameters in functions (especially dictionaries)\n",
    "\n",
    "While defining a function if we use a default value in a parameter, python creates the object and every call of the function  \n",
    "will point to the same object. So if the function internally changes this object, other calls will see this object changed.  \n",
    "This could be a problem if we are facing a recursion problem where same keys have different values for different parameters."
   ]
  },
  {
   "cell_type": "code",
   "execution_count": 62,
   "metadata": {
    "ExecuteTime": {
     "end_time": "2021-04-15T01:45:16.185849Z",
     "start_time": "2021-04-15T01:45:16.183247Z"
    }
   },
   "outputs": [],
   "source": [
    "def test(i,memo={}):\n",
    "    memo[i]=i\n",
    "    return memo"
   ]
  },
  {
   "cell_type": "code",
   "execution_count": 64,
   "metadata": {
    "ExecuteTime": {
     "end_time": "2021-04-15T01:45:30.262568Z",
     "start_time": "2021-04-15T01:45:30.259437Z"
    }
   },
   "outputs": [
    {
     "name": "stdout",
     "output_type": "stream",
     "text": [
      "{0: 0}\n",
      "{0: 0, 1: 1}\n",
      "{0: 0, 1: 1, 2: 2}\n"
     ]
    }
   ],
   "source": [
    "print(test(0))\n",
    "print(test(1))\n",
    "print(test(2))"
   ]
  },
  {
   "cell_type": "code",
   "execution_count": 65,
   "metadata": {
    "ExecuteTime": {
     "end_time": "2021-04-15T01:47:09.498999Z",
     "start_time": "2021-04-15T01:47:09.496324Z"
    }
   },
   "outputs": [
    {
     "name": "stdout",
     "output_type": "stream",
     "text": [
      "{0: 0, 1: 1, 2: 2, 200: 200}\n"
     ]
    }
   ],
   "source": [
    "print(test(200))"
   ]
  },
  {
   "cell_type": "markdown",
   "metadata": {},
   "source": [
    "# [Tips] Slicing strings is way faster than slicing lists\n",
    "\n",
    "For some reason, slicing strings are a lot faster. (Maybe because strings are immutable? IDK).  \n",
    "Strings also take about 8 times less memory!"
   ]
  },
  {
   "cell_type": "code",
   "execution_count": 25,
   "metadata": {
    "ExecuteTime": {
     "end_time": "2022-04-06T15:13:01.206968Z",
     "start_time": "2022-04-06T15:12:44.754011Z"
    }
   },
   "outputs": [],
   "source": [
    "listona_string = random.choices([\"A\",\"G\",\"T\",\"C\"], k=100_000_000)"
   ]
  },
  {
   "cell_type": "code",
   "execution_count": 26,
   "metadata": {
    "ExecuteTime": {
     "end_time": "2022-04-06T15:13:05.701738Z",
     "start_time": "2022-04-06T15:13:04.792287Z"
    }
   },
   "outputs": [],
   "source": [
    "tuplona_string = tuple(listona_string)"
   ]
  },
  {
   "cell_type": "code",
   "execution_count": 27,
   "metadata": {
    "ExecuteTime": {
     "end_time": "2022-04-06T15:13:39.829678Z",
     "start_time": "2022-04-06T15:13:39.154446Z"
    }
   },
   "outputs": [],
   "source": [
    "stringsona = \"\".join(listona_string)"
   ]
  },
  {
   "cell_type": "code",
   "execution_count": 34,
   "metadata": {
    "ExecuteTime": {
     "end_time": "2022-04-06T15:14:25.716835Z",
     "start_time": "2022-04-06T15:14:24.850260Z"
    }
   },
   "outputs": [],
   "source": [
    "_ = listona_string[1:]"
   ]
  },
  {
   "cell_type": "code",
   "execution_count": 35,
   "metadata": {
    "ExecuteTime": {
     "end_time": "2022-04-06T15:14:26.004915Z",
     "start_time": "2022-04-06T15:14:25.720101Z"
    }
   },
   "outputs": [],
   "source": [
    "_ = stringsona[1:]"
   ]
  },
  {
   "cell_type": "code",
   "execution_count": 36,
   "metadata": {
    "ExecuteTime": {
     "end_time": "2022-04-06T15:14:26.623024Z",
     "start_time": "2022-04-06T15:14:26.008401Z"
    }
   },
   "outputs": [],
   "source": [
    "_ = tuplona_string[1:]"
   ]
  },
  {
   "cell_type": "markdown",
   "metadata": {},
   "source": [
    "Strings also take about 8 times less memory!"
   ]
  },
  {
   "cell_type": "code",
   "execution_count": 19,
   "metadata": {
    "ExecuteTime": {
     "end_time": "2021-04-26T20:50:43.320829Z",
     "start_time": "2021-04-26T20:50:43.317015Z"
    }
   },
   "outputs": [
    {
     "data": {
      "text/plain": [
       "(859724480, 100000049, 800000056)"
      ]
     },
     "execution_count": 19,
     "metadata": {},
     "output_type": "execute_result"
    }
   ],
   "source": [
    "import sys\n",
    "sys.getsizeof(listona_string),sys.getsizeof(stringsona),sys.getsizeof(tuplona_string)"
   ]
  },
  {
   "cell_type": "markdown",
   "metadata": {},
   "source": [
    "# [Tips] Remember that python Functions can modify objects passed as arguments"
   ]
  },
  {
   "cell_type": "code",
   "execution_count": 37,
   "metadata": {
    "ExecuteTime": {
     "end_time": "2022-04-06T15:16:14.279909Z",
     "start_time": "2022-04-06T15:16:14.275133Z"
    }
   },
   "outputs": [],
   "source": [
    "lista_int = random_int_list(10,-100,100)"
   ]
  },
  {
   "cell_type": "code",
   "execution_count": 38,
   "metadata": {
    "ExecuteTime": {
     "end_time": "2022-04-06T15:16:23.617669Z",
     "start_time": "2022-04-06T15:16:23.610619Z"
    }
   },
   "outputs": [
    {
     "data": {
      "text/plain": [
       "[-23, -21, -83, 70, 68, -13, -41, 80, 99, 16]"
      ]
     },
     "execution_count": 38,
     "metadata": {},
     "output_type": "execute_result"
    }
   ],
   "source": [
    "lista_int"
   ]
  },
  {
   "cell_type": "code",
   "execution_count": 39,
   "metadata": {
    "ExecuteTime": {
     "end_time": "2022-04-06T15:16:27.085323Z",
     "start_time": "2022-04-06T15:16:26.844384Z"
    }
   },
   "outputs": [],
   "source": [
    "_ = counting_sort(lista_int,100_000)"
   ]
  },
  {
   "cell_type": "code",
   "execution_count": 40,
   "metadata": {
    "ExecuteTime": {
     "end_time": "2022-04-06T15:16:27.845266Z",
     "start_time": "2022-04-06T15:16:27.840600Z"
    }
   },
   "outputs": [
    {
     "data": {
      "text/plain": [
       "[-83, -41, -23, -21, -13, 16, 68, 70, 80, 99]"
      ]
     },
     "execution_count": 40,
     "metadata": {},
     "output_type": "execute_result"
    }
   ],
   "source": [
    "lista_int"
   ]
  },
  {
   "cell_type": "markdown",
   "metadata": {},
   "source": [
    "# [Tips] Binary Search\n",
    "\n",
    "If the array is sorted, we can reduce search operations complexity from O(n) to O(log n) using binary search. Depending on the problem,  \n",
    "it might be a good idea to sort the array first O(n log n) in order to achieve an overall complexity of O(n log n) instead of O(n**2).\n",
    "\n",
    "Ex: Given an Array A and a second array B, define a function \n",
    "\n",
    "def find_index(A,B)\n",
    "\n",
    "that returns the indexes in A of all the elements listed in B. if the element is not present in A return -1.\n",
    "\n",
    "- Not the same comparisson, since sorting changes the indexes, I know, the idea here is to illustrate how faster it is to use binary search"
   ]
  },
  {
   "cell_type": "code",
   "execution_count": 26,
   "metadata": {
    "ExecuteTime": {
     "end_time": "2021-04-24T16:01:00.848641Z",
     "start_time": "2021-04-24T16:00:59.525086Z"
    }
   },
   "outputs": [],
   "source": [
    "int_list = random_int_list(1_100_000,0,100_000)\n",
    "int_list2 = int_list.copy()\n",
    "int_list_sorted = sorted(int_list)"
   ]
  },
  {
   "cell_type": "code",
   "execution_count": 118,
   "metadata": {
    "ExecuteTime": {
     "end_time": "2022-04-07T19:24:29.430338Z",
     "start_time": "2022-04-07T19:24:29.418802Z"
    }
   },
   "outputs": [],
   "source": [
    "def find_index_slow(A:list,B:list)->list:\n",
    "    \"\"\"\n",
    "    O(n*m)\n",
    "    \"\"\"\n",
    "    indexes = []\n",
    "    for b in B: #O(m)\n",
    "        indexes.append(A.index(b))  #O(n)\n",
    "    return indexes\n",
    "\n",
    "def find_index_fast(A:list,B:list)->list:\n",
    "    \"\"\"\n",
    "    O(nlogn)\n",
    "    \"\"\"\n",
    "    import bisect\n",
    "    A.sort()\n",
    "    indexes = []\n",
    "    for b in B:\n",
    "        indexes.append(bisect.bisect_left(A,b))\n",
    "    return indexes"
   ]
  },
  {
   "cell_type": "code",
   "execution_count": 27,
   "metadata": {
    "ExecuteTime": {
     "end_time": "2021-04-24T16:01:16.988178Z",
     "start_time": "2021-04-24T16:01:06.246332Z"
    }
   },
   "outputs": [],
   "source": [
    "_=find_index_slow(int_list,range(10000))"
   ]
  },
  {
   "cell_type": "code",
   "execution_count": 28,
   "metadata": {
    "ExecuteTime": {
     "end_time": "2021-04-24T16:01:17.332534Z",
     "start_time": "2021-04-24T16:01:16.990148Z"
    }
   },
   "outputs": [],
   "source": [
    "_=find_index_fast(int_list2,range(10000))"
   ]
  },
  {
   "cell_type": "markdown",
   "metadata": {},
   "source": [
    "Sorting the list before seems to worse the running time for the slow algo."
   ]
  },
  {
   "cell_type": "code",
   "execution_count": 29,
   "metadata": {
    "ExecuteTime": {
     "end_time": "2021-04-24T16:01:43.791991Z",
     "start_time": "2021-04-24T16:01:17.335371Z"
    }
   },
   "outputs": [],
   "source": [
    "_=find_index_slow(int_list_sorted,range(10000))"
   ]
  },
  {
   "cell_type": "code",
   "execution_count": 30,
   "metadata": {
    "ExecuteTime": {
     "end_time": "2021-04-24T16:01:43.848577Z",
     "start_time": "2021-04-24T16:01:43.794623Z"
    }
   },
   "outputs": [],
   "source": [
    "_=find_index_fast(int_list_sorted,range(10000))"
   ]
  },
  {
   "cell_type": "markdown",
   "metadata": {},
   "source": [
    "# [Tips] Objects (dicts, sets, list, tuples) also can be used in boolean checks\n",
    "\n",
    "This could result in a cleaner code for checking if a list, set tuple or dict is empty"
   ]
  },
  {
   "cell_type": "code",
   "execution_count": 41,
   "metadata": {
    "ExecuteTime": {
     "end_time": "2022-04-06T15:20:23.967361Z",
     "start_time": "2022-04-06T15:20:23.953763Z"
    }
   },
   "outputs": [
    {
     "name": "stdout",
     "output_type": "stream",
     "text": [
      "the object is not empty\n",
      "the object is empty\n",
      "the object is not empty\n",
      "the object is empty\n",
      "the object is empty\n",
      "the object is empty\n",
      "the object is not empty\n"
     ]
    }
   ],
   "source": [
    "objects = [[1,2,3],(),dict([\"12\",\"34\",\"56\"]),[],set(),{},set([1])]\n",
    "\n",
    "for o in objects:\n",
    "    if o:\n",
    "        print(\"the object is not empty\")\n",
    "    if not o:\n",
    "        print(\"the object is empty\")\n",
    "        "
   ]
  },
  {
   "cell_type": "code",
   "execution_count": 42,
   "metadata": {
    "ExecuteTime": {
     "end_time": "2022-04-06T15:21:06.325064Z",
     "start_time": "2022-04-06T15:21:06.321697Z"
    }
   },
   "outputs": [
    {
     "name": "stdout",
     "output_type": "stream",
     "text": [
      "a is empty\n"
     ]
    }
   ],
   "source": [
    "a = {}\n",
    "if a:\n",
    "    print(\"a is not empty\")\n",
    "else:\n",
    "    print(\"a is empty\")"
   ]
  },
  {
   "cell_type": "markdown",
   "metadata": {},
   "source": [
    "# [Tips] Tuples can be used as dictionary keys\n",
    "(if they contain immutable objects such as strings numbers and other tuples)  \n",
    "this might be useful if the key is composed of two values\n"
   ]
  },
  {
   "cell_type": "code",
   "execution_count": 15,
   "metadata": {
    "ExecuteTime": {
     "end_time": "2021-04-26T20:45:02.778171Z",
     "start_time": "2021-04-26T20:45:02.775523Z"
    }
   },
   "outputs": [],
   "source": [
    "d = {(0,1):1,(0,2):2,(1,1):3}"
   ]
  },
  {
   "cell_type": "code",
   "execution_count": 17,
   "metadata": {
    "ExecuteTime": {
     "end_time": "2021-04-26T20:45:21.836716Z",
     "start_time": "2021-04-26T20:45:21.833101Z"
    }
   },
   "outputs": [
    {
     "data": {
      "text/plain": [
       "3"
      ]
     },
     "execution_count": 17,
     "metadata": {},
     "output_type": "execute_result"
    }
   ],
   "source": [
    "d[(1,1)]"
   ]
  },
  {
   "cell_type": "code",
   "execution_count": 18,
   "metadata": {
    "ExecuteTime": {
     "end_time": "2021-04-26T20:46:01.325146Z",
     "start_time": "2021-04-26T20:46:01.321040Z"
    }
   },
   "outputs": [
    {
     "data": {
      "text/plain": [
       "7"
      ]
     },
     "execution_count": 18,
     "metadata": {},
     "output_type": "execute_result"
    }
   ],
   "source": [
    "d[(1,1)] = 7\n",
    "d[(1,1)]"
   ]
  },
  {
   "cell_type": "markdown",
   "metadata": {},
   "source": [
    "# [Tips] Lists have a .count() method\n",
    "\n",
    "Counts how many times an object occurs in a list\n",
    "This could be useful if it is a one time thing, if the idea is to count every number  \n",
    "it is better to use counting with dict or array that will count for every value in the list in the same complexity O(n)"
   ]
  },
  {
   "cell_type": "code",
   "execution_count": 18,
   "metadata": {
    "ExecuteTime": {
     "end_time": "2021-04-28T19:18:32.944086Z",
     "start_time": "2021-04-28T19:18:31.868287Z"
    }
   },
   "outputs": [],
   "source": [
    "listinha = random_int_list(1_100_000,0,100)"
   ]
  },
  {
   "cell_type": "code",
   "execution_count": 19,
   "metadata": {
    "ExecuteTime": {
     "end_time": "2021-04-28T19:18:43.475334Z",
     "start_time": "2021-04-28T19:18:43.454370Z"
    }
   },
   "outputs": [
    {
     "data": {
      "text/plain": [
       "10940"
      ]
     },
     "execution_count": 19,
     "metadata": {},
     "output_type": "execute_result"
    }
   ],
   "source": [
    "listinha.count(2)"
   ]
  },
  {
   "cell_type": "code",
   "execution_count": 22,
   "metadata": {
    "ExecuteTime": {
     "end_time": "2021-04-30T00:38:23.809652Z",
     "start_time": "2021-04-30T00:38:23.807501Z"
    }
   },
   "outputs": [],
   "source": [
    " #'append',\n",
    " #'clear',\n",
    " #'copy',\n",
    " #'count',\n",
    " #'extend',\n",
    " #'index',\n",
    " #'insert',\n",
    " #'pop',\n",
    " #'remove',\n",
    " #'reverse',\n",
    " #'sort'"
   ]
  },
  {
   "cell_type": "markdown",
   "metadata": {},
   "source": [
    "# [Tips] Extend vs + operator\n",
    "\n",
    "using the + operator generates a new list while the extend mutates the original list"
   ]
  },
  {
   "cell_type": "code",
   "execution_count": 43,
   "metadata": {
    "ExecuteTime": {
     "end_time": "2022-04-06T15:26:38.730233Z",
     "start_time": "2022-04-06T15:26:38.726164Z"
    }
   },
   "outputs": [
    {
     "name": "stdout",
     "output_type": "stream",
     "text": [
      "[1, 2, 4]\n",
      "[1, 2, 4, 3, 45]\n"
     ]
    }
   ],
   "source": [
    "listinha = [1,2,4]\n",
    "l = listinha + [3,45]\n",
    "print(listinha)\n",
    "listinha.extend([3,45])\n",
    "print(listinha)"
   ]
  },
  {
   "cell_type": "code",
   "execution_count": 124,
   "metadata": {
    "ExecuteTime": {
     "end_time": "2022-04-08T00:49:25.797715Z",
     "start_time": "2022-04-08T00:49:25.789470Z"
    }
   },
   "outputs": [
    {
     "name": "stdout",
     "output_type": "stream",
     "text": [
      "0\n"
     ]
    }
   ],
   "source": [
    "a = -2\n",
    "if a>100:\n",
    "    print(\"100\")\n",
    "elif a < 0:\n",
    "    print(\"0\")\n",
    "elif a == -1:\n",
    "    print(\"-1\")\n",
    "else:\n",
    "    print(\"edge\")\n"
   ]
  },
  {
   "cell_type": "code",
   "execution_count": 263,
   "metadata": {
    "ExecuteTime": {
     "end_time": "2022-04-08T04:36:13.130570Z",
     "start_time": "2022-04-08T04:36:13.120207Z"
    }
   },
   "outputs": [],
   "source": [
    "import numpy as np\n",
    "class treenode:\n",
    "    def __init__(self,val,left=None,right=None):\n",
    "        self.val=val\n",
    "        self.left=left\n",
    "        self.right=right\n",
    "\n",
    "def dfs(root:treenode)->list:\n",
    "    vals = []\n",
    "    stack = [root]\n",
    "    while stack:\n",
    "        node = stack.pop()\n",
    "        vals.append(node.val)\n",
    "        \n",
    "        if node.right:\n",
    "            stack.append(node.right)\n",
    "        if node.left:\n",
    "            stack.append(node.left)\n",
    "    \n",
    "    return vals\n",
    "\n",
    "def dfs_min(root:treenode)->list:\n",
    "    if not root:\n",
    "        return np.inf\n",
    "    \n",
    "    return min(root.val,dfs_min(root.left),dfs_min(root.right))\n",
    "    \n",
    "def bfs(root:treenode)->list:\n",
    "    vals=[]\n",
    "    queue = [root]\n",
    "    \n",
    "    i=0\n",
    "    while i < len(queue):\n",
    "        node = queue[i]\n",
    "        i += 1\n",
    "        \n",
    "        vals.append(node.val)\n",
    "        \n",
    "        if node.left:\n",
    "            queue.append(node.left)\n",
    "        \n",
    "        if node.right:\n",
    "            queue.append(node.right)\n",
    "        \n",
    "        \n",
    "    return vals\n",
    "    \n",
    "    \n",
    "\n",
    "\n",
    "a = treenode(-5)\n",
    "b = treenode(-11)\n",
    "c = treenode(-4)\n",
    "d = treenode(-2)\n",
    "e = treenode(-3)\n",
    "f = treenode(-1)\n",
    "\n",
    "a.left = b\n",
    "a.right = e\n",
    "b.left = c\n",
    "b.right = d\n",
    "e.right = f\n"
   ]
  },
  {
   "cell_type": "code",
   "execution_count": 264,
   "metadata": {
    "ExecuteTime": {
     "end_time": "2022-04-08T04:36:14.136404Z",
     "start_time": "2022-04-08T04:36:14.133030Z"
    }
   },
   "outputs": [],
   "source": [
    "def dfs_maxpath(root:treenode):\n",
    "    if not root:\n",
    "        return 0\n",
    "    \n",
    "    return max(root.val+dfs_maxpath(root.left),root.val+dfs_maxpath(root.right))"
   ]
  },
  {
   "cell_type": "code",
   "execution_count": 267,
   "metadata": {
    "ExecuteTime": {
     "end_time": "2022-04-08T19:46:16.123387Z",
     "start_time": "2022-04-08T19:46:16.118214Z"
    }
   },
   "outputs": [],
   "source": [
    "if e.left:\n",
    "    print(\"e\")"
   ]
  },
  {
   "cell_type": "code",
   "execution_count": 271,
   "metadata": {
    "ExecuteTime": {
     "end_time": "2022-04-08T21:41:53.568046Z",
     "start_time": "2022-04-08T21:41:53.560294Z"
    }
   },
   "outputs": [
    {
     "data": {
      "text/plain": [
       "[1, 1]"
      ]
     },
     "execution_count": 271,
     "metadata": {},
     "output_type": "execute_result"
    }
   ],
   "source": [
    "[1]*2"
   ]
  },
  {
   "cell_type": "code",
   "execution_count": 259,
   "metadata": {
    "ExecuteTime": {
     "end_time": "2022-04-08T04:34:15.077583Z",
     "start_time": "2022-04-08T04:34:15.073853Z"
    }
   },
   "outputs": [
    {
     "data": {
      "text/plain": [
       "1"
      ]
     },
     "execution_count": 259,
     "metadata": {},
     "output_type": "execute_result"
    }
   ],
   "source": [
    "bfs_min(a)"
   ]
  },
  {
   "cell_type": "code",
   "execution_count": 260,
   "metadata": {
    "ExecuteTime": {
     "end_time": "2022-04-08T04:34:20.743740Z",
     "start_time": "2022-04-08T04:34:20.740128Z"
    }
   },
   "outputs": [
    {
     "data": {
      "text/plain": [
       "1"
      ]
     },
     "execution_count": 260,
     "metadata": {},
     "output_type": "execute_result"
    }
   ],
   "source": [
    "dfs_min(a)"
   ]
  },
  {
   "cell_type": "code",
   "execution_count": 240,
   "metadata": {
    "ExecuteTime": {
     "end_time": "2022-04-08T04:18:02.980485Z",
     "start_time": "2022-04-08T04:18:02.975957Z"
    }
   },
   "outputs": [],
   "source": [
    "def bfs_min(root:treenode)->float:\n",
    "    queue = [root]\n",
    "    min_val = np.inf\n",
    "    i=0\n",
    "    while i < len(queue):\n",
    "        node = queue[i]\n",
    "        min_val = min(min_val,node.val)\n",
    "        i += 1\n",
    "        \n",
    "        if node.left:\n",
    "            queue.append(node.left)\n",
    "        if node.right:\n",
    "            queue.append(node.right)\n",
    "        \n",
    "    return min_val  "
   ]
  },
  {
   "cell_type": "code",
   "execution_count": 126,
   "metadata": {
    "ExecuteTime": {
     "end_time": "2022-04-08T02:28:25.852892Z",
     "start_time": "2022-04-08T02:28:25.849094Z"
    }
   },
   "outputs": [
    {
     "name": "stdout",
     "output_type": "stream",
     "text": [
      "not n\n"
     ]
    }
   ],
   "source": [
    "n = None\n",
    "if n:\n",
    "    print(n)\n",
    "else:\n",
    "    print(\"not n\")"
   ]
  },
  {
   "cell_type": "code",
   "execution_count": 45,
   "metadata": {
    "ExecuteTime": {
     "end_time": "2022-04-07T02:23:26.420289Z",
     "start_time": "2022-04-07T02:23:20.910068Z"
    }
   },
   "outputs": [
    {
     "data": {
      "text/plain": [
       "[5, 4, 4, 2, 1]"
      ]
     },
     "execution_count": 45,
     "metadata": {},
     "output_type": "execute_result"
    }
   ],
   "source": [
    "listinha = [1,2,4,4,5]\n",
    "listinha.reverse()\n",
    "listinha"
   ]
  },
  {
   "cell_type": "markdown",
   "metadata": {},
   "source": [
    "# [Tips] Continue, pass, break"
   ]
  },
  {
   "cell_type": "code",
   "execution_count": 73,
   "metadata": {
    "ExecuteTime": {
     "end_time": "2021-05-01T18:30:18.523369Z",
     "start_time": "2021-05-01T18:30:18.518506Z"
    }
   },
   "outputs": [
    {
     "name": "stdout",
     "output_type": "stream",
     "text": [
      "0 begining\n",
      "inside else\n",
      "0 end\n",
      "1 begining\n",
      "inside else\n",
      "1 end\n",
      "2 begining\n",
      "inside else\n",
      "2 end\n",
      "3 begining\n",
      "inside else\n",
      "3 end\n",
      "4 begining\n",
      "inside else\n",
      "4 end\n",
      "5 begining\n",
      "inside else\n",
      "5 end\n",
      "6 begining\n",
      "inside else\n",
      "6 end\n",
      "7 begining\n",
      "inside else\n",
      "7 end\n",
      "8 begining\n",
      "inside else\n",
      "8 end\n",
      "9 begining\n",
      "inside else\n",
      "9 end\n",
      "10 begining\n",
      "inside else\n",
      "10 end\n",
      "11 begining\n"
     ]
    }
   ],
   "source": [
    "for i in range(20):\n",
    "    print(i,\"begining\")\n",
    "    if i > 10:\n",
    "        break\n",
    "    else:\n",
    "        print(\"inside else\")\n",
    "    print(i,\"end\")"
   ]
  },
  {
   "cell_type": "code",
   "execution_count": 71,
   "metadata": {
    "ExecuteTime": {
     "end_time": "2021-05-01T18:26:51.214898Z",
     "start_time": "2021-05-01T18:26:51.207667Z"
    }
   },
   "outputs": [
    {
     "name": "stdout",
     "output_type": "stream",
     "text": [
      "0 begining\n",
      "inside else\n",
      "0 end\n",
      "1 begining\n",
      "inside else\n",
      "1 end\n",
      "2 begining\n",
      "inside else\n",
      "2 end\n",
      "3 begining\n",
      "inside else\n",
      "3 end\n",
      "4 begining\n",
      "inside else\n",
      "4 end\n",
      "5 begining\n",
      "inside else\n",
      "5 end\n",
      "6 begining\n",
      "inside else\n",
      "6 end\n",
      "7 begining\n",
      "inside else\n",
      "7 end\n",
      "8 begining\n",
      "inside else\n",
      "8 end\n",
      "9 begining\n",
      "inside else\n",
      "9 end\n",
      "10 begining\n",
      "inside else\n",
      "10 end\n",
      "11 begining\n",
      "12 begining\n",
      "13 begining\n",
      "14 begining\n",
      "15 begining\n",
      "16 begining\n",
      "17 begining\n",
      "18 begining\n",
      "19 begining\n"
     ]
    }
   ],
   "source": [
    "for i in range(20):\n",
    "    print(i,\"begining\")\n",
    "    if i > 10:\n",
    "        continue\n",
    "    else:\n",
    "        print(\"inside else\")\n",
    "    print(i,\"end\")"
   ]
  },
  {
   "cell_type": "code",
   "execution_count": 72,
   "metadata": {
    "ExecuteTime": {
     "end_time": "2021-05-01T18:27:47.440742Z",
     "start_time": "2021-05-01T18:27:47.435257Z"
    }
   },
   "outputs": [
    {
     "name": "stdout",
     "output_type": "stream",
     "text": [
      "0 begining\n",
      "inside else\n",
      "0 end\n",
      "1 begining\n",
      "inside else\n",
      "1 end\n",
      "2 begining\n",
      "inside else\n",
      "2 end\n",
      "3 begining\n",
      "inside else\n",
      "3 end\n",
      "4 begining\n",
      "inside else\n",
      "4 end\n",
      "5 begining\n",
      "inside else\n",
      "5 end\n",
      "6 begining\n",
      "inside else\n",
      "6 end\n",
      "7 begining\n",
      "inside else\n",
      "7 end\n",
      "8 begining\n",
      "inside else\n",
      "8 end\n",
      "9 begining\n",
      "inside else\n",
      "9 end\n",
      "10 begining\n",
      "inside else\n",
      "10 end\n",
      "11 begining\n",
      "11 end\n",
      "12 begining\n",
      "12 end\n",
      "13 begining\n",
      "13 end\n",
      "14 begining\n",
      "14 end\n",
      "15 begining\n",
      "15 end\n",
      "16 begining\n",
      "16 end\n",
      "17 begining\n",
      "17 end\n",
      "18 begining\n",
      "18 end\n",
      "19 begining\n",
      "19 end\n"
     ]
    }
   ],
   "source": [
    "for i in range(20):\n",
    "    print(i,\"begining\")\n",
    "    if i > 10:\n",
    "        pass\n",
    "    else:\n",
    "        print(\"inside else\")\n",
    "    print(i,\"end\")"
   ]
  },
  {
   "cell_type": "markdown",
   "metadata": {},
   "source": [
    "# [Tips] Bitwise operations (&, |, ~,^, >>, <<)\n",
    "\n",
    "it could simplify the code a lot in some cases\n",
    "\n",
    "- Decimal to string binary -> bin(int)\n",
    "- Binary string to decimal -> int(bin,2)"
   ]
  },
  {
   "cell_type": "code",
   "execution_count": 275,
   "metadata": {
    "ExecuteTime": {
     "end_time": "2021-05-02T04:47:25.868389Z",
     "start_time": "2021-05-02T04:47:25.862738Z"
    }
   },
   "outputs": [],
   "source": [
    "def bitwise_and(A:int,B:int):\n",
    "    print(f'A = {A:16b} \\nB = {B:16b}')\n",
    "    print(f'R = {A&B:16b} == {A&B} (10)')\n",
    "    \n",
    "def bitwise_or(A:int,B:int):\n",
    "    print(f'A = {A:16b} \\nB = {B:16b}')\n",
    "    print(f'R = {A|B:16b} == {A|B} (10)')\n",
    "\n",
    "def bitwise_not(A:int):\n",
    "    \"\"\"\n",
    "    Returns the complement of x - the number you get by switching each 1 for a 0 and each 0 for a 1.\n",
    "    This is the same as -x - 1.\n",
    "    \"\"\"\n",
    "    print(f'A = {A:16b}')\n",
    "    print(f'R = {~A:16b} == {~A} (10)')\n",
    "\n",
    "def bitwise_xor(A:int,B:int):\n",
    "    print(f'A = {A:16b} \\nB = {B:16b}')\n",
    "    print(f'R = {A^B:16b} == {A^B} (10)')\n",
    "    \n",
    "def bitwise_shiftleft(A:int,B:int):\n",
    "    \"\"\"\n",
    "    Returns x with the bits shifted to the left by y places (and new bits on the right-hand-side are zeros).\n",
    "    This is the same as multiplying x by 2**y\n",
    "    \"\"\"\n",
    "    print(f'A = {A:16b} B = {B}')\n",
    "    print(f'R = {A<<B:16b} == {A<<B} (10)')\n",
    "\n",
    "def bitwise_shiftright(A:int,B:int):\n",
    "    \"\"\"\n",
    "    Returns x with the bits shifted to the right by y places. This is the same as //'ing x by 2**y.\n",
    "    \"\"\"\n",
    "    print(f'A = {A:16b} B = {B}')\n",
    "    print(f'R = {A>>B:16b} == {A>>B} (10)')"
   ]
  },
  {
   "cell_type": "code",
   "execution_count": 243,
   "metadata": {
    "ExecuteTime": {
     "end_time": "2021-05-02T04:21:25.193676Z",
     "start_time": "2021-05-02T04:21:25.190282Z"
    }
   },
   "outputs": [
    {
     "data": {
      "text/plain": [
       "8"
      ]
     },
     "execution_count": 243,
     "metadata": {},
     "output_type": "execute_result"
    }
   ],
   "source": [
    "int('1000',2)"
   ]
  },
  {
   "cell_type": "code",
   "execution_count": 257,
   "metadata": {
    "ExecuteTime": {
     "end_time": "2021-05-02T04:33:52.268514Z",
     "start_time": "2021-05-02T04:33:52.265043Z"
    }
   },
   "outputs": [
    {
     "name": "stdout",
     "output_type": "stream",
     "text": [
      "A =   10001000111100 \n",
      "B =   10010000110011\n",
      "R =   10000000110000 == 8240 (10)\n"
     ]
    }
   ],
   "source": [
    "bitwise_and(8764,9267)"
   ]
  },
  {
   "cell_type": "code",
   "execution_count": 258,
   "metadata": {
    "ExecuteTime": {
     "end_time": "2021-05-02T04:34:02.257078Z",
     "start_time": "2021-05-02T04:34:02.254593Z"
    }
   },
   "outputs": [
    {
     "name": "stdout",
     "output_type": "stream",
     "text": [
      "A =   10001000111100 \n",
      "B =   10010000110011\n",
      "R =   10011000111111 == 9791 (10)\n"
     ]
    }
   ],
   "source": [
    "bitwise_or(8764,9267)"
   ]
  },
  {
   "cell_type": "code",
   "execution_count": 265,
   "metadata": {
    "ExecuteTime": {
     "end_time": "2021-05-02T04:39:55.296226Z",
     "start_time": "2021-05-02T04:39:55.293526Z"
    }
   },
   "outputs": [
    {
     "name": "stdout",
     "output_type": "stream",
     "text": [
      "A =   10001000111100 \n",
      "B =   10010000110011\n",
      "R =      11000001111 == 1551 (10)\n"
     ]
    }
   ],
   "source": [
    "bitwise_xor(8764,9267)"
   ]
  },
  {
   "cell_type": "code",
   "execution_count": 271,
   "metadata": {
    "ExecuteTime": {
     "end_time": "2021-05-02T04:41:42.352955Z",
     "start_time": "2021-05-02T04:41:42.349868Z"
    }
   },
   "outputs": [
    {
     "name": "stdout",
     "output_type": "stream",
     "text": [
      "A =              110\n",
      "R =             -111 == -7 (10)\n"
     ]
    }
   ],
   "source": [
    "bitwise_not(int(\"0110\",2))"
   ]
  },
  {
   "cell_type": "code",
   "execution_count": 276,
   "metadata": {
    "ExecuteTime": {
     "end_time": "2021-05-02T04:47:29.196311Z",
     "start_time": "2021-05-02T04:47:29.193667Z"
    }
   },
   "outputs": [
    {
     "name": "stdout",
     "output_type": "stream",
     "text": [
      "A =   10001000111100 B = 6\n",
      "R = 10001000111100000000 == 560896 (10)\n"
     ]
    }
   ],
   "source": [
    "bitwise_shiftleft(8764,6)"
   ]
  },
  {
   "cell_type": "code",
   "execution_count": 277,
   "metadata": {
    "ExecuteTime": {
     "end_time": "2021-05-02T04:47:48.186855Z",
     "start_time": "2021-05-02T04:47:48.184143Z"
    }
   },
   "outputs": [
    {
     "name": "stdout",
     "output_type": "stream",
     "text": [
      "A =   10001000111100 B = 6\n",
      "R =         10001000 == 136 (10)\n"
     ]
    }
   ],
   "source": [
    "bitwise_shiftright(8764,6) \n",
    "\n",
    "# = 8764//2**6"
   ]
  },
  {
   "cell_type": "markdown",
   "metadata": {},
   "source": [
    "# [Tips] Getting indexation right"
   ]
  },
  {
   "cell_type": "code",
   "execution_count": 273,
   "metadata": {
    "ExecuteTime": {
     "end_time": "2022-04-10T20:50:44.986360Z",
     "start_time": "2022-04-10T20:50:44.977393Z"
    }
   },
   "outputs": [
    {
     "name": "stdout",
     "output_type": "stream",
     "text": [
      "0 1\n",
      "1 2\n",
      "2 3\n",
      "3 4\n"
     ]
    }
   ],
   "source": [
    "listinha = [1,2,3,4]\n",
    "for i,l in enumerate(listinha):\n",
    "    print(i,l)"
   ]
  },
  {
   "cell_type": "code",
   "execution_count": 276,
   "metadata": {
    "ExecuteTime": {
     "end_time": "2022-04-10T20:52:10.790967Z",
     "start_time": "2022-04-10T20:52:10.784940Z"
    }
   },
   "outputs": [
    {
     "name": "stdout",
     "output_type": "stream",
     "text": [
      "0 1\n",
      "1 2\n",
      "2 3\n",
      "3 4\n"
     ]
    }
   ],
   "source": [
    "# range and len work just fine together\n",
    "\n",
    "for i in range(len(listinha)):\n",
    "    print(i,listinha[i])"
   ]
  },
  {
   "cell_type": "code",
   "execution_count": 279,
   "metadata": {
    "ExecuteTime": {
     "end_time": "2022-04-10T20:53:10.701310Z",
     "start_time": "2022-04-10T20:53:10.697525Z"
    }
   },
   "outputs": [
    {
     "name": "stdout",
     "output_type": "stream",
     "text": [
      "0 1\n",
      "1 2\n",
      "2 3\n",
      "3 4\n"
     ]
    }
   ],
   "source": [
    "# using while i < len() also works just fine. just remember to increment i \n",
    "\n",
    "i = 0\n",
    "while i < len(listinha):\n",
    "    print(i,listinha[i])\n",
    "    i+=1"
   ]
  },
  {
   "cell_type": "markdown",
   "metadata": {},
   "source": [
    "# [Tips] IF ELSE with multiple statements"
   ]
  },
  {
   "cell_type": "code",
   "execution_count": 5,
   "metadata": {
    "ExecuteTime": {
     "end_time": "2022-04-12T12:33:44.954021Z",
     "start_time": "2022-04-12T12:33:44.950259Z"
    }
   },
   "outputs": [
    {
     "name": "stdout",
     "output_type": "stream",
     "text": [
      "0 or 0: else\n",
      "0 or 1: if statementent\n",
      "1 or 0: if statementent\n",
      "1 or 1: if statementent\n"
     ]
    }
   ],
   "source": [
    "for i in range(2):\n",
    "    for j in range(2):\n",
    "        if i or j:\n",
    "            print(f\"{i} or {j}: if statementent\")\n",
    "        else:\n",
    "            print(f\"{i} or {j}: else\")"
   ]
  },
  {
   "cell_type": "code",
   "execution_count": 6,
   "metadata": {
    "ExecuteTime": {
     "end_time": "2022-04-12T12:33:57.815163Z",
     "start_time": "2022-04-12T12:33:57.811477Z"
    }
   },
   "outputs": [
    {
     "name": "stdout",
     "output_type": "stream",
     "text": [
      "0 and 0: else\n",
      "0 and 1: else\n",
      "1 and 0: else\n",
      "1 and 1: if statementent\n"
     ]
    }
   ],
   "source": [
    "for i in range(2):\n",
    "    for j in range(2):\n",
    "        if i and j:\n",
    "            print(f\"{i} and {j}: if statementent\")\n",
    "        else:\n",
    "            print(f\"{i} and {j}: else\")"
   ]
  },
  {
   "cell_type": "markdown",
   "metadata": {},
   "source": [
    "# Two Sum\n",
    "\n",
    " Given a list of integers and a integer target, return the indexes of the elements in the list that sum up to the target"
   ]
  },
  {
   "cell_type": "code",
   "execution_count": 559,
   "metadata": {
    "ExecuteTime": {
     "end_time": "2021-04-05T02:25:56.408641Z",
     "start_time": "2021-04-05T02:25:56.398046Z"
    }
   },
   "outputs": [],
   "source": [
    "class Solution:\n",
    "    \"\"\"\n",
    "    Given a list of integers and a integer target, return the indexes of the elements in the list that sum up to the target\n",
    "    \"\"\"\n",
    "\n",
    "    def twoSumBruteForce(self, nums: list, target: int) -> list:\n",
    "        \"\"\"\n",
    "        why this is bad? Time complexity is O(n**2) because of the two nested for loops\n",
    "        \n",
    "        \"\"\"\n",
    "        for i in range(len(nums)):\n",
    "            for n in range(len(nums))[i+1:]:\n",
    "                if (nums[i]+nums[n] == target):\n",
    "                    return [i,n]\n",
    "    \n",
    "    def twoSumHashInternet(self, nums: list, target: int) -> list:\n",
    "        \"\"\"\n",
    "        This solution runs in O(n) but takes more memory compared to the Brute Force since we store values in the dict data structure\n",
    "        \"\"\"\n",
    "        hist = {}\n",
    "        for i, n in enumerate(nums):\n",
    "            if target - n in hist:\n",
    "                return [hist[target-n], i]\n",
    "            hist[n] = i\n",
    "            \n",
    "    def twoSumPointers(self, nums: list, target: int) -> list:\n",
    "        \"\"\"\n",
    "        This solution runs in O(n*log(log n)) since we have to sort the list first\n",
    "        but it uses only O(1) memory since we only store the values of the pointers \n",
    "        \"\"\"\n",
    "        nums.sort()\n",
    "        pointer_i = 0\n",
    "        pointer_f = len(nums)-1\n",
    "        for i, n in enumerate(nums):\n",
    "            if nums[pointer_i] + nums[pointer_f] == target:\n",
    "                return  [pointer_i,pointer_f]\n",
    "            if nums[pointer_i] + nums[pointer_f] > target:\n",
    "                pointer_f -= 1\n",
    "            else:\n",
    "                pointer_i +=1"
   ]
  },
  {
   "cell_type": "code",
   "execution_count": 560,
   "metadata": {
    "ExecuteTime": {
     "end_time": "2021-04-05T02:26:03.963772Z",
     "start_time": "2021-04-05T02:26:03.959985Z"
    }
   },
   "outputs": [
    {
     "data": {
      "text/plain": [
       "[0, 2]"
      ]
     },
     "execution_count": 560,
     "metadata": {},
     "output_type": "execute_result"
    }
   ],
   "source": [
    "Solution().twoSumBruteForce([3,4,6,7,8],9)"
   ]
  },
  {
   "cell_type": "code",
   "execution_count": 561,
   "metadata": {
    "ExecuteTime": {
     "end_time": "2021-04-05T02:26:20.909704Z",
     "start_time": "2021-04-05T02:26:20.905858Z"
    }
   },
   "outputs": [
    {
     "data": {
      "text/plain": [
       "[0, 2]"
      ]
     },
     "execution_count": 561,
     "metadata": {},
     "output_type": "execute_result"
    }
   ],
   "source": [
    "Solution().twoSumHashInternet([3,4,6,7,8],9)"
   ]
  },
  {
   "cell_type": "code",
   "execution_count": 562,
   "metadata": {
    "ExecuteTime": {
     "end_time": "2021-04-05T02:26:21.479548Z",
     "start_time": "2021-04-05T02:26:21.475356Z"
    }
   },
   "outputs": [
    {
     "data": {
      "text/plain": [
       "[0, 2]"
      ]
     },
     "execution_count": 562,
     "metadata": {},
     "output_type": "execute_result"
    }
   ],
   "source": [
    "Solution().twoSumPointers([3,4,6,7,8],9)"
   ]
  },
  {
   "cell_type": "markdown",
   "metadata": {},
   "source": [
    "# Print Triangle\n",
    "\n",
    "Print a triangle"
   ]
  },
  {
   "cell_type": "code",
   "execution_count": 485,
   "metadata": {
    "ExecuteTime": {
     "end_time": "2021-04-11T05:21:34.368964Z",
     "start_time": "2021-04-11T05:21:34.365189Z"
    },
    "run_control": {
     "marked": false
    }
   },
   "outputs": [],
   "source": [
    "def printAstTriangle(n:int)->None:\n",
    "    for i in range(1,n+1):\n",
    "        print(\"*\"*i)\n",
    "        \n",
    "        \n",
    "def printAstPiramid(n:int)->None:\n",
    "    for i,leftspace in zip(range(1,2*n,2),range(n-1,-1,-1)):\n",
    "        print(\"\".join([\" \"*leftspace,\"*\"*i]))"
   ]
  },
  {
   "cell_type": "code",
   "execution_count": 486,
   "metadata": {
    "ExecuteTime": {
     "end_time": "2021-04-11T05:21:35.104754Z",
     "start_time": "2021-04-11T05:21:35.100895Z"
    }
   },
   "outputs": [
    {
     "name": "stdout",
     "output_type": "stream",
     "text": [
      "*\n",
      "**\n",
      "***\n",
      "****\n",
      "*****\n",
      "******\n"
     ]
    }
   ],
   "source": [
    "printAstTriangle(6)"
   ]
  },
  {
   "cell_type": "code",
   "execution_count": 487,
   "metadata": {
    "ExecuteTime": {
     "end_time": "2021-04-11T05:21:35.363977Z",
     "start_time": "2021-04-11T05:21:35.359960Z"
    }
   },
   "outputs": [
    {
     "name": "stdout",
     "output_type": "stream",
     "text": [
      "                               *\n",
      "                              ***\n",
      "                             *****\n",
      "                            *******\n",
      "                           *********\n",
      "                          ***********\n",
      "                         *************\n",
      "                        ***************\n",
      "                       *****************\n",
      "                      *******************\n",
      "                     *********************\n",
      "                    ***********************\n",
      "                   *************************\n",
      "                  ***************************\n",
      "                 *****************************\n",
      "                *******************************\n",
      "               *********************************\n",
      "              ***********************************\n",
      "             *************************************\n",
      "            ***************************************\n",
      "           *****************************************\n",
      "          *******************************************\n",
      "         *********************************************\n",
      "        ***********************************************\n",
      "       *************************************************\n",
      "      ***************************************************\n",
      "     *****************************************************\n",
      "    *******************************************************\n",
      "   *********************************************************\n",
      "  ***********************************************************\n",
      " *************************************************************\n",
      "***************************************************************\n"
     ]
    }
   ],
   "source": [
    "printAstPiramid(32)"
   ]
  },
  {
   "cell_type": "markdown",
   "metadata": {},
   "source": [
    "# Count Decimal Places\n",
    "\n",
    "Count decimal places of a float number"
   ]
  },
  {
   "cell_type": "code",
   "execution_count": 140,
   "metadata": {
    "ExecuteTime": {
     "end_time": "2021-04-04T02:06:56.560848Z",
     "start_time": "2021-04-04T02:06:56.557884Z"
    }
   },
   "outputs": [],
   "source": [
    "def countDecimalPlaces(n:float)->int:\n",
    "    string = str(n).split(\".\")[1]\n",
    "    return len(string)"
   ]
  },
  {
   "cell_type": "code",
   "execution_count": 142,
   "metadata": {
    "ExecuteTime": {
     "end_time": "2021-04-04T02:07:16.459722Z",
     "start_time": "2021-04-04T02:07:16.455665Z"
    }
   },
   "outputs": [
    {
     "data": {
      "text/plain": [
       "15"
      ]
     },
     "execution_count": 142,
     "metadata": {},
     "output_type": "execute_result"
    }
   ],
   "source": [
    "countDecimalPlaces(1.123984791283742)"
   ]
  },
  {
   "cell_type": "markdown",
   "metadata": {},
   "source": [
    "# Binary Gap\n",
    "\n",
    "A binary gap within a positive integer N is any maximal sequence of consecutive zeros that is surrounded by ones at both ends in the binary representation of N.\n",
    "\n",
    "For example, number 9 has binary representation 1001 and contains a binary gap of length 2. The number 529 has binary representation 1000010001 and contains two  \n",
    "binary gaps: one of length 4 and one of length 3. The number 20 has binary representation 10100 and contains one binary gap of length 1. The number 15 has binary  \n",
    "representation 1111 and has no binary gaps. The number 32 has binary representation 100000 and has no binary gaps.\n",
    "\n",
    "Write a function:\n",
    "\n",
    "class Solution { public int solution(int N); }\n",
    "\n",
    "that, given a positive integer N, returns the length of its longest binary gap. The function should return 0 if N doesn't contain a binary gap.\n",
    "\n",
    "For example, given N = 1041 the function should return 5, because N has binary representation 10000010001 and so its longest binary gap is of length 5.  \n",
    "Given N = 32 the function should return 0, because N has binary representation '100000' and thus no binary gaps.\n",
    "\n",
    "Write an efficient algorithm for the following assumptions:\n",
    "\n",
    "N is an integer within the range [1..2,147,483,647]."
   ]
  },
  {
   "cell_type": "code",
   "execution_count": 5,
   "metadata": {
    "ExecuteTime": {
     "end_time": "2021-04-05T23:40:30.332024Z",
     "start_time": "2021-04-05T23:40:30.326607Z"
    }
   },
   "outputs": [],
   "source": [
    "def binaryGap(N:int)->int:\n",
    "    '''\n",
    "    Binary gap size of a integer between 0 and 2**16 (16bits representation)\n",
    "    '''\n",
    "    binary_string = f'{N:16b}'.strip().split(\"1\")\n",
    "    gaps = [len(zeros) for zeros in binary_string[1:-1]]\n",
    "    if len(gaps) == 0:\n",
    "        return 0\n",
    "    else:\n",
    "        return max(gaps)\n",
    "    \n",
    "    \n",
    "def binaryGapNoMemory(N:int)->int:\n",
    "    '''\n",
    "    This solution uses only one data structure\n",
    "    '''\n",
    "    binary_string = f'{N:16b}'.strip().split(\"1\")\n",
    "    max_gap = 0\n",
    "    \n",
    "    for zeros in binary_string[1:-1]:\n",
    "        if len(zeros) >= max_gap:       # this if statement can be replaced by a max()\n",
    "            max_gap = len(zeros)\n",
    "    \n",
    "    return max_gap\n",
    "\n",
    "def binaryGapNoMemoryClear(N:int)->int:\n",
    "    '''\n",
    "    Same solution without the if statement\n",
    "    '''\n",
    "    binary_string = f'{N:16b}'.strip().split(\"1\")\n",
    "    max_gap = 0\n",
    "    \n",
    "    for zeros in binary_string[1:-1]:\n",
    "        max_gap = max(len(zeros),max_gap)\n",
    "        \n",
    "    return max_gap"
   ]
  },
  {
   "cell_type": "code",
   "execution_count": 6,
   "metadata": {
    "ExecuteTime": {
     "end_time": "2021-04-05T23:40:30.698831Z",
     "start_time": "2021-04-05T23:40:30.695127Z"
    }
   },
   "outputs": [
    {
     "data": {
      "text/plain": [
       "0"
      ]
     },
     "execution_count": 6,
     "metadata": {},
     "output_type": "execute_result"
    }
   ],
   "source": [
    "binaryGap(1024)"
   ]
  },
  {
   "cell_type": "code",
   "execution_count": 7,
   "metadata": {
    "ExecuteTime": {
     "end_time": "2021-04-05T23:40:30.944323Z",
     "start_time": "2021-04-05T23:40:30.940916Z"
    }
   },
   "outputs": [
    {
     "data": {
      "text/plain": [
       "0"
      ]
     },
     "execution_count": 7,
     "metadata": {},
     "output_type": "execute_result"
    }
   ],
   "source": [
    "binaryGapNoMemory(1024)"
   ]
  },
  {
   "cell_type": "code",
   "execution_count": 8,
   "metadata": {
    "ExecuteTime": {
     "end_time": "2021-04-05T23:40:31.317150Z",
     "start_time": "2021-04-05T23:40:31.313858Z"
    }
   },
   "outputs": [
    {
     "data": {
      "text/plain": [
       "0"
      ]
     },
     "execution_count": 8,
     "metadata": {},
     "output_type": "execute_result"
    }
   ],
   "source": [
    "binaryGapNoMemoryClear(1024)"
   ]
  },
  {
   "cell_type": "markdown",
   "metadata": {},
   "source": [
    "# Absolute Distinct\n",
    "\n",
    "count the number of elements in an array a which are absolute distinct.\n",
    "a={-5,-3,0,1,-3} the result would be 4 because there are 4 absolute distinct elements in this array.\n"
   ]
  },
  {
   "cell_type": "code",
   "execution_count": 2,
   "metadata": {
    "ExecuteTime": {
     "end_time": "2021-04-08T00:13:20.478228Z",
     "start_time": "2021-04-08T00:13:20.468518Z"
    },
    "run_control": {
     "marked": false
    }
   },
   "outputs": [],
   "source": [
    "def absDistinctBrute(l:list)->int:\n",
    "    \"\"\"\n",
    "    Returns the number of absolute distinct values in a list of integers.\n",
    "    \n",
    "    why this is bad? Not sure, it looks like O(n) to me... - sets in python uses hashfunctions that only have constant time add if there are no colisions,\n",
    "    in the case where many collisions occur it has O(n**2) complexity. Also this solution takes O(n) memory\n",
    "    \"\"\"\n",
    "    absSet = set([abs(i) for i in l])\n",
    "    return len(absSet)\n",
    "\n",
    "def absDistintPointers(l:list)->int:\n",
    "\n",
    "    i_pointer = 0\n",
    "    f_pointer = len(l)-1\n",
    "    counter = 0\n",
    "    while i_pointer != f_pointer:\n",
    "        left = l[i_pointer]\n",
    "        right = l[f_pointer]\n",
    "        print(\"left,right elements:\",left,right)\n",
    "        print(\"soma right-left\",right+left)\n",
    "        if (right+left)>0:\n",
    "            f_pointer -=1\n",
    "            n_right = l[f_pointer]\n",
    "            counter +=1\n",
    "            while n_right == right:\n",
    "                f_pointer -=1\n",
    "                n_right = l[f_pointer]\n",
    "            print(\"if soma>0 pointers\",i_pointer,f_pointer)\n",
    "        \n",
    "        if (right+left)<0:\n",
    "            i_pointer +=1\n",
    "            n_left = l[i_pointer]   \n",
    "            counter +=1\n",
    "            while n_left == left:\n",
    "                i_pointer +=1\n",
    "                n_left = l[i_pointer]\n",
    "            print(\"if soma<0 pointers\",i_pointer,f_pointer)\n",
    "        if (right+left)==0:\n",
    "            i_pointer +=1\n",
    "            f_pointer -=1\n",
    "            counter +=1\n",
    "            print(\"if soma==0 pointers\",i_pointer,f_pointer)\n",
    "        print(\"count\",counter)\n",
    "    return counter\n",
    "      \n",
    "\n",
    "def absDistintPointers(l:list)->int:\n",
    "\n",
    "    i_pointer = 0\n",
    "    f_pointer = len(l)-1\n",
    "    counter = 0\n",
    "    while i_pointer != f_pointer:\n",
    "        left = l[i_pointer]\n",
    "        right = l[f_pointer]\n",
    "        \n",
    "        if (right+left)>0:\n",
    "            n_right = l[f_pointer]\n",
    "            while n_right == right:\n",
    "                f_pointer -=1\n",
    "                n_right = l[f_pointer]\n",
    "            counter +=1\n",
    "        \n",
    "        if (right+left)<0:\n",
    "            n_left = l[i_pointer]\n",
    "            while n_left == left:\n",
    "                i_pointer +=1\n",
    "                n_left = l[i_pointer]\n",
    "            counter +=1\n",
    "            \n",
    "        if (right+left)==0:\n",
    "            i_pointer +=1\n",
    "            f_pointer -=1\n",
    "            counter +=1\n",
    "    return counter\n",
    "        "
   ]
  },
  {
   "cell_type": "code",
   "execution_count": 3,
   "metadata": {
    "ExecuteTime": {
     "end_time": "2021-04-08T00:13:22.232550Z",
     "start_time": "2021-04-08T00:13:20.975437Z"
    }
   },
   "outputs": [
    {
     "data": {
      "text/plain": [
       "10000000"
      ]
     },
     "execution_count": 3,
     "metadata": {},
     "output_type": "execute_result"
    }
   ],
   "source": [
    "absDistinctBrute(list(range(10000000)))"
   ]
  },
  {
   "cell_type": "code",
   "execution_count": 4,
   "metadata": {
    "ExecuteTime": {
     "end_time": "2021-04-08T00:13:25.518033Z",
     "start_time": "2021-04-08T00:13:22.234755Z"
    }
   },
   "outputs": [
    {
     "data": {
      "text/plain": [
       "9999999"
      ]
     },
     "execution_count": 4,
     "metadata": {},
     "output_type": "execute_result"
    }
   ],
   "source": [
    "absDistintPointers(list(range(10000000)))"
   ]
  },
  {
   "cell_type": "markdown",
   "metadata": {
    "ExecuteTime": {
     "end_time": "2021-04-05T02:34:05.006243Z",
     "start_time": "2021-04-05T02:34:05.004090Z"
    }
   },
   "source": [
    "# Max Length Concatenation \n",
    "\n",
    "    Given an array of strings, s is the concatenation of a subsequence of the array which have unique characters\n",
    "    return the maximum possible lenght of s\n",
    "    \n",
    "    ex: array = [\"un\",\"iq\",\"ue\"], possible s = \"\",\"un\",\"iq\",\"ue\",\"uniq\" and \"ique\". Therefore the function should return 4"
   ]
  },
  {
   "cell_type": "code",
   "execution_count": 492,
   "metadata": {
    "ExecuteTime": {
     "end_time": "2021-04-11T06:10:31.948186Z",
     "start_time": "2021-04-11T06:10:31.929655Z"
    }
   },
   "outputs": [],
   "source": [
    "import itertools\n",
    "def MaxLengthConcat_BruteForce(strings:list)->int:\n",
    "    \"\"\"\n",
    "    why this is extremely bad? we have to use two data structures (f and fin) both using memory O(n**2), also the running complexity \n",
    "    should be at least O(2**n) since we calculate/evaluate all possible combinations of sequences\n",
    "    \n",
    "    - str.join() time complexity is O(n)\n",
    "    - f = f+list[str] time complexity is O(n**2) \n",
    "    - f += list[str] time complexity is O(k)\n",
    "    - f.extend(list[str]) time complexity is O(k) (sligthly slower than += )\n",
    "    \"\"\"\n",
    "    lengths = list(range(len(strings)))\n",
    "    f =[]\n",
    "    for L in (combinations(strings, length) for length in lengths):\n",
    "        f += list(([\"\".join(i) for i in L]))    \n",
    "        fin = [len(s) for s in f if len(s) == len(set(s))]\n",
    "        \n",
    "    return max(fin)\n",
    "\n",
    "\n",
    "def MaxLengthConcatHash(strings:list)->int:\n",
    "    \"\"\"\n",
    "    Not Sure about complexity of this algorithm since we create a set for each interaction but it is probably O(n*L) n-arrays size, L-strings size \n",
    "    Considering that the sort is O(n log n)\n",
    "    We also have to store a set but it uses only O(1) memory since there are a limited number of possible characters\n",
    "    \"\"\"\n",
    "    strings.sort(key=len, reverse=True)\n",
    "    char_set = set()\n",
    "    count = 0\n",
    "    for s in strings:\n",
    "        el_set = set(s)\n",
    "        if (len(s) == len(el_set)) & (len(char_set.intersection(el_set)) == 0):\n",
    "            char_set.update(s)\n",
    "            count += len(s) \n",
    "    return count\n",
    "    "
   ]
  },
  {
   "cell_type": "code",
   "execution_count": 493,
   "metadata": {
    "ExecuteTime": {
     "end_time": "2021-04-11T06:10:32.431576Z",
     "start_time": "2021-04-11T06:10:32.422700Z"
    }
   },
   "outputs": [
    {
     "data": {
      "text/plain": [
       "8"
      ]
     },
     "execution_count": 493,
     "metadata": {},
     "output_type": "execute_result"
    }
   ],
   "source": [
    "MaxLengthConcatHash([\"un\",\"iq\",\"unafi\",\"ers\"])"
   ]
  },
  {
   "cell_type": "code",
   "execution_count": 585,
   "metadata": {
    "ExecuteTime": {
     "end_time": "2021-04-05T02:34:26.218970Z",
     "start_time": "2021-04-05T02:34:26.213604Z"
    }
   },
   "outputs": [
    {
     "data": {
      "text/plain": [
       "8"
      ]
     },
     "execution_count": 585,
     "metadata": {},
     "output_type": "execute_result"
    }
   ],
   "source": [
    "MaxLengthConcat_BruteForce([\"un\",\"iq\",\"unafi\",\"ers\"])"
   ]
  },
  {
   "cell_type": "code",
   "execution_count": 356,
   "metadata": {
    "ExecuteTime": {
     "end_time": "2021-04-04T06:08:05.372584Z",
     "start_time": "2021-04-04T06:08:05.369940Z"
    }
   },
   "outputs": [],
   "source": [
    "[\"un\",\"iq\",\"unafi\",\"ers\"].sort(key=len)"
   ]
  },
  {
   "cell_type": "code",
   "execution_count": 586,
   "metadata": {
    "ExecuteTime": {
     "end_time": "2021-04-05T02:35:19.064275Z",
     "start_time": "2021-04-05T02:35:19.060001Z"
    }
   },
   "outputs": [
    {
     "data": {
      "text/plain": [
       "17"
      ]
     },
     "execution_count": 586,
     "metadata": {},
     "output_type": "execute_result"
    }
   ],
   "source": [
    "MaxLengthConcatHash([\"un\",\"iq\",\"unafi\",\"ers\",\"st\",\"w\",\"x\",\"y\",\"o\",\"p\",\"h\",\"v\",\"c\",\"z\",\"zi\",\"lu\"])"
   ]
  },
  {
   "cell_type": "code",
   "execution_count": 587,
   "metadata": {
    "ExecuteTime": {
     "end_time": "2021-04-05T02:35:38.865364Z",
     "start_time": "2021-04-05T02:35:38.576555Z"
    }
   },
   "outputs": [
    {
     "data": {
      "text/plain": [
       "17"
      ]
     },
     "execution_count": 587,
     "metadata": {},
     "output_type": "execute_result"
    }
   ],
   "source": [
    "MaxLengthConcat_BruteForce([\"un\",\"iq\",\"unafi\",\"ers\",\"st\",\"w\",\"x\",\"y\",\"o\",\"p\",\"h\",\"v\",\"c\",\"z\",\"zi\",\"lu\"])"
   ]
  },
  {
   "cell_type": "markdown",
   "metadata": {
    "ExecuteTime": {
     "end_time": "2021-04-04T05:53:30.075050Z",
     "start_time": "2021-04-04T05:53:30.071611Z"
    }
   },
   "source": [
    "# Reverse Only Letters\n",
    "\n",
    "Given a string S, return the \"reversed\" string where all characters that are not a letter stay in the same place,  \n",
    "and all letters reverse their positions.\n",
    "\n",
    " \n",
    "\n",
    "Example 1:\n",
    "\n",
    "Input: \"ab-cd\"\n",
    "Output: \"dc-ba\"\n",
    "Example 2:\n",
    "\n",
    "Input: \"a-bC-dEf-ghIj\"\n",
    "Output: \"j-Ih-gfE-dCba\"\n",
    "Example 3:\n",
    "\n",
    "Input: \"Test1ng-Leet=code-Q!\"\n",
    "Output: \"Qedo1ct-eeLg=ntse-T!\"\n"
   ]
  },
  {
   "cell_type": "code",
   "execution_count": 677,
   "metadata": {
    "ExecuteTime": {
     "end_time": "2021-04-05T03:16:15.833661Z",
     "start_time": "2021-04-05T03:16:15.826809Z"
    }
   },
   "outputs": [],
   "source": [
    "import re\n",
    "def reverseLetters(string:str)->str:\n",
    "    \"\"\"\n",
    "    Given a string s, return the reversed string where all characters that are not a letter stay \n",
    "    in the same place and all letters reverse their positions. e.g. \"ab-cd\" -> \"dc-ba\"; \"a-bC-dEf-ghIj\" -> \"j-Ih-gfE-dCba\"\n",
    "    \"\"\"\n",
    "    rev_letters = \"\".join(re.split('[^a-zA-Z]',string[::-1]))\n",
    "    reversed_String = ''\n",
    "    rev_count = 0\n",
    "    for i in string:\n",
    "        is_letter = re.match('[^a-zA-Z]', i) == None\n",
    "        if is_letter:\n",
    "            reversed_String +=  rev_letters[rev_count]\n",
    "            rev_count +=1\n",
    "        else:\n",
    "            reversed_String +=  i\n",
    "\n",
    "    return reversed_String\n",
    "\n",
    "\n",
    "def reverseLettersClean(string:str)->str:\n",
    "    \n",
    "    letters = \"\".join(re.split('[^a-zA-Z]',string))\n",
    "    reversed_String = \"\"\n",
    "    index = len(letters)-1\n",
    "    \n",
    "    for i in string:\n",
    "        if i.isalpha():\n",
    "            reversed_String += letters[index]\n",
    "            index -=1\n",
    "        else:\n",
    "            reversed_String +=i\n",
    "    return reversed_String\n",
    "\n",
    "\n",
    "def reverseLettersCleaner(string:str)->str:\n",
    "    \n",
    "    reversed_String = \"\"\n",
    "    index = len(string)-1\n",
    "    \n",
    "    for i in string:\n",
    "        if i.isalpha():\n",
    "            while string[index].isalpha() == False:\n",
    "                index -=1\n",
    "                \n",
    "            reversed_String += string[index]\n",
    "            index -=1\n",
    "        else:\n",
    "            reversed_String +=i\n",
    "    return reversed_String"
   ]
  },
  {
   "cell_type": "code",
   "execution_count": 684,
   "metadata": {
    "ExecuteTime": {
     "end_time": "2021-04-05T03:18:12.139249Z",
     "start_time": "2021-04-05T03:18:12.136050Z"
    }
   },
   "outputs": [
    {
     "data": {
      "text/plain": [
       "\"fdsa1jd-fsio=ufds;apfd;safsd;fdjskalfdsajklfdjas;l-fkdslakj=' pdaklskjledo90c235teeLgntseT()\""
      ]
     },
     "execution_count": 684,
     "metadata": {},
     "output_type": "execute_result"
    }
   ],
   "source": [
    "reverseLetters(\"Test1ng-Leet=code;ljks;lkadp;jkalsdkflsajdflkjas;d-flaksjdf=' dsfasdfpasdf90u235oisfdjasdf()\")"
   ]
  },
  {
   "cell_type": "code",
   "execution_count": 685,
   "metadata": {
    "ExecuteTime": {
     "end_time": "2021-04-05T03:18:12.754448Z",
     "start_time": "2021-04-05T03:18:12.750820Z"
    }
   },
   "outputs": [
    {
     "data": {
      "text/plain": [
       "\"fdsa1jd-fsio=ufds;apfd;safsd;fdjskalfdsajklfdjas;l-fkdslakj=' pdaklskjledo90c235teeLgntseT()\""
      ]
     },
     "execution_count": 685,
     "metadata": {},
     "output_type": "execute_result"
    }
   ],
   "source": [
    "reverseLettersClean(\"Test1ng-Leet=code;ljks;lkadp;jkalsdkflsajdflkjas;d-flaksjdf=' dsfasdfpasdf90u235oisfdjasdf()\")"
   ]
  },
  {
   "cell_type": "code",
   "execution_count": 683,
   "metadata": {
    "ExecuteTime": {
     "end_time": "2021-04-05T03:17:57.033622Z",
     "start_time": "2021-04-05T03:17:57.030154Z"
    }
   },
   "outputs": [
    {
     "data": {
      "text/plain": [
       "\"fdsa1jd-fsio=ufds;apfd;safsd;fdjskalfdsajklfdjas;l-fkdslakj=' pdaklskjledo90c235teeLgntseT()\""
      ]
     },
     "execution_count": 683,
     "metadata": {},
     "output_type": "execute_result"
    }
   ],
   "source": [
    "reverseLettersCleaner(\"Test1ng-Leet=code;ljks;lkadp;jkalsdkflsajdflkjas;d-flaksjdf=' dsfasdfpasdf90u235oisfdjasdf()\")"
   ]
  },
  {
   "cell_type": "markdown",
   "metadata": {},
   "source": [
    "# Maximun Subarray\n",
    "\n",
    "Given an integer array nums, find the contiguous subarray (containing at least one number) which has the largest sum and return its sum.\n",
    "\n",
    " \n",
    "\n",
    "Example 1:\n",
    "\n",
    "Input: nums = [-2,1,-3,4,-1,2,1,-5,4]\n",
    "Output: 6\n",
    "Explanation: [4,-1,2,1] has the largest sum = 6.\n",
    "Example 2:\n",
    "\n",
    "Input: nums = [1]\n",
    "Output: 1\n",
    "Example 3:\n",
    "\n",
    "Input: nums = [5,4,-1,7,8]\n",
    "Output: 23"
   ]
  },
  {
   "cell_type": "code",
   "execution_count": 25,
   "metadata": {
    "ExecuteTime": {
     "end_time": "2021-04-06T00:17:24.765858Z",
     "start_time": "2021-04-06T00:17:24.759178Z"
    }
   },
   "outputs": [],
   "source": [
    "def MaxSubArrayBruteForceWrong(nums:list)->int:\n",
    "    \"\"\"\n",
    "    This solution doesn`t work because the problem specificaly states that there must be at least one number in the subarray and all\n",
    "    the elements of the list can be negative numbers, if this happens max_sum will always be bigger than any number and the result will\n",
    "    always be 0\n",
    "    \"\"\"\n",
    "    max_sum = 0\n",
    "    for i,n_head in enumerate(nums):\n",
    "        curr_sum = n_head\n",
    "        if curr_sum > max_sum:\n",
    "                max_sum = curr_sum\n",
    "        for num in nums[i+1:]:\n",
    "            curr_sum += num\n",
    "            if curr_sum > max_sum:       # see bellow how to replace if statements with max() the code gets more cleaner\n",
    "                max_sum = curr_sum\n",
    "    \n",
    "    return max_sum\n",
    "\n",
    "\n",
    "def MaxSubArrayBruteForce(nums:list)->int:\n",
    "    \"\"\"\n",
    "    \n",
    "    \"\"\"\n",
    "    max_sum = -math.inf\n",
    "    for i,n_head in enumerate(nums):\n",
    "        curr_sum = n_head\n",
    "        max_sum = max(max_sum,curr_sum)\n",
    "        for num in nums[i+1:]:\n",
    "            curr_sum += num\n",
    "            max_sum = max(max_sum,curr_sum)\n",
    "    \n",
    "    return max_sum\n",
    "\n",
    "\n",
    "def maxSubArray(nums:list) -> int:\n",
    "    max_subarray = -math.inf\n",
    "    for i in range(len(nums)):\n",
    "        current_subarray = 0\n",
    "        for j in range(i, len(nums)):\n",
    "            current_subarray += nums[j]\n",
    "            max_subarray = max(max_subarray, current_subarray)\n",
    "    \n",
    "    return max_subarray\n",
    "\n",
    "def max_subarray_kadane(nums:list) -> int:\n",
    "    max_subarray = curr_subarray = nums[0]\n",
    "    for num in nums[1:]:\n",
    "        curr_subarray = max(curr_subarray+num,num)     # credo que delícia\n",
    "        max_subarray = max(max_subarray,curr_subarray)\n",
    "    \n",
    "    return max_subarray\n",
    "        "
   ]
  },
  {
   "cell_type": "code",
   "execution_count": 27,
   "metadata": {
    "ExecuteTime": {
     "end_time": "2021-04-06T00:17:46.609346Z",
     "start_time": "2021-04-06T00:17:46.605527Z"
    }
   },
   "outputs": [
    {
     "data": {
      "text/plain": [
       "-1"
      ]
     },
     "execution_count": 27,
     "metadata": {},
     "output_type": "execute_result"
    }
   ],
   "source": [
    "max_subarray_kadane([-2,-1,-3,-4,-1,-2,-1,-5,-4])"
   ]
  },
  {
   "cell_type": "code",
   "execution_count": 748,
   "metadata": {
    "ExecuteTime": {
     "end_time": "2021-04-05T05:04:04.534719Z",
     "start_time": "2021-04-05T05:04:04.530758Z"
    }
   },
   "outputs": [
    {
     "data": {
      "text/plain": [
       "6"
      ]
     },
     "execution_count": 748,
     "metadata": {},
     "output_type": "execute_result"
    }
   ],
   "source": [
    "MaxSubArrayBruteForce([-2,1,-3,4,-1,2,1,-5,4])"
   ]
  },
  {
   "cell_type": "code",
   "execution_count": 749,
   "metadata": {
    "ExecuteTime": {
     "end_time": "2021-04-05T05:04:06.476040Z",
     "start_time": "2021-04-05T05:04:06.472107Z"
    }
   },
   "outputs": [
    {
     "data": {
      "text/plain": [
       "6"
      ]
     },
     "execution_count": 749,
     "metadata": {},
     "output_type": "execute_result"
    }
   ],
   "source": [
    "maxSubArray([-2,1,-3,4,-1,2,1,-5,4])"
   ]
  },
  {
   "cell_type": "code",
   "execution_count": 750,
   "metadata": {
    "ExecuteTime": {
     "end_time": "2021-04-05T05:04:07.705142Z",
     "start_time": "2021-04-05T05:04:07.701763Z"
    }
   },
   "outputs": [
    {
     "data": {
      "text/plain": [
       "1"
      ]
     },
     "execution_count": 750,
     "metadata": {},
     "output_type": "execute_result"
    }
   ],
   "source": [
    "MaxSubArrayBruteForce([1])"
   ]
  },
  {
   "cell_type": "code",
   "execution_count": 751,
   "metadata": {
    "ExecuteTime": {
     "end_time": "2021-04-05T05:04:08.429388Z",
     "start_time": "2021-04-05T05:04:08.425681Z"
    }
   },
   "outputs": [
    {
     "data": {
      "text/plain": [
       "23"
      ]
     },
     "execution_count": 751,
     "metadata": {},
     "output_type": "execute_result"
    }
   ],
   "source": [
    "MaxSubArrayBruteForce([5,4,-1,7,8])"
   ]
  },
  {
   "cell_type": "markdown",
   "metadata": {},
   "source": [
    "# Fibonacci\n",
    "\n",
    "Plain old fibonacci to play with dynamic programming "
   ]
  },
  {
   "cell_type": "code",
   "execution_count": 91,
   "metadata": {
    "ExecuteTime": {
     "end_time": "2021-05-01T21:32:56.861106Z",
     "start_time": "2021-05-01T21:32:56.851861Z"
    }
   },
   "outputs": [],
   "source": [
    "def fibrecursive(n:int)->int:\n",
    "    if n==1 or n==0:\n",
    "        return n\n",
    "    else:\n",
    "        return fibrecursive(n-1) + fibrecursive(n-2)\n",
    "    \n",
    "    \n",
    "    \n",
    "\n",
    "memo ={}\n",
    "def fibmemo(n:int)->int:\n",
    "    if n==1 or n==0:\n",
    "        return n\n",
    "    if n not in memo:\n",
    "        memo[n] = fibmemo(n-1) + fibmemo(n-2)\n",
    "    return memo[n]\n",
    "\n",
    "\n",
    "\n",
    "\n",
    "def fibmemointern(n:int)->int:\n",
    "    \"\"\" This solution uses an intern function to do iterate recursevly without the need to declare the dictionary externaly\"\"\"\n",
    "    memo = {0:0,1:1}\n",
    "    def fibmeme(n:int) ->int:\n",
    "        if n not in memo:\n",
    "            memo[n] = fibmeme(n-1)+fibmeme(n-2)\n",
    "        return memo[n]\n",
    "    \n",
    "    return fibmeme(n)\n",
    "\n",
    "\n",
    "\n",
    "\n",
    "def fibdecorator(f):\n",
    "    memo = {0:0,1:1}\n",
    "    def dict_check(n):\n",
    "        if n not in memo:\n",
    "            memo[n] = f(n)\n",
    "        return memo[n]\n",
    "    return dict_check\n",
    "\n",
    "@fibdecorator\n",
    "def fibd(n:int)->int:\n",
    "    if n == 1 or n ==0 :\n",
    "        return n\n",
    "    else:\n",
    "        return fibd(n-1) + fibd(n-2)\n",
    " \n",
    "\n",
    "\n",
    "\n",
    "    \n",
    "def fibmemointern(n:int,memo:dict={0:0,1:1})->int:\n",
    "    \"\"\"\n",
    "    This solution creates the memo dict as default in the function call and pass it in the recursion calls\n",
    "    - it takes into the advantage that the function can modify the objects passed as parameters\n",
    "    \"\"\"\n",
    "    if n not in memo:\n",
    "        memo[n] = fibmemointern(n-1,memo) + fibmemointern(n-2,memo)\n",
    "    return memo[n]\n"
   ]
  },
  {
   "cell_type": "code",
   "execution_count": 595,
   "metadata": {
    "ExecuteTime": {
     "end_time": "2021-05-09T04:28:06.629990Z",
     "start_time": "2021-05-09T04:28:06.626451Z"
    }
   },
   "outputs": [
    {
     "data": {
      "text/plain": [
       "34"
      ]
     },
     "execution_count": 595,
     "metadata": {},
     "output_type": "execute_result"
    }
   ],
   "source": [
    "fibd(9)"
   ]
  },
  {
   "cell_type": "code",
   "execution_count": 108,
   "metadata": {
    "ExecuteTime": {
     "end_time": "2021-05-01T21:36:25.352945Z",
     "start_time": "2021-05-01T21:36:25.349175Z"
    }
   },
   "outputs": [
    {
     "data": {
      "text/plain": [
       "2880067194370816120"
      ]
     },
     "execution_count": 108,
     "metadata": {},
     "output_type": "execute_result"
    }
   ],
   "source": [
    "fibmemo(90)"
   ]
  },
  {
   "cell_type": "code",
   "execution_count": 636,
   "metadata": {
    "ExecuteTime": {
     "end_time": "2021-04-23T16:07:36.970713Z",
     "start_time": "2021-04-23T16:07:36.961874Z"
    }
   },
   "outputs": [
    {
     "data": {
      "text/plain": [
       "2880067194370816120"
      ]
     },
     "execution_count": 636,
     "metadata": {},
     "output_type": "execute_result"
    }
   ],
   "source": [
    "fibmemointern(90)"
   ]
  },
  {
   "cell_type": "markdown",
   "metadata": {
    "ExecuteTime": {
     "end_time": "2021-04-07T03:55:25.390988Z",
     "start_time": "2021-04-07T03:55:25.388873Z"
    }
   },
   "source": [
    "# Array Rotation\n",
    "\n",
    "Given an array, rotate the array to the right by k steps, where k is non-negative.\n",
    "\n",
    " \n",
    "\n",
    "Example 1:\n",
    "\n",
    "Input: nums = [1,2,3,4,5,6,7], k = 3  \n",
    "Output: [5,6,7,1,2,3,4]  \n",
    "  \n",
    "Explanation:  \n",
    "rotate 1 steps to the right: [7,1,2,3,4,5,6]  \n",
    "rotate 2 steps to the right: [6,7,1,2,3,4,5]  \n",
    "rotate 3 steps to the right: [5,6,7,1,2,3,4]  "
   ]
  },
  {
   "cell_type": "code",
   "execution_count": 500,
   "metadata": {
    "ExecuteTime": {
     "end_time": "2021-04-11T06:17:55.601749Z",
     "start_time": "2021-04-11T06:17:55.597151Z"
    }
   },
   "outputs": [],
   "source": [
    "# using modular arithmetic - chech this too\n",
    "\n",
    "def rotation_whrong(A, K):\n",
    "    \"\"\" this solution is wrong - it gets the whrong result if K> len(A)\"\"\"\n",
    "    return A[-K:] + A[:-K]\n",
    "\n",
    "def array_rotation(A, K):\n",
    "    \"\"\" \n",
    "    This solution uses modular arithmetic to solve this problem. To rotate in the different direction just\n",
    "    change the signal of K\n",
    "    \"\"\"\n",
    "    \n",
    "    indices = list(range(1,len(A)+1))\n",
    "    new_indices = {(i+K-1)%len(indices):a for i,a in zip(indices,A)}\n",
    "    return [new_indices[i] for i in range(len(A))]\n",
    "\n",
    "def array_rotation_deque(A,K):\n",
    "    \"\"\"\n",
    "    solution using collections deque\n",
    "    - WAY faster than using dicts and lists\n",
    "    \"\"\"\n",
    "    A_deque = deque(A)\n",
    "    A_deque.rotate(K)\n",
    "    return list(A_deque)"
   ]
  },
  {
   "cell_type": "code",
   "execution_count": 501,
   "metadata": {
    "ExecuteTime": {
     "end_time": "2021-04-11T06:17:56.167743Z",
     "start_time": "2021-04-11T06:17:56.163701Z"
    }
   },
   "outputs": [
    {
     "data": {
      "text/plain": [
       "[9, 7, 6, 3, 8]"
      ]
     },
     "execution_count": 501,
     "metadata": {},
     "output_type": "execute_result"
    }
   ],
   "source": [
    "A = [3, 8, 9, 7, 6]\n",
    "K = 3\n",
    "\n",
    "array_rotation(A, K)"
   ]
  },
  {
   "cell_type": "code",
   "execution_count": 502,
   "metadata": {
    "ExecuteTime": {
     "end_time": "2021-04-11T06:17:57.158731Z",
     "start_time": "2021-04-11T06:17:57.155153Z"
    }
   },
   "outputs": [
    {
     "data": {
      "text/plain": [
       "[9, 7, 6, 3, 8]"
      ]
     },
     "execution_count": 502,
     "metadata": {},
     "output_type": "execute_result"
    }
   ],
   "source": [
    "rotation_whrong(A, K)"
   ]
  },
  {
   "cell_type": "code",
   "execution_count": 503,
   "metadata": {
    "ExecuteTime": {
     "end_time": "2021-04-11T06:17:58.029710Z",
     "start_time": "2021-04-11T06:17:58.026329Z"
    }
   },
   "outputs": [
    {
     "data": {
      "text/plain": [
       "[9, 7, 6, 3, 8]"
      ]
     },
     "execution_count": 503,
     "metadata": {},
     "output_type": "execute_result"
    }
   ],
   "source": [
    "array_rotation_deque(A,K)"
   ]
  },
  {
   "cell_type": "code",
   "execution_count": 509,
   "metadata": {
    "ExecuteTime": {
     "end_time": "2021-04-11T06:19:55.855233Z",
     "start_time": "2021-04-11T06:19:52.157992Z"
    }
   },
   "outputs": [],
   "source": [
    "_ =array_rotation(list(range(10_000_000)),100)"
   ]
  },
  {
   "cell_type": "code",
   "execution_count": 508,
   "metadata": {
    "ExecuteTime": {
     "end_time": "2021-04-11T06:19:50.272149Z",
     "start_time": "2021-04-11T06:19:49.647525Z"
    }
   },
   "outputs": [],
   "source": [
    "_ =array_rotation_deque(list(range(10_000_000)),100)"
   ]
  },
  {
   "cell_type": "code",
   "execution_count": 276,
   "metadata": {
    "ExecuteTime": {
     "end_time": "2021-04-07T12:25:26.948938Z",
     "start_time": "2021-04-07T12:25:26.945309Z"
    }
   },
   "outputs": [
    {
     "data": {
      "text/plain": [
       "[6, 3, 8, 9, 7]"
      ]
     },
     "execution_count": 276,
     "metadata": {},
     "output_type": "execute_result"
    }
   ],
   "source": [
    "array_rotation(A, 411)"
   ]
  },
  {
   "cell_type": "code",
   "execution_count": 277,
   "metadata": {
    "ExecuteTime": {
     "end_time": "2021-04-07T12:25:37.957853Z",
     "start_time": "2021-04-07T12:25:37.954229Z"
    }
   },
   "outputs": [
    {
     "data": {
      "text/plain": [
       "[3, 8, 9, 7, 6]"
      ]
     },
     "execution_count": 277,
     "metadata": {},
     "output_type": "execute_result"
    }
   ],
   "source": [
    "rotation_whrong(A, 41)"
   ]
  },
  {
   "cell_type": "markdown",
   "metadata": {},
   "source": [
    "# Odd Occurencies in Array\n",
    "\n",
    "A non-empty array A consisting of N integers is given. The array contains an odd number of elements, and each element of the  \n",
    "array can be paired with another element that has the same value, except for one element that is left unpaired.\n",
    "\n",
    "For example, in array A such that:  \n",
    "  \n",
    "  A[0] = 9  \n",
    "  A[1] = 3  \n",
    "  A[2] = 9  \n",
    "  A[3] = 3  \n",
    "  A[4] = 9  \n",
    "  A[5] = 7    \n",
    "  A[6] = 9    \n",
    "    \n",
    "the elements at indexes 0 and 2 have value 9,  \n",
    "the elements at indexes 1 and 3 have value 3,  \n",
    "the elements at indexes 4 and 6 have value 9,  \n",
    "the element at index 5 has value 7 and is unpaired.  \n",
    "Write a function:  \n",
    "\n",
    "class Solution { public int solution(int[] A); }  \n",
    "\n",
    "that, given an array A consisting of N integers fulfilling the above conditions, returns the value of the unpaired element.  \n",
    "\n",
    "For example, given array A:  \n",
    "\n",
    "the function should return 7, as explained in the example above."
   ]
  },
  {
   "cell_type": "code",
   "execution_count": 284,
   "metadata": {
    "ExecuteTime": {
     "end_time": "2021-05-02T14:14:18.713176Z",
     "start_time": "2021-05-02T14:14:18.708797Z"
    }
   },
   "outputs": [],
   "source": [
    "def odd_occurencies(A):\n",
    "    \"\"\"\n",
    "    Returns the Only element that occurs in a odd number in an array.\n",
    "    \"\"\"\n",
    "    \n",
    "    count ={}\n",
    "    for i in A:\n",
    "        if i in count:\n",
    "            count[i] +=1\n",
    "        else:\n",
    "            count[i] =1\n",
    "    \n",
    "    values = {count[i]%2:i for i in count.keys() if count[i]%2 == 1 }\n",
    "    \n",
    "    return values[1]\n",
    "\n",
    "def odd_occurencies_2(A:list)->int:\n",
    "    \"\"\"\n",
    "    Same time complexity O(n), but space complexity is O(1)\n",
    "    Code is way simpler too\n",
    "    \"\"\"\n",
    "    xor=0\n",
    "    for i in A:\n",
    "        xor = xor^i\n",
    "    \n",
    "    return xor\n",
    "        "
   ]
  },
  {
   "cell_type": "code",
   "execution_count": 285,
   "metadata": {
    "ExecuteTime": {
     "end_time": "2021-05-02T14:14:38.965034Z",
     "start_time": "2021-05-02T14:14:38.961162Z"
    }
   },
   "outputs": [
    {
     "data": {
      "text/plain": [
       "4"
      ]
     },
     "execution_count": 285,
     "metadata": {},
     "output_type": "execute_result"
    }
   ],
   "source": [
    "odd_occurencies([1,2,1,2,1,2,1,2,4,4,4,4,4,9,9])"
   ]
  },
  {
   "cell_type": "code",
   "execution_count": 294,
   "metadata": {
    "ExecuteTime": {
     "end_time": "2021-05-02T14:25:30.306029Z",
     "start_time": "2021-05-02T14:25:30.301931Z"
    }
   },
   "outputs": [
    {
     "data": {
      "text/plain": [
       "4"
      ]
     },
     "execution_count": 294,
     "metadata": {},
     "output_type": "execute_result"
    }
   ],
   "source": [
    "odd_occurencies_2([1,2,1,2,1,2,1,2,4,4,4,4,4,9,9])"
   ]
  },
  {
   "cell_type": "markdown",
   "metadata": {
    "ExecuteTime": {
     "end_time": "2021-04-08T03:23:49.754000Z",
     "start_time": "2021-04-08T03:23:49.751858Z"
    }
   },
   "source": [
    "# FrogJmp\n",
    "\n",
    "\n",
    "A small frog wants to get to the other side of the road. The frog is currently located at position X and wants to get to a position \n",
    "greater than or equal to Y. The small frog always jumps a fixed distance, D.  \n",
    "\n",
    "Count the minimal number of jumps that the small frog must perform to reach its target.  \n",
    "  \n",
    "Write a function:  \n",
    "\n",
    "class Solution { public int solution(int X, int Y, int D); }  \n",
    "\n",
    "that, given three integers X, Y and D, returns the minimal number of jumps from position X to a position equal to or greater than Y.  \n",
    "\n",
    "For example, given:  \n",
    "  \n",
    "  X = 10  \n",
    "  Y = 85  \n",
    "  D = 30  \n",
    "    \n",
    "the function should return 3, because the frog will be positioned as follows:  \n",
    "\n",
    "after the first jump, at position 10 + 30 = 40  \n",
    "after the second jump, at position 10 + 30 + 30 = 70  \n",
    "after the third jump, at position 10 + 30 + 30 + 30 = 100  \n",
    "Write an efficient algorithm for the following assumptions:  \n",
    "\n",
    "X, Y and D are integers within the range [1..1,000,000,000];  \n",
    "X ≤ Y.  "
   ]
  },
  {
   "cell_type": "code",
   "execution_count": null,
   "metadata": {},
   "outputs": [],
   "source": [
    "import math\n",
    "\n",
    "def solution(X, Y, D):\n",
    "    distance = Y-X\n",
    "\n",
    "    return math.ceil(distance/D)"
   ]
  },
  {
   "cell_type": "markdown",
   "metadata": {},
   "source": [
    "# PermMissing Element\n",
    "\n",
    "An array A consisting of N different integers is given. The array contains integers in the range [1..(N + 1)], which means that exactly one element is missing.  \n",
    "\n",
    "Your goal is to find that missing element.  \n",
    "\n",
    "Write a function:  \n",
    "  \n",
    "def solution(A)  \n",
    "  \n",
    "that, given an array A, returns the value of the missing element.\n",
    "\n",
    "For example, given array A such that:\n",
    "\n",
    "  A[0] = 2  \n",
    "  A[1] = 3  \n",
    "  A[2] = 1  \n",
    "  A[3] = 5  \n",
    "the function should return 4, as it is the missing element.  \n",
    "\n",
    "Write an efficient algorithm for the following assumptions:  \n",
    "\n",
    "N is an integer within the range [0..100,000];  \n",
    "the elements of A are all distinct;  \n",
    "each element of array A is an integer within the range [1..(N + 1)].  "
   ]
  },
  {
   "cell_type": "code",
   "execution_count": 104,
   "metadata": {
    "ExecuteTime": {
     "end_time": "2021-04-09T00:22:39.609853Z",
     "start_time": "2021-04-09T00:22:39.599666Z"
    }
   },
   "outputs": [],
   "source": [
    "def solution(A):\n",
    "    \n",
    "    if len(A) == 0:\n",
    "        return 1\n",
    "    if len(A) ==1:\n",
    "        if A[0]<100000:\n",
    "            return A[0]+1\n",
    "        else:\n",
    "            return 100000-1\n",
    "    A.sort()\n",
    "    missing_element_set = set(A)\n",
    "    all_elements_set = set(range(A[0],len(A)+1))\n",
    "    diff = all_elements_set - missing_element_set\n",
    "    \n",
    "    if len(diff) == 0:\n",
    "        return A[-1]+1\n",
    "\n",
    "    return (all_elements_set - missing_element_set).pop()\n",
    "\n",
    "\n",
    "def rightsolution(A):\n",
    "\n",
    "    n = len(A)+1\n",
    "    result = n * (n + 1)//2\n",
    "\n",
    "    return result - sum(A)"
   ]
  },
  {
   "cell_type": "code",
   "execution_count": 105,
   "metadata": {
    "ExecuteTime": {
     "end_time": "2021-04-09T00:22:52.657188Z",
     "start_time": "2021-04-09T00:22:52.653850Z"
    }
   },
   "outputs": [
    {
     "data": {
      "text/plain": [
       "3"
      ]
     },
     "execution_count": 105,
     "metadata": {},
     "output_type": "execute_result"
    }
   ],
   "source": [
    "rightsolution([1,2])"
   ]
  },
  {
   "cell_type": "markdown",
   "metadata": {},
   "source": [
    "# Tape Equilibrium\n",
    "\n",
    "A non-empty array A consisting of N integers is given. Array A represents numbers on a tape.  \n",
    "Any integer P, such that 0 < P < N, splits this tape into two non-empty parts:   \n",
    "A[0], A[1], ..., A[P − 1] and A[P], A[P + 1], ..., A[N − 1].\n",
    "The difference between the two parts is the value of: |(A[0] + A[1] + ... + A[P − 1]) − (A[P] + A[P + 1] + ... + A[N − 1])  \n",
    "In other words, it is the absolute difference between the sum of the first part and the sum of the second part.\n",
    "\n",
    "For example, consider array A such that:  \n",
    "\n",
    "  A[0] = 3  \n",
    "  A[1] = 1  \n",
    "  A[2] = 2  \n",
    "  A[3] = 4  \n",
    "  A[4] = 3  \n",
    "\n",
    "We can split this tape in four places:  \n",
    "\n",
    "P = 1, difference = |3 − 10| = 7  \n",
    "P = 2, difference = |4 − 9| = 5  \n",
    "P = 3, difference = |6 − 7| = 1  \n",
    "P = 4, difference = |10 − 3| = 7  \n",
    "Write a function:  \n",
    "\n",
    "def solution(A)  \n",
    "  \n",
    "that, given a non-empty array A of N integers, returns the minimal difference that can be achieved.  \n",
    "\n",
    "For example, given:\n",
    "\n",
    "  A[0] = 3  \n",
    "  A[1] = 1  \n",
    "  A[2] = 2  \n",
    "  A[3] = 4  \n",
    "  A[4] = 3  \n",
    "  \n",
    "the function should return 1, as explained above.  \n",
    "\n",
    "Write an efficient algorithm for the following assumptions:  \n",
    "\n",
    "N is an integer within the range [2..100,000];  \n",
    "each element of array A is an integer within the range [−1,000..1,000].  "
   ]
  },
  {
   "cell_type": "code",
   "execution_count": 113,
   "metadata": {
    "ExecuteTime": {
     "end_time": "2021-04-09T01:20:15.408088Z",
     "start_time": "2021-04-09T01:20:15.404464Z"
    }
   },
   "outputs": [
    {
     "data": {
      "text/plain": [
       "[0, 1, 2, 3, 4]"
      ]
     },
     "execution_count": 113,
     "metadata": {},
     "output_type": "execute_result"
    }
   ],
   "source": [
    "list(range(len(f)))"
   ]
  },
  {
   "cell_type": "code",
   "execution_count": null,
   "metadata": {},
   "outputs": [],
   "source": [
    "def tape_equilibrium_slow(A):\n",
    "    \"\"\"\n",
    "    This solution runs in O(n**2) \n",
    "     - Getting an item from a list is O(1), however slicing a list is O(k) \n",
    "       (where k = final_index - initial_index e.g.: the number of elements in the slice)\n",
    "     - The sum of a list also has O(n) time complexity\n",
    "     - Because of this, each diff calculation has O(n) complexity, and since it is inside a loop \n",
    "       the total complexity is O(n**2)\n",
    "    \"\"\"\n",
    "    min_diff = math.inf\n",
    "    for i in range(1,len(A)):\n",
    "        diff = abs(sum(A[:i]) - sum(A[i:]))\n",
    "        if diff == 0:\n",
    "            return diff\n",
    "        else:\n",
    "            min_diff = min(min_diff,diff)\n",
    "    \n",
    "    return min_diff\n",
    "\n",
    "def tape_equilibrium_fast(A):\n",
    "    \"\"\"\n",
    "    This solution runs in O(n) since we only have O(1) operations inside the loop\n",
    "    \"\"\"\n",
    "    left_side = A[0]\n",
    "    right_side = sum(A[1:])\n",
    "    min_diff = abs(left_side - right_side)\n",
    "    for i in range(1,len(A)-1):\n",
    "        left_side += A[i]\n",
    "        right_side -= A[i]\n",
    "        diff = abs(left_side - right_side)\n",
    "        if diff == 0:\n",
    "            return diff\n",
    "        else:\n",
    "            min_diff = min(min_diff,diff)\n",
    "    \n",
    "    return min_diff"
   ]
  },
  {
   "cell_type": "markdown",
   "metadata": {
    "ExecuteTime": {
     "end_time": "2021-04-09T02:08:59.976376Z",
     "start_time": "2021-04-09T02:08:59.969961Z"
    }
   },
   "source": [
    "# Swap Match\n",
    "\n",
    "given 2 arrays A and B, return true if there is a way to swap one element between arrays that result in both having the   \n",
    "same sum."
   ]
  },
  {
   "cell_type": "code",
   "execution_count": 197,
   "metadata": {
    "ExecuteTime": {
     "end_time": "2021-04-10T13:29:08.806637Z",
     "start_time": "2021-04-10T13:29:08.798763Z"
    },
    "run_control": {
     "marked": false
    }
   },
   "outputs": [],
   "source": [
    "def swapmatch(A:list,B:list,K:int=0)->bool:\n",
    "    sub = sum(A)-sum(B)\n",
    "    diff = (sub)/2\n",
    "    if (sub%2) ==0:\n",
    "        needed_B = set([a-diff for a in A])\n",
    "        set_B = set(B)\n",
    "        if set_B.isdisjoint(needed_B):\n",
    "            return False\n",
    "        else:\n",
    "            return True\n",
    "    else:\n",
    "        return False\n",
    "    \n",
    "\n",
    "def swapmatch2(A:list,B:list,K:int=0)->bool:\n",
    "    diff = (sum(A)-sum(B))/2\n",
    "    if ((sum(A)-sum(B))%2) ==0:\n",
    "        needed_B = set([a-diff for a in A])\n",
    "        set_B = set(B)\n",
    "        for b in needed_B:\n",
    "            if b in set_B:\n",
    "                return False\n",
    "        else:\n",
    "            return True\n",
    "    else:\n",
    "        return False\n",
    "            \n",
    "\n",
    "def fast_solution(A, B):\n",
    "    \"\"\"\n",
    "    With the current counting it doesnt work with negative numbers\n",
    "    \"\"\"\n",
    "    m = max(len(A),len(B))+1\n",
    "    n = len(A)\n",
    "    sum_a = sum(A)\n",
    "    sum_b = sum(B)\n",
    "    d = sum_b - sum_a\n",
    "    if d % 2 == 1:\n",
    "        return False\n",
    "    d //= 2\n",
    "    count = counting(A, m)\n",
    "    for i in range(n):\n",
    "        if 0 <= B[i] - d and B[i] - d <= m and count[B[i] - d] > 0:\n",
    "            return True\n",
    "    return False"
   ]
  },
  {
   "cell_type": "code",
   "execution_count": 188,
   "metadata": {
    "ExecuteTime": {
     "end_time": "2021-04-10T12:55:52.953943Z",
     "start_time": "2021-04-10T12:55:50.754313Z"
    }
   },
   "outputs": [
    {
     "data": {
      "text/plain": [
       "True"
      ]
     },
     "execution_count": 188,
     "metadata": {},
     "output_type": "execute_result"
    }
   ],
   "source": [
    "swapmatch(range(10_000_000),range(10_000_000))"
   ]
  },
  {
   "cell_type": "code",
   "execution_count": 166,
   "metadata": {
    "ExecuteTime": {
     "end_time": "2021-04-09T03:09:23.400351Z",
     "start_time": "2021-04-09T03:09:21.593757Z"
    }
   },
   "outputs": [
    {
     "data": {
      "text/plain": [
       "True"
      ]
     },
     "execution_count": 166,
     "metadata": {},
     "output_type": "execute_result"
    }
   ],
   "source": [
    "fast_solution(range(10_000_000),range(10_000_000))"
   ]
  },
  {
   "cell_type": "code",
   "execution_count": 189,
   "metadata": {
    "ExecuteTime": {
     "end_time": "2021-04-10T12:56:57.835152Z",
     "start_time": "2021-04-10T12:56:09.695732Z"
    }
   },
   "outputs": [
    {
     "data": {
      "text/plain": [
       "True"
      ]
     },
     "execution_count": 189,
     "metadata": {},
     "output_type": "execute_result"
    }
   ],
   "source": [
    "swapmatch(range(100_000_000),range(100_000_000))"
   ]
  },
  {
   "cell_type": "code",
   "execution_count": 190,
   "metadata": {
    "ExecuteTime": {
     "end_time": "2021-04-10T12:57:15.170077Z",
     "start_time": "2021-04-10T12:56:57.838536Z"
    }
   },
   "outputs": [
    {
     "data": {
      "text/plain": [
       "True"
      ]
     },
     "execution_count": 190,
     "metadata": {},
     "output_type": "execute_result"
    }
   ],
   "source": [
    "fast_solution(range(100_000_000),range(100_000_000))"
   ]
  },
  {
   "cell_type": "code",
   "execution_count": 181,
   "metadata": {
    "ExecuteTime": {
     "end_time": "2021-04-09T03:21:46.240395Z",
     "start_time": "2021-04-09T03:21:46.236660Z"
    }
   },
   "outputs": [
    {
     "data": {
      "text/plain": [
       "True"
      ]
     },
     "execution_count": 181,
     "metadata": {},
     "output_type": "execute_result"
    }
   ],
   "source": [
    "swapmatch([-10,-10],[1,1])"
   ]
  },
  {
   "cell_type": "code",
   "execution_count": 198,
   "metadata": {
    "ExecuteTime": {
     "end_time": "2021-04-10T13:29:13.972963Z",
     "start_time": "2021-04-10T13:29:13.969295Z"
    }
   },
   "outputs": [
    {
     "data": {
      "text/plain": [
       "False"
      ]
     },
     "execution_count": 198,
     "metadata": {},
     "output_type": "execute_result"
    }
   ],
   "source": [
    "fast_solution([-10,-10],[1,1])"
   ]
  },
  {
   "cell_type": "code",
   "execution_count": 182,
   "metadata": {
    "ExecuteTime": {
     "end_time": "2021-04-10T12:52:10.529997Z",
     "start_time": "2021-04-10T12:52:07.922484Z"
    }
   },
   "outputs": [
    {
     "data": {
      "text/plain": [
       "False"
      ]
     },
     "execution_count": 182,
     "metadata": {},
     "output_type": "execute_result"
    }
   ],
   "source": [
    "swapmatch2(range(10_000_000),range(10_000_000))"
   ]
  },
  {
   "cell_type": "markdown",
   "metadata": {},
   "source": [
    "# Pairs Difference\n",
    "\n",
    "Given an array of distinct integer values, count the number of pairs of integers that have difference k.\n",
    "\n",
    "\n",
    "For example, given the array {1, 7, 5, 9, 2, 12, 3} and the difference k = 2,\n",
    "there are four pairs with difference2: (1, 3), (3, 5), (5, 7), (7, 9)."
   ]
  },
  {
   "cell_type": "code",
   "execution_count": 465,
   "metadata": {
    "ExecuteTime": {
     "end_time": "2021-04-10T20:58:59.396400Z",
     "start_time": "2021-04-10T20:58:59.391891Z"
    }
   },
   "outputs": [],
   "source": [
    "def pairs_difference(A:list,k:int)->int:\n",
    "    count = 0\n",
    "    set_A = set(A)\n",
    "    for a in A:\n",
    "        needed = [a-k,a+k]\n",
    "        for j in needed:\n",
    "            if j in set_A:\n",
    "                count += 1\n",
    "    return int(count/2)\n",
    "\n",
    "# O(n)"
   ]
  },
  {
   "cell_type": "code",
   "execution_count": 466,
   "metadata": {
    "ExecuteTime": {
     "end_time": "2021-04-10T20:59:00.092402Z",
     "start_time": "2021-04-10T20:58:59.731046Z"
    }
   },
   "outputs": [
    {
     "data": {
      "text/plain": [
       "999998"
      ]
     },
     "execution_count": 466,
     "metadata": {},
     "output_type": "execute_result"
    }
   ],
   "source": [
    "pairs_difference(list(range(1_000_000)),2)"
   ]
  },
  {
   "cell_type": "code",
   "execution_count": 354,
   "metadata": {
    "ExecuteTime": {
     "end_time": "2021-04-10T18:58:38.608080Z",
     "start_time": "2021-04-10T18:58:38.603179Z"
    }
   },
   "outputs": [
    {
     "data": {
      "text/plain": [
       "5"
      ]
     },
     "execution_count": 354,
     "metadata": {},
     "output_type": "execute_result"
    }
   ],
   "source": [
    "pairs_difference([-1, 1, 7, 5, 9, 2, 12, 3],2)"
   ]
  },
  {
   "cell_type": "markdown",
   "metadata": {},
   "source": [
    "# String Permutation\n",
    "\n",
    "Given a smaller strings and a bigger string b, design an algorithm to find all permutations of the shorter\n",
    "\n",
    "string within the longer one."
   ]
  },
  {
   "cell_type": "code",
   "execution_count": 443,
   "metadata": {
    "ExecuteTime": {
     "end_time": "2021-04-10T20:13:05.235471Z",
     "start_time": "2021-04-10T20:13:05.231076Z"
    }
   },
   "outputs": [],
   "source": [
    "def string_permutations(A:str,b:str)->int:\n",
    "    n = len(A)\n",
    "    s_len = len(b)\n",
    "    count = 0\n",
    "    \n",
    "    b_count = {s:0 for s in b}\n",
    "    for s in b:\n",
    "        b_count[s] += 1\n",
    "\n",
    "    for a in range(n+1-s_len):\n",
    "        if A[a] in b_count:\n",
    "            a_curr = A[a:a+s_len]\n",
    "            a_count = {el:0 for el in a_curr}\n",
    "            for i in a_curr:\n",
    "                a_count[i] += 1\n",
    "            if a_count == b_count:\n",
    "                count +=1\n",
    "    \n",
    "    return count"
   ]
  },
  {
   "cell_type": "code",
   "execution_count": 446,
   "metadata": {
    "ExecuteTime": {
     "end_time": "2021-04-10T20:13:38.406406Z",
     "start_time": "2021-04-10T20:13:38.025740Z"
    }
   },
   "outputs": [
    {
     "data": {
      "text/plain": [
       "24"
      ]
     },
     "execution_count": 446,
     "metadata": {},
     "output_type": "execute_result"
    }
   ],
   "source": [
    "import random\n",
    "import string\n",
    "string_permutations(''.join(random.choices(string.ascii_lowercase, k=1_000_000)),'abbc')"
   ]
  },
  {
   "cell_type": "markdown",
   "metadata": {},
   "source": [
    "# Min Coins ( KnapSack )\n",
    "\n",
    "Given a list of N coins, their values (V1, V2, … , VN), and the total sum S. \n",
    "\n",
    "Find the minimum number of coins the sum of which is S (we can use as many coins of one type as we want),\n",
    "\n",
    "or report that it’s not possible to select coins in such a way that they sum up to S"
   ]
  },
  {
   "cell_type": "code",
   "execution_count": 203,
   "metadata": {
    "ExecuteTime": {
     "end_time": "2021-04-17T00:47:12.420251Z",
     "start_time": "2021-04-17T00:47:12.412194Z"
    }
   },
   "outputs": [],
   "source": [
    "def min_coins_wrong(A:list,k:int):\n",
    "    \"\"\"\n",
    "    - Greedy approach\n",
    "    - worst case time complexity O(A*logA) It is wrong though rs. \n",
    "    \"\"\"\n",
    "    A = sorted(A) # O(AlogA)\n",
    "    n_coins = sum_coins = 0\n",
    "    while sum_coins < k:  # O(k)\n",
    "        if len(A) == 0:    # O(1)\n",
    "            return False\n",
    "        max_coin = A.pop()\n",
    "        add_coins = (k-sum_coins)//max_coin\n",
    "        n_coins += add_coins\n",
    "        sum_coins += add_coins*max_coin\n",
    "        print(\"max_coin =\",max_coin,\",add_coins =\",add_coins, \",n_coins =\",n_coins, \",sum_coins =\",sum_coins)\n",
    "    if sum_coins > k:\n",
    "        return False\n",
    "    else:\n",
    "        return n_coins\n",
    "    \n",
    "    \n",
    "def canCoins(coins:list,number:int,memo:dict={0:True}):\n",
    "    \n",
    "    if number < 0:\n",
    "        return False \n",
    "    if number not in memo:\n",
    "        for coin in coins:\n",
    "            if canCoins(coins,number-coin):\n",
    "                return True\n",
    "    \n",
    "    return False\n",
    "    \n",
    "    \n",
    "def howCoins(coins:list,number:int,memo:dict={0:[]}):\n",
    "    \n",
    "    if number < 0:\n",
    "        return False\n",
    "    if number not in memo:\n",
    "        for coin in coins:\n",
    "            if howCoins(coins,number-coin) != False:\n",
    "                return howCoins(coins,number-coin).append(number)\n",
    "    \n",
    "    return False    \n",
    "    \n",
    "    \n",
    "    \n",
    "    \n",
    "    \n",
    "    \n",
    "    \n",
    "    \n",
    "\n",
    "def coinChange(coins: list, amount: int) -> int:\n",
    "    dp = [float('inf')] * (amount + 1)\n",
    "    dp[0] = 0\n",
    "    \n",
    "    for coin in coins:\n",
    "        for x in range(coin, amount + 1):\n",
    "            dp[x] = min(dp[x], dp[x - coin] + 1)\n",
    "    return dp[amount] if dp[amount] != float('inf') else -1 "
   ]
  },
  {
   "cell_type": "code",
   "execution_count": 161,
   "metadata": {
    "ExecuteTime": {
     "end_time": "2021-04-15T03:03:23.603700Z",
     "start_time": "2021-04-15T03:03:23.600308Z"
    }
   },
   "outputs": [],
   "source": [
    "import functools\n",
    "\n",
    "@functools.lru_cache(maxsize=None)\n",
    "def canCoins(coins:list,number:int):\n",
    "    if number == 0:\n",
    "        return True\n",
    "    if number < 0:\n",
    "        return False    \n",
    "    return max([canCoins(coins,number-i) for i in coins])"
   ]
  },
  {
   "cell_type": "code",
   "execution_count": 275,
   "metadata": {
    "ExecuteTime": {
     "end_time": "2021-04-17T01:13:52.792001Z",
     "start_time": "2021-04-17T01:13:52.785046Z"
    }
   },
   "outputs": [],
   "source": [
    "def canCoins(coins:list,number:int, memo={0:True}):\n",
    "    \n",
    "    if number < 0:\n",
    "        return False  \n",
    "    if number not in memo:\n",
    "        for coin in coins:\n",
    "            if canCoins(coins,number-coin,memo):\n",
    "                return True\n",
    "        memo[number] = False\n",
    "    return memo[number]\n",
    "\n",
    "\n",
    "def howCoins(coins:list,number:int):\n",
    "    \n",
    "    if number == 0:\n",
    "        return []\n",
    "    if number < 0:\n",
    "        return None\n",
    "    \n",
    "    for coin in coins:\n",
    "        result = howCoins(coins,number-coin)\n",
    "        if result != None:\n",
    "            result.append(coin) \n",
    "            return result\n",
    "    \n",
    "    return None \n",
    "\n",
    "def howCoins(coins:list,number:int, memo={}):\n",
    "    \n",
    "    if number in memo:\n",
    "        return memo[number]\n",
    "    if number == 0:\n",
    "        return []\n",
    "    if number < 0:\n",
    "        return False\n",
    "\n",
    "    for coin in coins:\n",
    "        result = howCoins(coins,number-coin,memo)\n",
    "        if result != False:\n",
    "            result.append(coin) \n",
    "            memo[number] = result\n",
    "            return memo[number] \n",
    "    \n",
    "    memo[number] = False\n",
    "    return memo[number] \n",
    "\n",
    "def how_all_coins(coins:list,number:int):\n",
    "    \n",
    "    if number == 0:\n",
    "        return []\n",
    "    if number < 0:\n",
    "        return None\n",
    "    \n",
    "    for coin in coins:\n",
    "        result = howCoins(coins,number-coin)\n",
    "        if result != None:\n",
    "            result.append(coin) \n",
    "            return result\n",
    "    \n",
    "    return None "
   ]
  },
  {
   "cell_type": "code",
   "execution_count": 277,
   "metadata": {
    "ExecuteTime": {
     "end_time": "2021-04-17T01:14:08.060251Z",
     "start_time": "2021-04-17T01:14:08.056271Z"
    }
   },
   "outputs": [
    {
     "data": {
      "text/plain": [
       "False"
      ]
     },
     "execution_count": 277,
     "metadata": {},
     "output_type": "execute_result"
    }
   ],
   "source": [
    "howCoins([4,8],9)"
   ]
  },
  {
   "cell_type": "code",
   "execution_count": 40,
   "metadata": {
    "ExecuteTime": {
     "end_time": "2021-04-15T01:38:24.041947Z",
     "start_time": "2021-04-15T01:38:24.035848Z"
    }
   },
   "outputs": [
    {
     "ename": "NameError",
     "evalue": "name 'min_coins_wrong' is not defined",
     "output_type": "error",
     "traceback": [
      "\u001b[0;31m---------------------------------------------------------------------------\u001b[0m",
      "\u001b[0;31mNameError\u001b[0m                                 Traceback (most recent call last)",
      "\u001b[0;32m<ipython-input-40-71de3fb2aef6>\u001b[0m in \u001b[0;36m<module>\u001b[0;34m\u001b[0m\n\u001b[0;32m----> 1\u001b[0;31m \u001b[0mmin_coins_wrong\u001b[0m\u001b[0;34m(\u001b[0m\u001b[0;34m[\u001b[0m\u001b[0;36m3\u001b[0m\u001b[0;34m,\u001b[0m\u001b[0;36m10\u001b[0m\u001b[0;34m]\u001b[0m\u001b[0;34m,\u001b[0m\u001b[0;36m12\u001b[0m\u001b[0;34m)\u001b[0m\u001b[0;34m\u001b[0m\u001b[0;34m\u001b[0m\u001b[0m\n\u001b[0m",
      "\u001b[0;31mNameError\u001b[0m: name 'min_coins_wrong' is not defined"
     ]
    }
   ],
   "source": [
    "min_coins_wrong([3,10],12)"
   ]
  },
  {
   "cell_type": "code",
   "execution_count": 624,
   "metadata": {
    "ExecuteTime": {
     "end_time": "2021-04-11T18:14:30.813518Z",
     "start_time": "2021-04-11T18:14:30.809637Z"
    }
   },
   "outputs": [
    {
     "data": {
      "text/plain": [
       "4"
      ]
     },
     "execution_count": 624,
     "metadata": {},
     "output_type": "execute_result"
    }
   ],
   "source": [
    "coinChange([3,10],12)"
   ]
  },
  {
   "cell_type": "markdown",
   "metadata": {
    "ExecuteTime": {
     "end_time": "2021-04-14T02:01:15.727929Z",
     "start_time": "2021-04-14T02:01:15.697497Z"
    }
   },
   "source": [
    "# Grid Traveler"
   ]
  },
  {
   "cell_type": "code",
   "execution_count": 12,
   "metadata": {
    "ExecuteTime": {
     "end_time": "2021-04-26T20:42:40.884634Z",
     "start_time": "2021-04-26T20:42:40.880348Z"
    }
   },
   "outputs": [],
   "source": [
    "def gridtraveler(n:int,m:int,memo:dict={})->int:\n",
    "    if n==1 or m==1:\n",
    "        return 1\n",
    "    if n==0 or m == 0:\n",
    "        return 0\n",
    "    key = (n,m)\n",
    "    invkey = (m,n)\n",
    "    if key not in memo:\n",
    "        memo[key] = gridtraveler(n-1,m,memo)+gridtraveler(n,m-1,memo)\n",
    "        memo[invkey] = memo[key]\n",
    "    return memo[key]"
   ]
  },
  {
   "cell_type": "code",
   "execution_count": 13,
   "metadata": {
    "ExecuteTime": {
     "end_time": "2021-04-26T20:42:42.312737Z",
     "start_time": "2021-04-26T20:42:42.302985Z"
    }
   },
   "outputs": [
    {
     "data": {
      "text/plain": [
       "2333606220"
      ]
     },
     "execution_count": 13,
     "metadata": {},
     "output_type": "execute_result"
    }
   ],
   "source": [
    "gridtraveler(18,18)"
   ]
  },
  {
   "cell_type": "code",
   "execution_count": 14,
   "metadata": {
    "ExecuteTime": {
     "end_time": "2021-04-26T20:42:49.589486Z",
     "start_time": "2021-04-26T20:42:49.585803Z"
    }
   },
   "outputs": [
    {
     "data": {
      "text/plain": [
       "9075135300"
      ]
     },
     "execution_count": 14,
     "metadata": {},
     "output_type": "execute_result"
    }
   ],
   "source": [
    "gridtraveler(19,19)"
   ]
  },
  {
   "cell_type": "markdown",
   "metadata": {},
   "source": [
    "# frog jump 2\n",
    "\n",
    "A small frog wants to get to the other side of a river. The frog is initially located on one bank of the river (position 0) and  \n",
    "wants to get to the opposite bank (position X+1). Leaves fall from a tree onto the surface of the river.  \n",
    "\n",
    "You are given an array A consisting of N integers representing the falling leaves. A[K] represents the position where one leaf falls at time K,  \n",
    "measured in seconds.\n",
    "The goal is to find the earliest time when the frog can jump to the other side of the river. The frog can cross only when leaves appear at every  \n",
    "position across the river from 1 to X (that is, we want to find the earliest moment when all the positions from 1 to X are covered by leaves).  \n",
    "You may assume that the speed of the current in the river is negligibly small, i.e. the leaves do not change their positions once they fall in the river.\n",
    "\n",
    "For example, you are given integer X = 5 and array A such that:  \n",
    "  \n",
    "  A[0] = 1  \n",
    "  A[1] = 3  \n",
    "  A[2] = 1  \n",
    "  A[3] = 4  \n",
    "  A[4] = 2  \n",
    "  A[5] = 3  \n",
    "  A[6] = 5  \n",
    "  A[7] = 4  \n",
    "    \n",
    "In second 6, a leaf falls into position 5. This is the earliest time when leaves appear in every position across the river.  \n",
    "\n",
    "Write a function:  \n",
    "\n",
    "def solution(X, A)  \n",
    "\n",
    "that, given a non-empty array A consisting of N integers and integer X, returns the earliest time when the frog can jump to the other side of the river.  \n",
    "If the frog is never able to jump to the other side of the river, the function should return −1.  \n",
    "\n",
    "For example, given X = 5 and array A such that:  \n",
    "\n",
    "  A[0] = 1  \n",
    "  A[1] = 3  \n",
    "  A[2] = 1  \n",
    "  A[3] = 4  \n",
    "  A[4] = 2  \n",
    "  A[5] = 3  \n",
    "  A[6] = 5  \n",
    "  A[7] = 4  \n",
    "    \n",
    "the function should return 6, as explained above.  \n",
    "\n",
    "Write an efficient algorithm for the following assumptions:  \n",
    "\n",
    "N and X are integers within the range [1..100,000];  \n",
    "each element of array A is an integer within the range [1..X].  "
   ]
  },
  {
   "cell_type": "code",
   "execution_count": 88,
   "metadata": {
    "ExecuteTime": {
     "end_time": "2021-04-19T01:21:50.882662Z",
     "start_time": "2021-04-19T01:21:50.875833Z"
    }
   },
   "outputs": [],
   "source": [
    "from collections import defaultdict\n",
    "        \n",
    "\n",
    "def frogjump(X:int, A:list)->int:\n",
    "    crossed = list(range(1,X+1))\n",
    "    cross = defaultdict(lambda:0)\n",
    "    for i,x in enumerate(A):\n",
    "        cross[x] = i\n",
    "        if set(cross.keys()) == set(crossed):  # this check is verry expensive\n",
    "            return i\n",
    "    return -1\n",
    "\n",
    "def frogjump2(X:int, A:list)->int:\n",
    "    crossed = set(range(1,X+1))\n",
    "    cross = defaultdict(lambda:0)\n",
    "    for i,x in enumerate(A):\n",
    "        if x in crossed:\n",
    "            cross[x] = i\n",
    "        if len(cross) == len(crossed):  # this check is verry expensive O(Max(len(cross),len(crossed))) maybe?\n",
    "            return i\n",
    "    return -1\n",
    "\n",
    "def frogjump3(X:int, A:list)->int:\n",
    "    \"\"\"\n",
    "    this solution uses the sum of a PA to check in every iteration if we already have all the elements needed to cross,\n",
    "    giving a time complexity of O(n)\n",
    "    \"\"\"\n",
    "    sumcrossed = (X*(X+1))/2\n",
    "    crossed = set(range(1,X+1))\n",
    "    cross = defaultdict(lambda:0)\n",
    "    \n",
    "    for i,x in enumerate(A):\n",
    "        if (x in crossed) & (x not in cross):   #O(1)\n",
    "            cross[x] = i\n",
    "            sumcrossed -=x\n",
    "        if sumcrossed == 0:  #O(1)\n",
    "            return i\n",
    "    return -1"
   ]
  },
  {
   "cell_type": "code",
   "execution_count": 75,
   "metadata": {
    "ExecuteTime": {
     "end_time": "2021-04-19T01:17:26.456903Z",
     "start_time": "2021-04-19T01:17:26.221040Z"
    }
   },
   "outputs": [
    {
     "data": {
      "text/plain": [
       "-1"
      ]
     },
     "execution_count": 75,
     "metadata": {},
     "output_type": "execute_result"
    }
   ],
   "source": [
    "frogjump(50,random_int_list(100000,1,10))"
   ]
  },
  {
   "cell_type": "code",
   "execution_count": 89,
   "metadata": {
    "ExecuteTime": {
     "end_time": "2021-04-19T01:21:55.969928Z",
     "start_time": "2021-04-19T01:21:55.963573Z"
    }
   },
   "outputs": [
    {
     "data": {
      "text/plain": [
       "-1"
      ]
     },
     "execution_count": 89,
     "metadata": {},
     "output_type": "execute_result"
    }
   ],
   "source": [
    "frogjump3(50000,[3, 2, 2, 5, 4, 2, 5, 1, 4, 4])"
   ]
  },
  {
   "cell_type": "code",
   "execution_count": 31,
   "metadata": {
    "ExecuteTime": {
     "end_time": "2021-04-19T00:52:15.850816Z",
     "start_time": "2021-04-19T00:52:07.294118Z"
    }
   },
   "outputs": [
    {
     "data": {
      "text/plain": [
       "77"
      ]
     },
     "execution_count": 31,
     "metadata": {},
     "output_type": "execute_result"
    }
   ],
   "source": [
    "frogjump2(10,random_int_list(10000000,1,20))"
   ]
  },
  {
   "cell_type": "code",
   "execution_count": 68,
   "metadata": {
    "ExecuteTime": {
     "end_time": "2021-04-19T01:16:23.649390Z",
     "start_time": "2021-04-19T01:16:23.645677Z"
    }
   },
   "outputs": [
    {
     "data": {
      "text/plain": [
       "[3, 2, 2, 5, 4, 2, 5, 1, 4, 4]"
      ]
     },
     "execution_count": 68,
     "metadata": {},
     "output_type": "execute_result"
    }
   ],
   "source": [
    "random_int_list(10,1,5)"
   ]
  },
  {
   "cell_type": "markdown",
   "metadata": {
    "ExecuteTime": {
     "end_time": "2021-04-19T00:41:17.865472Z",
     "start_time": "2021-04-19T00:41:17.859134Z"
    }
   },
   "source": [
    "# Max counters\n",
    "\n",
    "You are given N counters, initially set to 0, and you have two possible operations on them:\n",
    "\n",
    "increase(X) − counter X is increased by 1,\n",
    "max counter − all counters are set to the maximum value of any counter.\n",
    "A non-empty array A of M integers is given. This array represents consecutive operations:\n",
    "\n",
    "if A[K] = X, such that 1 ≤ X ≤ N, then operation K is increase(X),\n",
    "if A[K] = N + 1 then operation K is max counter.\n",
    "For example, given integer N = 5 and array A such that:\n",
    "\n",
    "    A[0] = 3\n",
    "    A[1] = 4\n",
    "    A[2] = 4\n",
    "    A[3] = 6\n",
    "    A[4] = 1\n",
    "    A[5] = 4\n",
    "    A[6] = 4\n",
    "the values of the counters after each consecutive operation will be:\n",
    "\n",
    "    (0, 0, 1, 0, 0)\n",
    "    (0, 0, 1, 1, 0)\n",
    "    (0, 0, 1, 2, 0)\n",
    "    (2, 2, 2, 2, 2)\n",
    "    (3, 2, 2, 2, 2)\n",
    "    (3, 2, 2, 3, 2)\n",
    "    (3, 2, 2, 4, 2)\n",
    "The goal is to calculate the value of every counter after all operations.\n",
    "\n",
    "Write a function:\n",
    "\n",
    "class Solution { public int[] solution(int N, int[] A); }\n",
    "\n",
    "that, given an integer N and a non-empty array A consisting of M integers, returns a sequence of integers representing the values of the counters.\n",
    "\n",
    "Result array should be returned as an array of integers.\n",
    "\n",
    "For example, given:\n",
    "\n",
    "    A[0] = 3\n",
    "    A[1] = 4\n",
    "    A[2] = 4\n",
    "    A[3] = 6\n",
    "    A[4] = 1\n",
    "    A[5] = 4\n",
    "    A[6] = 4\n",
    "the function should return [3, 2, 2, 4, 2], as explained above.\n",
    "\n",
    "Write an efficient algorithm for the following assumptions:\n",
    "\n",
    "N and M are integers within the range [1..100,000];\n",
    "each element of array A is an integer within the range [1..N + 1]."
   ]
  },
  {
   "cell_type": "code",
   "execution_count": 179,
   "metadata": {
    "ExecuteTime": {
     "end_time": "2021-04-19T03:50:42.603016Z",
     "start_time": "2021-04-19T03:50:42.596982Z"
    }
   },
   "outputs": [],
   "source": [
    "def max_counters(N:int,A:list)->list:\n",
    "    \"\"\"\n",
    "    This algorithm has time complexity O(m*n) althought it is way easier to understand\n",
    "    \"\"\"\n",
    "    opp = [0]*N\n",
    "    max_counter = 0\n",
    "    for i,a in enumerate(A):\n",
    "        if (a <= N) & (a > 0):\n",
    "            opp[a-1] += 1\n",
    "            max_counter = max(max_counter,opp[a-1])\n",
    "        else:\n",
    "            opp[:] = [max_counter] * N   # this operation has time complexity O(n) \n",
    "    return opp\n",
    "\n",
    "\n",
    "def max_counters2(N:int,A:list)->list:\n",
    "    \"\"\"\n",
    "    This algorithm has time complexity O(m+n)\n",
    "    - It keeps track of the value used for the most recent max_update\n",
    "    - It only updates the value of the counter (after a max_update) if we make an update to this counter\n",
    "    - At the end it checks for all counters that were not uptated with the last value of max_update and update those counters\n",
    "    \n",
    "    - Effectively what this does is to remove the expensive update of all counters O(n) out of the loop\n",
    "    \"\"\"\n",
    "    \n",
    "    opp = [0]*N\n",
    "    max_counter = 0\n",
    "    last_max_update = 0\n",
    "    for a in A:\n",
    "        if a <= N:\n",
    "            if opp[a-1]<last_max_update:\n",
    "                opp[a-1] = last_max_update\n",
    "            opp[a-1] += 1\n",
    "            max_counter = max(max_counter,opp[a-1])\n",
    "        else:\n",
    "            last_max_update = max_counter\n",
    "           \n",
    "    for i,a in enumerate(opp):\n",
    "        if a<last_max_update:\n",
    "            opp[i] = last_max_update\n",
    "    return opp\n"
   ]
  },
  {
   "cell_type": "code",
   "execution_count": 189,
   "metadata": {
    "ExecuteTime": {
     "end_time": "2021-04-19T03:54:14.681357Z",
     "start_time": "2021-04-19T03:53:40.682142Z"
    }
   },
   "outputs": [],
   "source": [
    "k = max_counters(100_000, random_int_list(100_000,1,550_000))"
   ]
  },
  {
   "cell_type": "code",
   "execution_count": 190,
   "metadata": {
    "ExecuteTime": {
     "end_time": "2021-04-19T03:54:14.834138Z",
     "start_time": "2021-04-19T03:54:14.683146Z"
    }
   },
   "outputs": [],
   "source": [
    "k = max_counters2(100_000, random_int_list(100_000,1,550_000))"
   ]
  },
  {
   "cell_type": "markdown",
   "metadata": {},
   "source": [
    "# Missing integer\n",
    "\n",
    "that, given an array A of N integers, returns the smallest positive integer (greater than 0) that does not occur in A."
   ]
  },
  {
   "cell_type": "code",
   "execution_count": 199,
   "metadata": {
    "ExecuteTime": {
     "end_time": "2021-04-19T23:38:43.222858Z",
     "start_time": "2021-04-19T23:38:43.219695Z"
    }
   },
   "outputs": [],
   "source": [
    "def missing_integer(A:list)->int:\n",
    "    A_set = set(A) # O(n)\n",
    "    for a,_ in enumerate(A,1):\n",
    "        if a not in A_set:\n",
    "            return a\n",
    "        \n",
    "    return len(A)+1\n",
    "        "
   ]
  },
  {
   "cell_type": "markdown",
   "metadata": {
    "ExecuteTime": {
     "end_time": "2021-04-19T23:37:40.228550Z",
     "start_time": "2021-04-19T23:37:40.225457Z"
    }
   },
   "source": [
    "# Permutation Check\n",
    "\n",
    "A non-empty array A consisting of N integers is given.\n",
    "\n",
    "A permutation is a sequence containing each element from 1 to N once, and only once.\n",
    "\n",
    "For example, array A such that:\n",
    "\n",
    "    A[0] = 4\n",
    "    A[1] = 1\n",
    "    A[2] = 3\n",
    "    A[3] = 2\n",
    "is a permutation, but array A such that:\n",
    "\n",
    "    A[0] = 4\n",
    "    A[1] = 1\n",
    "    A[2] = 3\n",
    "is not a permutation, because value 2 is missing.\n",
    "\n",
    "The goal is to check whether array A is a permutation.\n",
    "\n",
    "Write a function:\n",
    "\n",
    "class Solution { public int solution(int[] A); }\n",
    "\n",
    "that, given an array A, returns 1 if array A is a permutation and 0 if it is not.\n",
    "\n",
    "For example, given array A such that:\n",
    "\n",
    "    A[0] = 4\n",
    "    A[1] = 1\n",
    "    A[2] = 3\n",
    "    A[3] = 2\n",
    "the function should return 1.\n",
    "\n",
    "Given array A such that:\n",
    "\n",
    "    A[0] = 4\n",
    "    A[1] = 1\n",
    "    A[2] = 3\n",
    "the function should return 0.\n",
    "\n",
    "Write an efficient algorithm for the following assumptions:\n",
    "\n",
    "N is an integer within the range [1..100,000];\n",
    "each element of array A is an integer within the range [1..1,000,000,000]."
   ]
  },
  {
   "cell_type": "code",
   "execution_count": 202,
   "metadata": {
    "ExecuteTime": {
     "end_time": "2021-04-19T23:59:06.340036Z",
     "start_time": "2021-04-19T23:59:06.337095Z"
    }
   },
   "outputs": [],
   "source": [
    "def perm_check(A):\n",
    "    set_A = set(A)\n",
    "    for i,_ in enumerate(A,1):\n",
    "        if i not in set_A:\n",
    "            return 0\n",
    "    return 1"
   ]
  },
  {
   "cell_type": "markdown",
   "metadata": {
    "ExecuteTime": {
     "end_time": "2021-04-21T02:18:47.046847Z",
     "start_time": "2021-04-21T02:18:47.031363Z"
    }
   },
   "source": [
    "# Count Divisible\n",
    "\n",
    "Write a function:\n",
    "\n",
    "def solution(A, B, K)\n",
    "\n",
    "that, given three integers A, B and K, returns the number of integers within the range [A..B] that are divisible by K, i.e.:\n",
    "\n",
    "{ i : A ≤ i ≤ B, i mod K = 0 }\n",
    "\n",
    "For example, for A = 6, B = 11 and K = 2, your function should return 3, because there are three numbers divisible by 2 within the range [6..11], namely 6, 8 and 10.\n",
    "\n",
    "Write an efficient algorithm for the following assumptions:\n",
    "\n",
    "A and B are integers within the range [0..2,000,000,000];\n",
    "K is an integer within the range [1..2,000,000,000];\n",
    "A ≤ B.\n"
   ]
  },
  {
   "cell_type": "code",
   "execution_count": 319,
   "metadata": {
    "ExecuteTime": {
     "end_time": "2021-04-21T02:57:40.753192Z",
     "start_time": "2021-04-21T02:57:40.746774Z"
    }
   },
   "outputs": [],
   "source": [
    "def count_div(A:int,B:int,K:int)->int:\n",
    "    count=0\n",
    "    for i in range(A,B+1):   #O(B-A)\n",
    "        if i%K ==0:\n",
    "            count +=1\n",
    "    return count\n",
    "\n",
    "\n",
    "def count_div2(A:int,B:int,K:int)->int:\n",
    "    \"\"\"\n",
    "    This solution uses algebra to obtain time complexity O(1)\n",
    "    \"\"\"\n",
    "    min_mult = A//K\n",
    "    max_mult = B//K\n",
    "    \n",
    "    diff = max_mult - min_mult\n",
    "    \n",
    "    if (A%K == 0):\n",
    "        return diff +1\n",
    "    else:\n",
    "        return diff"
   ]
  },
  {
   "cell_type": "code",
   "execution_count": 322,
   "metadata": {
    "ExecuteTime": {
     "end_time": "2021-04-21T02:57:50.780591Z",
     "start_time": "2021-04-21T02:57:50.671566Z"
    }
   },
   "outputs": [
    {
     "data": {
      "text/plain": [
       "4658"
      ]
     },
     "execution_count": 322,
     "metadata": {},
     "output_type": "execute_result"
    }
   ],
   "source": [
    "count_div(623847,2263491,352)"
   ]
  },
  {
   "cell_type": "code",
   "execution_count": 323,
   "metadata": {
    "ExecuteTime": {
     "end_time": "2021-04-21T02:57:55.479510Z",
     "start_time": "2021-04-21T02:57:55.475837Z"
    }
   },
   "outputs": [
    {
     "data": {
      "text/plain": [
       "4658"
      ]
     },
     "execution_count": 323,
     "metadata": {},
     "output_type": "execute_result"
    }
   ],
   "source": [
    "count_div2(623847,2263491,352)"
   ]
  },
  {
   "cell_type": "code",
   "execution_count": 302,
   "metadata": {
    "ExecuteTime": {
     "end_time": "2021-04-21T02:45:15.953608Z",
     "start_time": "2021-04-21T02:45:15.950170Z"
    }
   },
   "outputs": [
    {
     "data": {
      "text/plain": [
       "1917"
      ]
     },
     "execution_count": 302,
     "metadata": {},
     "output_type": "execute_result"
    }
   ],
   "source": [
    "count_div2(1_000_000_000,2_000_000_000,521_762)"
   ]
  },
  {
   "cell_type": "markdown",
   "metadata": {},
   "source": [
    "# Passing Cars\n",
    "\n",
    "A non-empty array A consisting of N integers is given. The consecutive elements of array A represent consecutive cars on a road.  \n",
    "\n",
    "Array A contains only 0s and/or 1s:  \n",
    "\n",
    "0 represents a car traveling east,  \n",
    "1 represents a car traveling west.  \n",
    "The goal is to count passing cars. We say that a pair of cars (P, Q), where 0 ≤ P < Q < N, is passing when P is traveling to the east and Q is traveling to the west.  \n",
    "  \n",
    "For example, consider array A such that:\n",
    "\n",
    "  A[0] = 0  \n",
    "  A[1] = 1  \n",
    "  A[2] = 0  \n",
    "  A[3] = 1  \n",
    "  A[4] = 1  \n",
    "We have five pairs of passing cars: (0, 1), (0, 3), (0, 4), (2, 3), (2, 4).\n",
    "\n",
    "Write a function:\n",
    "\n",
    "def solution(A)\n",
    "\n",
    "that, given a non-empty array A of N integers, returns the number of pairs of passing cars.  \n",
    "\n",
    "The function should return −1 if the number of pairs of passing cars exceeds 1,000,000,000.  \n",
    "\n",
    "For example, given:  \n",
    "\n",
    "  A[0] = 0  \n",
    "  A[1] = 1  \n",
    "  A[2] = 0  \n",
    "  A[3] = 1  \n",
    "  A[4] = 1  \n",
    "the function should return 5, as explained above.  \n",
    "\n",
    "Write an efficient algorithm for the following assumptions:  \n",
    "\n",
    "N is an integer within the range [1..100,000];  \n",
    "each element of array A is an integer that can have one of the following values: 0, 1.  "
   ]
  },
  {
   "cell_type": "code",
   "execution_count": 334,
   "metadata": {
    "ExecuteTime": {
     "end_time": "2021-04-21T03:21:02.564153Z",
     "start_time": "2021-04-21T03:21:02.558143Z"
    }
   },
   "outputs": [],
   "source": [
    "def prefix_sums(A:list)-> list:\n",
    "    n = len(A)\n",
    "    P = [0] * (n + 1)\n",
    "    for k in range(1, n + 1):\n",
    "        P[k] = P[k - 1] + A[k - 1]\n",
    "    return P\n",
    "\n",
    "def sum_slice(P:list, x:int, y:int)->int:\n",
    "    return P[y + 1] - P[x]\n",
    "\n",
    "def passing_cars(A:list)->int:\n",
    "    count = 0\n",
    "    prefix_sum = prefix_sums(A)\n",
    "    for i,a in enumerate(A):\n",
    "        if a == 0:\n",
    "            count += sum_slice(prefix_sum, i+1, len(A)-1)\n",
    "        if count > 1_000_000_000:\n",
    "            return -1\n",
    "    return count"
   ]
  },
  {
   "cell_type": "code",
   "execution_count": 336,
   "metadata": {
    "ExecuteTime": {
     "end_time": "2021-04-21T03:21:09.598090Z",
     "start_time": "2021-04-21T03:21:09.588691Z"
    }
   },
   "outputs": [
    {
     "data": {
      "text/plain": [
       "898657"
      ]
     },
     "execution_count": 336,
     "metadata": {},
     "output_type": "execute_result"
    }
   ],
   "source": [
    "passing_cars(random_int_list(2678,0,1))"
   ]
  },
  {
   "cell_type": "markdown",
   "metadata": {},
   "source": [
    "# Genetic Range Query\n",
    "\n",
    "A DNA sequence can be represented as a string consisting of the letters A, C, G and T, which correspond to the types of successive nucleotides  \n",
    "in the sequence. Each nucleotide has an impact factor, which is an integer. Nucleotides of types A, C, G and T have impact factors of 1, 2, 3 and 4,  \n",
    "respectively. You are going to answer several queries of the form: What is the minimal impact factor of nucleotides contained in a particular part  \n",
    "of the given DNA sequence?\n",
    "\n",
    "The DNA sequence is given as a non-empty string S = S[0]S[1]...S[N-1] consisting of N characters. There are M queries, which are given in non-empty  \n",
    "arrays P and Q, each consisting of M integers. The K-th query (0 ≤ K < M) requires you to find the minimal impact factor of nucleotides contained  \n",
    "in the DNA sequence between positions P[K] and Q[K] (inclusive).\n",
    "\n",
    "For example, consider string S = CAGCCTA and arrays P, Q such that:\n",
    "\n",
    "    P[0] = 2    Q[0] = 4\n",
    "    P[1] = 5    Q[1] = 5\n",
    "    P[2] = 0    Q[2] = 6\n",
    "The answers to these M = 3 queries are as follows:\n",
    "\n",
    "The part of the DNA between positions 2 and 4 contains nucleotides G and C (twice), whose impact factors are 3 and 2 respectively, so the answer is 2.  \n",
    "The part between positions 5 and 5 contains a single nucleotide T, whose impact factor is 4, so the answer is 4.  \n",
    "The part between positions 0 and 6 (the whole string) contains all nucleotides, in particular nucleotide A whose impact factor is 1, so the answer is 1.\n",
    "Write a function:\n",
    "\n",
    "class Solution { public int[] solution(String S, int[] P, int[] Q); }\n",
    "\n",
    "that, given a non-empty string S consisting of N characters and two non-empty arrays P and Q consisting of M integers, returns an array consisting of M    \n",
    "integers specifying the consecutive answers to all queries.\n",
    "\n",
    "Result array should be returned as an array of integers.\n",
    "\n",
    "For example, given the string S = CAGCCTA and arrays P, Q such that:\n",
    "\n",
    "    P[0] = 2    Q[0] = 4\n",
    "    P[1] = 5    Q[1] = 5\n",
    "    P[2] = 0    Q[2] = 6\n",
    "the function should return the values [2, 4, 1], as explained above.\n",
    "\n",
    "Write an efficient algorithm for the following assumptions:\n",
    "\n",
    "N is an integer within the range [1..100,000];\n",
    "M is an integer within the range [1..50,000];\n",
    "each element of arrays P, Q is an integer within the range [0..N − 1];\n",
    "P[K] ≤ Q[K], where 0 ≤ K < M;  \n",
    "string S consists only of upper-case English letters A, C, G, T."
   ]
  },
  {
   "cell_type": "code",
   "execution_count": 25,
   "metadata": {
    "ExecuteTime": {
     "end_time": "2021-04-23T17:17:00.753757Z",
     "start_time": "2021-04-23T17:17:00.347810Z"
    }
   },
   "outputs": [],
   "source": [
    "def genetic_query(S:str, P:list, Q:list)->list:\n",
    "    impact = {\"A\":1,\"C\":2,\"G\":3,\"T\":4}    #O(M*N) worse case complexity\n",
    "    min_impact = []\n",
    "    impact_genes = [impact[nuc] for nuc in S]   #O(N)\n",
    "    for i,j in zip(P,Q):\n",
    "        min_impact.append(min(impact_genes[i:j+1]))  #O(N)\n",
    "    return min_impact\n",
    "\n",
    "def genetic_query3(S:str, P:list, Q:list)->list:\n",
    "    impact = {\"A\":1,\"C\":2,\"G\":3,\"T\":4}    #O(M*N) worse case complexity\n",
    "    min_impact = []\n",
    "    impact_genes = [impact[nuc] for nuc in S]   #O(N)\n",
    "    for i,j in zip(P,Q):\n",
    "        gene_slice = impact_genes[i:j+1]\n",
    "        if 1 in gene_slice:\n",
    "            min_impact.append(1)  #O(1)\n",
    "        elif 2 in gene_slice:\n",
    "            min_impact.append(2)  #O(1)\n",
    "        elif 3 in gene_slice:\n",
    "            min_impact.append(3)  #O(1)\n",
    "        else:\n",
    "            min_impact.append(4)\n",
    "    return min_impact\n",
    "\n",
    "def genetic_query2(S:str, P:list, Q:list)->list:\n",
    "    res = []\n",
    "    for i,j in zip(P,Q):\n",
    "        if 'A' in S[i:j+1]:   # every in operation is O(1), but what abbout the slicing opperation?\n",
    "            res.append(1)\n",
    "        elif 'C' in S[i:j+1]:\n",
    "            res.append(2)\n",
    "        elif 'G' in S[i:j+1]:\n",
    "            res.append(3)\n",
    "        else:\n",
    "            res.append(4)\n",
    "    return res"
   ]
  },
  {
   "cell_type": "code",
   "execution_count": 26,
   "metadata": {
    "ExecuteTime": {
     "end_time": "2021-04-23T17:17:00.830867Z",
     "start_time": "2021-04-23T17:17:00.826688Z"
    }
   },
   "outputs": [
    {
     "data": {
      "text/plain": [
       "[2, 4, 1]"
      ]
     },
     "execution_count": 26,
     "metadata": {},
     "output_type": "execute_result"
    }
   ],
   "source": [
    "genetic_query(\"CAGCCTA\", [2,5,0], [4,5,6])"
   ]
  },
  {
   "cell_type": "code",
   "execution_count": 27,
   "metadata": {
    "ExecuteTime": {
     "end_time": "2021-04-23T17:17:01.301188Z",
     "start_time": "2021-04-23T17:17:01.297277Z"
    }
   },
   "outputs": [
    {
     "data": {
      "text/plain": [
       "[2, 4, 1]"
      ]
     },
     "execution_count": 27,
     "metadata": {},
     "output_type": "execute_result"
    }
   ],
   "source": [
    "genetic_query3(\"CAGCCTA\", [2,5,0], [4,5,6])"
   ]
  },
  {
   "cell_type": "code",
   "execution_count": 28,
   "metadata": {
    "ExecuteTime": {
     "end_time": "2021-04-23T17:17:01.847957Z",
     "start_time": "2021-04-23T17:17:01.844126Z"
    }
   },
   "outputs": [
    {
     "data": {
      "text/plain": [
       "[2, 4, 1]"
      ]
     },
     "execution_count": 28,
     "metadata": {},
     "output_type": "execute_result"
    }
   ],
   "source": [
    "genetic_query2(\"CAGCCTA\", [2,5,0], [4,5,6])"
   ]
  },
  {
   "cell_type": "code",
   "execution_count": 488,
   "metadata": {
    "ExecuteTime": {
     "end_time": "2021-04-22T20:50:14.135831Z",
     "start_time": "2021-04-22T20:49:56.801431Z"
    }
   },
   "outputs": [],
   "source": [
    "listona_string = random.choices([\"A\",\"G\",\"T\",\"C\"], k=100_000_000)\n",
    "stringsona = \"\".join(listona_string)"
   ]
  },
  {
   "cell_type": "code",
   "execution_count": 30,
   "metadata": {
    "ExecuteTime": {
     "end_time": "2021-04-23T17:19:32.280713Z",
     "start_time": "2021-04-23T17:19:28.201343Z"
    }
   },
   "outputs": [
    {
     "data": {
      "text/plain": [
       "[1, 2, 1]"
      ]
     },
     "execution_count": 30,
     "metadata": {},
     "output_type": "execute_result"
    }
   ],
   "source": [
    "genetic_query3(stringsona, [2,5,0], [4,5,6])"
   ]
  },
  {
   "cell_type": "code",
   "execution_count": 31,
   "metadata": {
    "ExecuteTime": {
     "end_time": "2021-04-23T17:20:01.852378Z",
     "start_time": "2021-04-23T17:19:57.689967Z"
    }
   },
   "outputs": [
    {
     "data": {
      "text/plain": [
       "[1, 2, 1]"
      ]
     },
     "execution_count": 31,
     "metadata": {},
     "output_type": "execute_result"
    }
   ],
   "source": [
    "genetic_query(stringsona, [2,5,0], [4,5,6])"
   ]
  },
  {
   "cell_type": "code",
   "execution_count": 32,
   "metadata": {
    "ExecuteTime": {
     "end_time": "2021-04-23T17:20:26.695398Z",
     "start_time": "2021-04-23T17:20:26.691429Z"
    }
   },
   "outputs": [
    {
     "data": {
      "text/plain": [
       "[1, 2, 1]"
      ]
     },
     "execution_count": 32,
     "metadata": {},
     "output_type": "execute_result"
    }
   ],
   "source": [
    "genetic_query2(stringsona, [2,5,0], [4,5,6])"
   ]
  },
  {
   "cell_type": "markdown",
   "metadata": {},
   "source": [
    "# Min Average two Slice\n",
    "\n",
    "A non-empty array A consisting of N integers is given. A pair of integers (P, Q), such that 0 ≤ P < Q < N, is called a slice of array A  \n",
    "(notice that the slice contains at least two elements). The average of a slice (P, Q) is the sum of A[P] + A[P + 1] + ... + A[Q] divided  \n",
    "by the length of the slice. To be precise, the average equals (A[P] + A[P + 1] + ... + A[Q]) / (Q − P + 1).\n",
    "\n",
    "For example, array A such that:\n",
    "\n",
    "    A[0] = 4\n",
    "    A[1] = 2\n",
    "    A[2] = 2\n",
    "    A[3] = 5\n",
    "    A[4] = 1\n",
    "    A[5] = 5\n",
    "    A[6] = 8\n",
    "contains the following example slices:\n",
    "\n",
    "slice (1, 2), whose average is (2 + 2) / 2 = 2;\n",
    "slice (3, 4), whose average is (5 + 1) / 2 = 3;\n",
    "slice (1, 4), whose average is (2 + 2 + 5 + 1) / 4 = 2.5.  \n",
    "\n",
    "The goal is to find the starting position of a slice whose average is minimal.  \n",
    "\n",
    "Write a function:\n",
    "\n",
    "def solution(A)\n",
    "\n",
    "that, given a non-empty array A consisting of N integers, returns the starting position of the slice with the minimal average. If there is more  \n",
    "than one slice with a minimal average, you should return the smallest starting position of such a slice.\n",
    "\n",
    "For example, given array A such that:\n",
    "\n",
    "    A[0] = 4\n",
    "    A[1] = 2\n",
    "    A[2] = 2\n",
    "    A[3] = 5\n",
    "    A[4] = 1\n",
    "    A[5] = 5\n",
    "    A[6] = 8\n",
    "the function should return 1, as explained above.\n",
    "\n",
    "Write an efficient algorithm for the following assumptions:\n",
    "\n",
    "N is an integer within the range [2..100,000];\n",
    "each element of array A is an integer within the range [−10,000..10,000]."
   ]
  },
  {
   "cell_type": "code",
   "execution_count": 627,
   "metadata": {
    "ExecuteTime": {
     "end_time": "2021-04-23T03:10:33.891308Z",
     "start_time": "2021-04-23T03:10:33.884957Z"
    }
   },
   "outputs": [],
   "source": [
    "import numpy as np\n",
    "\n",
    "def prefix_sums(A):\n",
    "    n = len(A)\n",
    "    P = [0] * (n + 1)\n",
    "    for k in range(1, n + 1):\n",
    "        P[k] = P[k - 1] + A[k - 1]\n",
    "    return P\n",
    "\n",
    "def avg_slice(P, x, y):\n",
    "    return (P[y + 1] - P[x])/(y-x+1)\n",
    "\n",
    "\n",
    "def min_avg_slice(A:list)->int:\n",
    "    p = prefix_sums(A)\n",
    "    index = np.inf #100_001\n",
    "    prev_avg = np.inf  #10_001\n",
    "    for i in range(len(A)):     #O(n**2)\n",
    "        for j in range(i+1,len(A)):\n",
    "            if prev_avg > avg_slice(p, i, j):\n",
    "                prev_avg = avg_slice(p, i, j)\n",
    "                index = i\n",
    "    return index\n",
    "\n",
    "def min_avg_slice2(A:list)->int:\n",
    "    p = prefix_sums(A)\n",
    "    index = np.inf\n",
    "    prev_avg = np.inf\n",
    "    for i in range(len(A)):\n",
    "        for j in range(i+1,i+3):\n",
    "            j = min(len(A)-1,j)\n",
    "            if (prev_avg > avg_slice(p, i, j)) and (j>i):\n",
    "                prev_avg = avg_slice(p, i, j)\n",
    "                index = i\n",
    "    return index\n",
    "            "
   ]
  },
  {
   "cell_type": "code",
   "execution_count": 626,
   "metadata": {
    "ExecuteTime": {
     "end_time": "2021-04-23T03:10:32.282547Z",
     "start_time": "2021-04-23T03:10:32.278847Z"
    }
   },
   "outputs": [
    {
     "data": {
      "text/plain": [
       "1"
      ]
     },
     "execution_count": 626,
     "metadata": {},
     "output_type": "execute_result"
    }
   ],
   "source": [
    "min_avg_slice2([4,2,2,5,1])"
   ]
  },
  {
   "cell_type": "code",
   "execution_count": 628,
   "metadata": {
    "ExecuteTime": {
     "end_time": "2021-04-23T03:10:37.396627Z",
     "start_time": "2021-04-23T03:10:37.133157Z"
    }
   },
   "outputs": [
    {
     "data": {
      "text/plain": [
       "60929"
      ]
     },
     "execution_count": 628,
     "metadata": {},
     "output_type": "execute_result"
    }
   ],
   "source": [
    "min_avg_slice2(random_int_list(100_000,-10000,10000))"
   ]
  },
  {
   "cell_type": "markdown",
   "metadata": {},
   "source": [
    "# Max triplet product\n",
    "\n",
    "A non-empty array A consisting of N integers is given. The product of triplet (P, Q, R) equates to A[P] * A[Q] * A[R] (0 ≤ P < Q < R < N).\n",
    "\n",
    "For example, array A such that:\n",
    "\n",
    "  A[0] = -3\n",
    "  A[1] = 1\n",
    "  A[2] = 2\n",
    "  A[3] = -2\n",
    "  A[4] = 5\n",
    "  A[5] = 6\n",
    "contains the following example triplets:\n",
    "\n",
    "(0, 1, 2), product is −3 * 1 * 2 = −6\n",
    "(1, 2, 4), product is 1 * 2 * 5 = 10\n",
    "(2, 4, 5), product is 2 * 5 * 6 = 60\n",
    "Your goal is to find the maximal product of any triplet.\n",
    "\n",
    "Write a function:\n",
    "\n",
    "def solution(A)\n",
    "\n",
    "that, given a non-empty array A, returns the value of the maximal product of any triplet.\n",
    "\n",
    "For example, given array A such that:\n",
    "\n",
    "  A[0] = -3\n",
    "  A[1] = 1\n",
    "  A[2] = 2\n",
    "  A[3] = -2\n",
    "  A[4] = 5\n",
    "  A[5] = 6\n",
    "the function should return 60, as the product of triplet (2, 4, 5) is maximal.\n",
    "\n",
    "Write an efficient algorithm for the following assumptions:\n",
    "\n",
    "N is an integer within the range [3..100,000];\n",
    "each element of array A is an integer within the range [−1,000..1,000]."
   ]
  },
  {
   "cell_type": "code",
   "execution_count": 123,
   "metadata": {
    "ExecuteTime": {
     "end_time": "2021-04-23T21:41:07.054550Z",
     "start_time": "2021-04-23T21:41:07.049706Z"
    }
   },
   "outputs": [],
   "source": [
    "def max_triplet_product(A):\n",
    "    A.sort()   # O(n log n)\n",
    "    p1 = A[-1]*A[-2]*A[-3]   \n",
    "    p2 = A[0]*A[1]*A[-1]\n",
    "    return max(p1,p2)"
   ]
  },
  {
   "cell_type": "code",
   "execution_count": 124,
   "metadata": {
    "ExecuteTime": {
     "end_time": "2021-04-23T21:41:07.278962Z",
     "start_time": "2021-04-23T21:41:07.275154Z"
    }
   },
   "outputs": [
    {
     "data": {
      "text/plain": [
       "3420"
      ]
     },
     "execution_count": 124,
     "metadata": {},
     "output_type": "execute_result"
    }
   ],
   "source": [
    "max_triplet_product([-10,-18,-9,19])"
   ]
  },
  {
   "cell_type": "markdown",
   "metadata": {},
   "source": [
    "# Triangle\n",
    "\n",
    "An array A consisting of N integers is given. A triplet (P, Q, R) is triangular if 0 ≤ P < Q < R < N and:\n",
    "\n",
    "A[P] + A[Q] > A[R],\n",
    "A[Q] + A[R] > A[P],\n",
    "A[R] + A[P] > A[Q].\n",
    "For example, consider array A such that:\n",
    "\n",
    "  A[0] = 10    A[1] = 2    A[2] = 5\n",
    "  A[3] = 1     A[4] = 8    A[5] = 20\n",
    "Triplet (0, 2, 4) is triangular.\n",
    "\n",
    "Write a function:\n",
    "\n",
    "def solution(A)\n",
    "\n",
    "that, given an array A consisting of N integers, returns 1 if there exists a triangular triplet for this array and returns 0 otherwise.\n",
    "\n",
    "For example, given array A such that:\n",
    "\n",
    "  A[0] = 10    A[1] = 2    A[2] = 5\n",
    "  A[3] = 1     A[4] = 8    A[5] = 20\n",
    "the function should return 1, as explained above. Given array A such that:\n",
    "\n",
    "  A[0] = 10    A[1] = 50    A[2] = 5\n",
    "  A[3] = 1\n",
    "the function should return 0.\n",
    "\n",
    "Write an efficient algorithm for the following assumptions:\n",
    "\n",
    "N is an integer within the range [0..100,000];\n",
    "each element of array A is an integer within the range [−2,147,483,648..2,147,483,647]."
   ]
  },
  {
   "cell_type": "code",
   "execution_count": 7,
   "metadata": {
    "ExecuteTime": {
     "end_time": "2021-04-28T14:13:02.364411Z",
     "start_time": "2021-04-28T14:13:02.132804Z"
    }
   },
   "outputs": [],
   "source": [
    "def triangle(A:list)->int:\n",
    "    if len(A)<3:\n",
    "        return 0\n",
    "    \n",
    "    A.sort(reverse=True)\n",
    "    for i in range(len(A)-2):\n",
    "        if A[i]+A[i+1]> A[i+2]:\n",
    "            if A[i+2]+A[i+1]>A[i]:\n",
    "                if A[i]+A[i+2]>A[i+1]:\n",
    "                    return 1\n",
    "    return 0\n",
    "\n",
    "def triangle2(A:list)->int:\n",
    "    \"\"\"\n",
    "    Exemple using continue,same time of processing though\n",
    "    \"\"\"\n",
    "    if len(A)<3:\n",
    "        return 0\n",
    "    \n",
    "    A.sort(reverse=True)\n",
    "    for i in range(len(A)-2):\n",
    "        if A[i]+A[i+1]<= A[i+2]:\n",
    "            continue\n",
    "        if A[i+2]+A[i+1]<= A[i]:\n",
    "            continue\n",
    "        if A[i]+A[i+2]<=A[i+1]:\n",
    "            continue \n",
    "        return 1\n",
    "    return 0\n",
    "\n",
    "def triangle3(A:list)->int:\n",
    "    \"\"\"\n",
    "    Another way of stating if conditions using the 'all' clause. this could improve readability\n",
    "    - and -> all\n",
    "    - or -> any\n",
    "    \n",
    "    \"\"\"\n",
    "    if len(A)<3:\n",
    "        return 0\n",
    "    A.sort(reverse=True)\n",
    "    for i in range(len(A)-2):\n",
    "        conditions = [A[i]+A[i+1]> A[i+2],\n",
    "              A[i+2]+A[i+1]>A[i],\n",
    "              A[i]+A[i+2]>A[i+1]]\n",
    "        if all(conditions):\n",
    "            return 1\n",
    "    return 0"
   ]
  },
  {
   "cell_type": "code",
   "execution_count": 12,
   "metadata": {
    "ExecuteTime": {
     "end_time": "2021-04-28T14:13:52.002376Z",
     "start_time": "2021-04-28T14:13:40.240215Z"
    }
   },
   "outputs": [],
   "source": [
    "int_list = random_int_list(10_500_000,0,1000)\n",
    "int_list2 = int_list.copy()\n",
    "int_list3 = int_list.copy()"
   ]
  },
  {
   "cell_type": "code",
   "execution_count": 13,
   "metadata": {
    "ExecuteTime": {
     "end_time": "2021-04-28T14:13:55.676184Z",
     "start_time": "2021-04-28T14:13:54.037861Z"
    }
   },
   "outputs": [
    {
     "data": {
      "text/plain": [
       "1"
      ]
     },
     "execution_count": 13,
     "metadata": {},
     "output_type": "execute_result"
    }
   ],
   "source": [
    "triangle(int_list)"
   ]
  },
  {
   "cell_type": "code",
   "execution_count": 14,
   "metadata": {
    "ExecuteTime": {
     "end_time": "2021-04-28T14:13:59.291766Z",
     "start_time": "2021-04-28T14:13:57.695131Z"
    }
   },
   "outputs": [
    {
     "data": {
      "text/plain": [
       "1"
      ]
     },
     "execution_count": 14,
     "metadata": {},
     "output_type": "execute_result"
    }
   ],
   "source": [
    "triangle2(int_list2)"
   ]
  },
  {
   "cell_type": "code",
   "execution_count": 15,
   "metadata": {
    "ExecuteTime": {
     "end_time": "2021-04-28T14:14:03.963251Z",
     "start_time": "2021-04-28T14:14:02.235045Z"
    }
   },
   "outputs": [
    {
     "data": {
      "text/plain": [
       "1"
      ]
     },
     "execution_count": 15,
     "metadata": {},
     "output_type": "execute_result"
    }
   ],
   "source": [
    "triangle3(int_list3)"
   ]
  },
  {
   "cell_type": "markdown",
   "metadata": {},
   "source": [
    "# Number of Disc Intersections\n",
    "\n",
    "We draw N discs on a plane. The discs are numbered from 0 to N − 1. An array A of N non-negative integers, specifying the radiuses of the discs, is given. The J-th disc is drawn with its center at (J, 0) and radius A[J].\n",
    "\n",
    "We say that the J-th disc and K-th disc intersect if J ≠ K and the J-th and K-th discs have at least one common point (assuming that the discs contain their borders).\n",
    "\n",
    "The figure below shows discs drawn for N = 6 and A as follows:\n",
    "\n",
    "  A[0] = 1  \n",
    "  A[1] = 5  \n",
    "  A[2] = 2  \n",
    "  A[3] = 1  \n",
    "  A[4] = 4  \n",
    "  A[5] = 0  \n",
    "\n",
    "\n",
    "There are eleven (unordered) pairs of discs that intersect, namely:\n",
    "\n",
    "discs 1 and 4 intersect, and both intersect with all the other discs;\n",
    "disc 2 also intersects with discs 0 and 3.\n",
    "Write a function:\n",
    "\n",
    "class Solution { public int solution(int[] A); }\n",
    "\n",
    "that, given an array A describing N discs as explained above, returns the number of (unordered) pairs of intersecting discs. The function should return −1 if the number of intersecting pairs exceeds 10,000,000.\n",
    "\n",
    "Given array A shown above, the function should return 11, as explained above.\n",
    "\n",
    "Write an efficient algorithm for the following assumptions:\n",
    "\n",
    "N is an integer within the range [0..100,000];\n",
    "each element of array A is an integer within the range [0..2,147,483,647]."
   ]
  },
  {
   "cell_type": "code",
   "execution_count": 180,
   "metadata": {
    "ExecuteTime": {
     "end_time": "2021-04-24T04:22:22.497866Z",
     "start_time": "2021-04-24T04:22:22.488767Z"
    }
   },
   "outputs": [],
   "source": [
    "def n_disc_itersections(A:list)->int:\n",
    "    p_max = [c+r for c,r in enumerate(A)]  #O(n)\n",
    "    p_min = [c-r for c,r in enumerate(A)]  #O(n)\n",
    "    count = 0\n",
    "    for i in range(len(A)):   #O(n**2)\n",
    "        for j in range(i+1,len(A)): \n",
    "            if p_max[i] >= p_min[j]:\n",
    "                count +=1\n",
    "            if count >10_000_000:\n",
    "                return -1\n",
    "    \n",
    "    return count\n",
    "\n",
    "\n",
    "def n_disc_intersections_3(a):\n",
    "    import bisect\n",
    "    if len(a) <= 1:\n",
    "        return 0\n",
    "    cuts = [(c - r, c + r) for c, r in enumerate(a)]  #O(n)\n",
    "    cuts.sort(key=lambda pair: pair[0])  #O(n log n)\n",
    "    lefts, rights = zip(*cuts)\n",
    "    n = len(cuts)\n",
    "    total = 0\n",
    "    for i in range(n):\n",
    "        r = rights[i]\n",
    "        pos = bisect.bisect_right(lefts, r)  # binary search in a sorted list O(log n)\n",
    "        total += (pos - i - 1)\n",
    "        if total > 10e6:\n",
    "            return -1\n",
    "    return total\n",
    "\n",
    "def n_disc_itersections2(A:list)->int:\n",
    "    min_p = [c-r for c,r in enumerate(A)]  #O(n)\n",
    "    max_p = [c+r for c,r in enumerate(A)]  #O(n)\n",
    "    \n",
    "    k = max(abs(min(min_p)),max(max_p))\n",
    "    intervals_s = [0]*2*(k+1)\n",
    "    intervals_e = intervals_s.copy()\n",
    "    for i in min_p:\n",
    "        intervals_s[i+k] += 1\n",
    "    for i in max_p:\n",
    "        intervals_e[i+k] += 1\n",
    "    \n",
    "        \n",
    "    #for i in range(len(A)):   #O(n**2)\n",
    "    #    for j in range(i+1,len(A)): \n",
    "    #        print(i,j,p_max[i],p_min[j],p_max[i] >= p_min[j])\n",
    "    #        if p_max[i] >= p_min[j]:\n",
    "    #            count +=1\n",
    "    #        if count >10_000_000:\n",
    "    #            return -1\n",
    "    \n",
    "    return intervals_s,intervals_e,k"
   ]
  },
  {
   "cell_type": "code",
   "execution_count": 179,
   "metadata": {
    "ExecuteTime": {
     "end_time": "2021-04-24T03:53:01.719037Z",
     "start_time": "2021-04-24T03:53:01.714725Z"
    }
   },
   "outputs": [
    {
     "data": {
      "text/plain": [
       "([0, 0, 0, 0, 1, 0, 0, 1, 2, 0, 1, 0, 0, 1, 0, 0, 0, 0],\n",
       " [0, 0, 0, 0, 0, 0, 0, 0, 0, 1, 0, 0, 2, 1, 1, 0, 1, 0],\n",
       " 8)"
      ]
     },
     "execution_count": 179,
     "metadata": {},
     "output_type": "execute_result"
    }
   ],
   "source": [
    "n_disc_itersections2([1,5,2,1,4,0])"
   ]
  },
  {
   "cell_type": "code",
   "execution_count": 149,
   "metadata": {
    "ExecuteTime": {
     "end_time": "2021-04-24T03:08:31.776048Z",
     "start_time": "2021-04-24T03:08:31.770721Z"
    }
   },
   "outputs": [
    {
     "data": {
      "text/plain": [
       "[-4, -1, 0, 0, 2, 5]"
      ]
     },
     "execution_count": 149,
     "metadata": {},
     "output_type": "execute_result"
    }
   ],
   "source": [
    "sorted([-1, -4, 0, 2, 0, 5])"
   ]
  },
  {
   "cell_type": "code",
   "execution_count": 151,
   "metadata": {
    "ExecuteTime": {
     "end_time": "2021-04-24T03:08:50.044426Z",
     "start_time": "2021-04-24T03:08:50.040728Z"
    }
   },
   "outputs": [
    {
     "data": {
      "text/plain": [
       "[1, 4, 4, 5, 6, 8]"
      ]
     },
     "execution_count": 151,
     "metadata": {},
     "output_type": "execute_result"
    }
   ],
   "source": [
    "sorted([1, 6, 4, 4, 8, 5])"
   ]
  },
  {
   "cell_type": "markdown",
   "metadata": {},
   "source": [
    "# Grocery Store Queue\n",
    "\n",
    "You are given a zero-indexed array A consisting of n integers: a0, a1, . . . , an−1. Array A represents a scenario in a grocery store, and contains only 0s and/or 1s:  \n",
    "  \n",
    "• 0 represents the action of a new person joining the line in the grocery store,  \n",
    "• 1 represents the action of the person at the front of the queue being served and leaving  \n",
    "the line.  \n",
    "  \n",
    "The goal is to count the minimum number of people who should have been in the line before the above scenario, so that the scenario is possible (it is not possible to  \n",
    "serve a person if the line is empty)."
   ]
  },
  {
   "cell_type": "code",
   "execution_count": 53,
   "metadata": {
    "ExecuteTime": {
     "end_time": "2021-04-24T16:29:06.861022Z",
     "start_time": "2021-04-24T16:29:06.856833Z"
    }
   },
   "outputs": [],
   "source": [
    "def grocery_queue(A:list)->int:\n",
    "    from collections import deque\n",
    "    queue = deque()\n",
    "    count = 0\n",
    "    for a in A:\n",
    "        if a == 0:\n",
    "            queue.append(1)\n",
    "        else:\n",
    "            if len(queue) == 0:\n",
    "                count += 1\n",
    "            else:\n",
    "                queue.popleft()\n",
    "                \n",
    "    return max(0,count)\n",
    "\n",
    "\n",
    "def grocery_queue2(A:list)->int:\n",
    "    result = 0\n",
    "    size = 0\n",
    "    for a in A:\n",
    "        if a == 0:\n",
    "            size +=1\n",
    "        else:\n",
    "            size -= 1\n",
    "            result = max(result,-size)\n",
    "                \n",
    "    return result\n"
   ]
  },
  {
   "cell_type": "code",
   "execution_count": 58,
   "metadata": {
    "ExecuteTime": {
     "end_time": "2021-04-24T16:31:03.973907Z",
     "start_time": "2021-04-24T16:30:55.187318Z"
    }
   },
   "outputs": [],
   "source": [
    "list_bool = random_int_list(10_000_000,0,1)"
   ]
  },
  {
   "cell_type": "code",
   "execution_count": 59,
   "metadata": {
    "ExecuteTime": {
     "end_time": "2021-04-24T16:31:07.739529Z",
     "start_time": "2021-04-24T16:31:06.796443Z"
    }
   },
   "outputs": [
    {
     "data": {
      "text/plain": [
       "3154"
      ]
     },
     "execution_count": 59,
     "metadata": {},
     "output_type": "execute_result"
    }
   ],
   "source": [
    "grocery_queue(list_bool)"
   ]
  },
  {
   "cell_type": "code",
   "execution_count": 60,
   "metadata": {
    "ExecuteTime": {
     "end_time": "2021-04-24T16:31:10.992593Z",
     "start_time": "2021-04-24T16:31:09.399369Z"
    }
   },
   "outputs": [
    {
     "data": {
      "text/plain": [
       "3154"
      ]
     },
     "execution_count": 60,
     "metadata": {},
     "output_type": "execute_result"
    }
   ],
   "source": [
    "grocery_queue2(list_bool)"
   ]
  },
  {
   "cell_type": "markdown",
   "metadata": {},
   "source": [
    "# Balanced Brackets\n",
    "\n",
    "A string S consisting of N characters is considered to be properly nested if any of the following conditions is true:  \n",
    "  \n",
    "S is empty;  \n",
    "S has the form \"(U)\" or \"[U]\" or \"{U}\" where U is a properly nested string;  \n",
    "S has the form \"VW\" where V and W are properly nested strings.  \n",
    "For example, the string \"{[()()]}\" is properly nested but \"([)()]\" is not.  \n",
    "  \n",
    "Write a function:  \n",
    "  \n",
    "def solution(S)  \n",
    "  \n",
    "that, given a string S consisting of N characters, returns 1 if S is properly nested and 0 otherwise.  \n",
    "\n",
    "For example, given S = \"{[()()]}\", the function should return 1 and given S = \"([)()]\", the function should return 0, as explained above.  \n",
    "Write an efficient algorithm for the following assumptions:  \n",
    "\n",
    "N is an integer within the range [0..200,000];  \n",
    "string S consists only of the following characters: \"(\", \"{\", \"[\", \"]\", \"}\" and/or \")\".  \n"
   ]
  },
  {
   "cell_type": "code",
   "execution_count": 87,
   "metadata": {
    "ExecuteTime": {
     "end_time": "2021-04-24T17:00:29.603160Z",
     "start_time": "2021-04-24T17:00:29.597186Z"
    }
   },
   "outputs": [],
   "source": [
    "def balanced(S:str) -> int:\n",
    "    stack, brackets = [], {\"(\":\")\",\"{\":\"}\",\"[\":\"]\"}\n",
    "    \n",
    "    if len(S) == 0:\n",
    "        return 1\n",
    "    for s in S:\n",
    "        if s in brackets:\n",
    "            stack.append(s)\n",
    "        else:\n",
    "            if len(stack) == 0:\n",
    "                return 0\n",
    "            if brackets[stack[-1]] != s:\n",
    "                return 0\n",
    "            stack.pop()\n",
    "    if len(stack) !=0:\n",
    "        return 0\n",
    "    else:\n",
    "        return 1\n",
    "    \n",
    "def balanced2(S:str) -> int:    \n",
    "    matches, stack = dict(['()', '[]', '{}']), []\n",
    "\n",
    "    for i in S:\n",
    "        if i in matches.values():\n",
    "            if stack and matches[stack[-1]] == i:\n",
    "                stack.pop()\n",
    "            else:\n",
    "                return 0\n",
    "        else:\n",
    "            stack.append(i)\n",
    "\n",
    "    return int(not stack)"
   ]
  },
  {
   "cell_type": "code",
   "execution_count": 90,
   "metadata": {
    "ExecuteTime": {
     "end_time": "2021-04-24T17:00:55.383338Z",
     "start_time": "2021-04-24T17:00:55.379988Z"
    }
   },
   "outputs": [
    {
     "data": {
      "text/plain": [
       "1"
      ]
     },
     "execution_count": 90,
     "metadata": {},
     "output_type": "execute_result"
    }
   ],
   "source": [
    "balanced('([()()])')"
   ]
  },
  {
   "cell_type": "markdown",
   "metadata": {
    "ExecuteTime": {
     "end_time": "2021-04-25T00:41:23.703126Z",
     "start_time": "2021-04-25T00:41:23.542991Z"
    }
   },
   "source": [
    "# Fish\n",
    "You are given two non-empty arrays A and B consisting of N integers. Arrays A and B represent N voracious fish in a river, ordered downstream along the flow of the river.  \n",
    "\n",
    "The fish are numbered from 0 to N − 1. If P and Q are two fish and P < Q, then fish P is initially upstream of fish Q. Initially, each fish has a unique position.  \n",
    "\n",
    "Fish number P is represented by A[P] and B[P]. Array A contains the sizes of the fish. All its elements are unique. Array B contains the directions of the fish.  \n",
    "It contains only 0s and/or 1s, where:\n",
    "\n",
    "0 represents a fish flowing upstream,\n",
    "1 represents a fish flowing downstream.\n",
    "If two fish move in opposite directions and there are no other (living) fish between them, they will eventually meet each other.  \n",
    "Then only one fish can stay alive − the larger fish eats the smaller one. More precisely, we say that two fish P and Q meet each other when P < Q, B[P] = 1 and B[Q] = 0,  \n",
    "and there are no living fish between them. After they meet:\n",
    "\n",
    "If A[P] > A[Q] then P eats Q, and P will still be flowing downstream,  \n",
    "If A[Q] > A[P] then Q eats P, and Q will still be flowing upstream.  \n",
    "We assume that all the fish are flowing at the same speed. That is, fish moving in the same direction never meet. The goal is to calculate the number of fish that will stay alive.  \n",
    "  \n",
    "For example, consider arrays A and B such that:  \n",
    "  \n",
    "  A[0] = 4    B[0] = 0  \n",
    "  A[1] = 3    B[1] = 1  \n",
    "  A[2] = 2    B[2] = 0  \n",
    "  A[3] = 1    B[3] = 0  \n",
    "  A[4] = 5    B[4] = 0  \n",
    "      \n",
    "Initially all the fish are alive and all except fish number 1 are moving upstream. Fish number 1 meets fish number 2 and eats it, then it meets fish number 3 and eats it too.  \n",
    "Finally, it meets fish number 4 and is eaten by it. The remaining two fish, number 0 and 4, never meet and therefore stay alive.\n",
    "  \n",
    "Write a function:  \n",
    "  \n",
    "def solution(A, B)  \n",
    "  \n",
    "that, given two non-empty arrays A and B consisting of N integers, returns the number of fish that will stay alive.  \n",
    "For example, given the arrays shown above, the function should return 2, as explained above.  \n",
    "Write an efficient algorithm for the following assumptions:  \n",
    "  \n",
    "N is an integer within the range [1..100,000];  \n",
    "each element of array A is an integer within the range [0..1,000,000,000];  \n",
    "each element of array B is an integer that can have one of the following values: 0, 1;  \n",
    "the elements of A are all distinct.  "
   ]
  },
  {
   "cell_type": "code",
   "execution_count": 1,
   "metadata": {
    "ExecuteTime": {
     "end_time": "2021-04-26T22:48:37.826442Z",
     "start_time": "2021-04-26T22:48:37.817260Z"
    }
   },
   "outputs": [],
   "source": [
    "def fish_fight_total_failure(A:list,B:list)->int:\n",
    "    \"\"\"\n",
    "    This solution is wrong and scored only 37% (shame) \n",
    "    \"\"\"\n",
    "    n = len(A)\n",
    "    count = 0\n",
    "    down = 0\n",
    "    size = 0\n",
    "    for i in range(n):\n",
    "        if B[i] == 0 and A[i]>size and down==1:\n",
    "            count +=1\n",
    "            down=0\n",
    "        elif B[i] == 0 and down==0:\n",
    "            count +=1\n",
    "        elif B[i] == 1 and down==1:\n",
    "            count +=1\n",
    "        else:\n",
    "            down = 1\n",
    "            size = A[i]\n",
    "            \n",
    "    return count+down\n",
    "\n",
    "def fish_fight_stackoverflow(a, b):\n",
    "    \n",
    "    l = 0 # left\n",
    "    s = [] # stack\n",
    "    for i in range(len(a)):\n",
    "        \n",
    "        if b[i]==1: # fish moving upwards\n",
    "            s.append(a[i]) # to the stack\n",
    "        else: # eat fish mowing downwards.\n",
    "            while len(s)>0:\n",
    "                if s[-1]<a[i]:\n",
    "                    s.pop() # eat from the stack\n",
    "                else:\n",
    "                    break\n",
    "            else:\n",
    "                l+=1\n",
    "        print(s,l)\n",
    "    l+=len(s)\n",
    "    return l\n",
    "\n",
    "\n",
    "def fish(A:list,B:list)->int:\n",
    "    n = len(A)\n",
    "    stack = []\n",
    "    up_count = 0\n",
    "    for i in range(n):\n",
    "        if B[i]==1:\n",
    "            stack.append(A[i])\n",
    "        else:\n",
    "            while stack:\n",
    "                if A[i] > stack[-1]:\n",
    "                    stack.pop() \n",
    "                else:\n",
    "                    break    # beware infinite loop\n",
    "            else:\n",
    "                up_count +=1\n",
    "    return len(stack)+up_count"
   ]
  },
  {
   "cell_type": "code",
   "execution_count": 2,
   "metadata": {
    "ExecuteTime": {
     "end_time": "2021-04-26T22:48:38.350554Z",
     "start_time": "2021-04-26T22:48:38.339502Z"
    }
   },
   "outputs": [
    {
     "name": "stdout",
     "output_type": "stream",
     "text": [
      "[] 1\n",
      "[3] 1\n",
      "[3] 1\n",
      "[3] 1\n",
      "[] 2\n"
     ]
    },
    {
     "data": {
      "text/plain": [
       "2"
      ]
     },
     "execution_count": 2,
     "metadata": {},
     "output_type": "execute_result"
    }
   ],
   "source": [
    "fish_fight_stackoverflow([4,3,2,1,5], [0,1,0,0,0])"
   ]
  },
  {
   "cell_type": "code",
   "execution_count": 3,
   "metadata": {
    "ExecuteTime": {
     "end_time": "2021-04-26T22:48:38.942102Z",
     "start_time": "2021-04-26T22:48:38.938141Z"
    }
   },
   "outputs": [
    {
     "data": {
      "text/plain": [
       "2"
      ]
     },
     "execution_count": 3,
     "metadata": {},
     "output_type": "execute_result"
    }
   ],
   "source": [
    "fish([4,3,2,1,5], [0,1,0,0,0])"
   ]
  },
  {
   "cell_type": "markdown",
   "metadata": {},
   "source": [
    "# Roman to Arabic"
   ]
  },
  {
   "cell_type": "code",
   "execution_count": 130,
   "metadata": {
    "ExecuteTime": {
     "end_time": "2021-04-25T13:42:13.263211Z",
     "start_time": "2021-04-25T13:42:13.257583Z"
    }
   },
   "outputs": [],
   "source": [
    "def roman2arabic(S:str)->int:\n",
    "    arabic = 0\n",
    "    prev = 0\n",
    "    translation = {\"I\":1,\"V\":5,\"X\":10}\n",
    "    for s in S:\n",
    "        arabic += translation[s]\n",
    "        if translation[s]>prev:\n",
    "            arabic -= 2*prev\n",
    "        prev = translation[s]\n",
    "    return arabic"
   ]
  },
  {
   "cell_type": "code",
   "execution_count": 142,
   "metadata": {
    "ExecuteTime": {
     "end_time": "2021-04-25T13:43:10.417429Z",
     "start_time": "2021-04-25T13:43:10.413897Z"
    }
   },
   "outputs": [
    {
     "data": {
      "text/plain": [
       "19"
      ]
     },
     "execution_count": 142,
     "metadata": {},
     "output_type": "execute_result"
    }
   ],
   "source": [
    "roman2arabic(\"XIX\")"
   ]
  },
  {
   "cell_type": "markdown",
   "metadata": {},
   "source": [
    "# Stonewall\n",
    "\n",
    "You are going to build a stone wall. The wall should be straight and N meters long, and its thickness should be constant; however, it should have different heights in different places. The height of the wall is specified by an array H of N positive integers. H[I] is the height of the wall from I to I+1 meters to the right of its left end. In particular, H[0] is the height of the wall's left end and H[N−1] is the height of the wall's right end.\n",
    "\n",
    "The wall should be built of cuboid stone blocks (that is, all sides of such blocks are rectangular). Your task is to compute the minimum number of blocks needed to build the wall.\n",
    "\n",
    "Write a function:\n",
    "\n",
    "def solution(H)\n",
    "\n",
    "that, given an array H of N positive integers specifying the height of the wall, returns the minimum number of blocks needed to build it.\n",
    "\n",
    "For example, given array H containing N = 9 integers:\n",
    "\n",
    "  H[0] = 8    H[1] = 8    H[2] = 5\n",
    "  H[3] = 7    H[4] = 9    H[5] = 8\n",
    "  H[6] = 7    H[7] = 4    H[8] = 8\n",
    "the function should return 7. The figure shows one possible arrangement of seven blocks.\n",
    "\n",
    "\n",
    "\n",
    "Write an efficient algorithm for the following assumptions:\n",
    "\n",
    "N is an integer within the range [1..100,000];\n",
    "each element of array H is an integer within the range [1..1,000,000,000]."
   ]
  },
  {
   "cell_type": "code",
   "execution_count": 52,
   "metadata": {
    "ExecuteTime": {
     "end_time": "2021-05-01T00:12:07.476644Z",
     "start_time": "2021-05-01T00:12:07.471176Z"
    }
   },
   "outputs": [],
   "source": [
    "def stonewall(H:list)->int:\n",
    "    n = len(H)\n",
    "    stones = 0\n",
    "    stack = []\n",
    "    stack_num = 0\n",
    "    \n",
    "    for i in range(n):\n",
    "        while stack_num > 0 and stack[stack_num - 1] > H[i]:\n",
    "            stack_num -= 1\n",
    "        if stack_num > 0 and stack[stack_num - 1] == H[i]:\n",
    "            pass\n",
    "        else:\n",
    "            print(stack,stack_num,i)\n",
    "            stones += 1\n",
    "            stack[stack_num] = H[i]\n",
    "            stack_num += 1\n",
    "        \n",
    "    return stones\n",
    "\n",
    "def stonewall2(H:list):\n",
    "    stack = []\n",
    "    count = 0\n",
    "    \n",
    "    for n in H:\n",
    "        while stack and stack[-1] > n:\n",
    "            stack.pop()\n",
    "        if stack and stack[-1] == n:\n",
    "            continue\n",
    "        else:\n",
    "            stack.append(n)\n",
    "            count += 1\n",
    "    return count"
   ]
  },
  {
   "cell_type": "code",
   "execution_count": 53,
   "metadata": {
    "ExecuteTime": {
     "end_time": "2021-05-01T00:12:08.279718Z",
     "start_time": "2021-05-01T00:12:08.276201Z"
    }
   },
   "outputs": [
    {
     "data": {
      "text/plain": [
       "1"
      ]
     },
     "execution_count": 53,
     "metadata": {},
     "output_type": "execute_result"
    }
   ],
   "source": [
    "stonewall2([1,1,1])"
   ]
  },
  {
   "cell_type": "code",
   "execution_count": 54,
   "metadata": {
    "ExecuteTime": {
     "end_time": "2021-05-01T00:12:09.167115Z",
     "start_time": "2021-05-01T00:12:09.163556Z"
    }
   },
   "outputs": [
    {
     "data": {
      "text/plain": [
       "1"
      ]
     },
     "execution_count": 54,
     "metadata": {},
     "output_type": "execute_result"
    }
   ],
   "source": [
    "stonewall2([1])"
   ]
  },
  {
   "cell_type": "code",
   "execution_count": 55,
   "metadata": {
    "ExecuteTime": {
     "end_time": "2021-05-01T00:12:09.971545Z",
     "start_time": "2021-05-01T00:12:09.967929Z"
    },
    "run_control": {
     "marked": true
    }
   },
   "outputs": [
    {
     "data": {
      "text/plain": [
       "4"
      ]
     },
     "execution_count": 55,
     "metadata": {},
     "output_type": "execute_result"
    }
   ],
   "source": [
    "stonewall2([1,2,3,4,1])"
   ]
  },
  {
   "cell_type": "markdown",
   "metadata": {},
   "source": [
    "# Dominator\n",
    "\n",
    "An array A consisting of N integers is given. The dominator of array A is the value that occurs in more than half of the elements of A.\n",
    "\n",
    "For example, consider array A such that\n",
    "\n",
    " A[0] = 3    A[1] = 4    A[2] =  3\n",
    " A[3] = 2    A[4] = 3    A[5] = -1\n",
    " A[6] = 3    A[7] = 3\n",
    "The dominator of A is 3 because it occurs in 5 out of 8 elements of A (namely in those with indices 0, 2, 4, 6 and 7) and 5 is more than a half of 8.\n",
    "\n",
    "Write a function\n",
    "\n",
    "def solution(A)\n",
    "\n",
    "that, given an array A consisting of N integers, returns index of any element of array A in which the dominator of A occurs. The function should return −1 if array A does not have a dominator.\n",
    "\n",
    "For example, given array A such that\n",
    "\n",
    " A[0] = 3    A[1] = 4    A[2] =  3\n",
    " A[3] = 2    A[4] = 3    A[5] = -1\n",
    " A[6] = 3    A[7] = 3\n",
    "the function may return 0, 2, 4, 6 or 7, as explained above.\n",
    "\n",
    "Write an efficient algorithm for the following assumptions:\n",
    "\n",
    "N is an integer within the range [0..100,000];\n",
    "each element of array A is an integer within the range [−2,147,483,648..2,147,483,647]."
   ]
  },
  {
   "cell_type": "code",
   "execution_count": null,
   "metadata": {},
   "outputs": [],
   "source": [
    "def dominator(A):\n",
    "    \"\"\"\n",
    "    O(n log n)\n",
    "    \"\"\"\n",
    "    if len(A)==0:\n",
    "        return -1\n",
    "    if len(A)==1:\n",
    "        return 0\n",
    "    A_sorted = sorted(A)\n",
    "    n = len(A)\n",
    "    candidate = A_sorted[int(n/2)]\n",
    "    count = 0\n",
    "\n",
    "    for i in A:\n",
    "        if i == candidate:\n",
    "            count +=1\n",
    "        if count > n/2:\n",
    "            return A.index(candidate)\n",
    "    return -1"
   ]
  },
  {
   "cell_type": "markdown",
   "metadata": {},
   "source": [
    "# Equileader\n",
    "\n",
    "A non-empty array A consisting of N integers is given.\n",
    "\n",
    "The leader of this array is the value that occurs in more than half of the elements of A.\n",
    "\n",
    "An equi leader is an index S such that 0 ≤ S < N − 1 and two sequences A[0], A[1], ..., A[S] and A[S + 1], A[S + 2], ..., A[N − 1] have leaders of the same value.\n",
    "\n",
    "For example, given array A such that:\n",
    "\n",
    "    A[0] = 4\n",
    "    A[1] = 3\n",
    "    A[2] = 4\n",
    "    A[3] = 4\n",
    "    A[4] = 4\n",
    "    A[5] = 2\n",
    "we can find two equi leaders:\n",
    "\n",
    "0, because sequences: (4) and (3, 4, 4, 4, 2) have the same leader, whose value is 4.\n",
    "2, because sequences: (4, 3, 4) and (4, 4, 2) have the same leader, whose value is 4.\n",
    "The goal is to count the number of equi leaders.\n",
    "\n",
    "Write a function:\n",
    "\n",
    "class Solution { public int solution(int[] A); }\n",
    "\n",
    "that, given a non-empty array A consisting of N integers, returns the number of equi leaders.\n",
    "\n",
    "For example, given:\n",
    "\n",
    "    A[0] = 4\n",
    "    A[1] = 3\n",
    "    A[2] = 4\n",
    "    A[3] = 4\n",
    "    A[4] = 4\n",
    "    A[5] = 2\n",
    "the function should return 2, as explained above.\n",
    "\n",
    "Write an efficient algorithm for the following assumptions:\n",
    "\n",
    "N is an integer within the range [1..100,000];\n",
    "each element of array A is an integer within the range [−1,000,000,000..1,000,000,000]."
   ]
  },
  {
   "cell_type": "code",
   "execution_count": null,
   "metadata": {},
   "outputs": [],
   "source": [
    "def leader(A:list)->int:\n",
    "    \"\"\"\n",
    "    O(n log n)\n",
    "    \"\"\"\n",
    "    A_sorted = sorted(A)\n",
    "    n = len(A_sorted)\n",
    "    candidate = A_sorted[int(n/2)]\n",
    "    count = 0\n",
    "    for i in A:\n",
    "        if i == candidate:\n",
    "            count +=1\n",
    "        if count > n/2:\n",
    "            return i\n",
    "    return -1\n",
    "\n",
    "def prefix_sums(A):\n",
    "    n = len(A)\n",
    "    P = [0] * (n + 1)\n",
    "    for k in range(1, n + 1):\n",
    "        P[k] = P[k - 1] + A[k - 1]\n",
    "    return P\n",
    "\n",
    "\n",
    "\n",
    "def equileader(A:list)->int:\n",
    "    \"\"\"\n",
    "    this worked but using leader and prefix sums is really necessary?\n",
    "    \"\"\"\n",
    "    lead = leader(A) \n",
    "\n",
    "    if len(A) == 1 or lead ==-1:\n",
    "        return 0\n",
    "    \n",
    "    else:\n",
    "        countleader = [1 if a==lead else 0 for a in A]\n",
    "        cumsum = prefix_sums(countleader)\n",
    "        count = 0\n",
    "        for i in range(len(A)-1):\n",
    "            conditions = [(cumsum[i+1] - cumsum[0])/(i+1) > 0.5,\n",
    "                          (cumsum[-1] - cumsum[i+1])/(len(A)-(i+1)) > 0.5]\n",
    "            if all(conditions):\n",
    "                count +=1\n",
    "    return count\n"
   ]
  },
  {
   "cell_type": "markdown",
   "metadata": {},
   "source": [
    "# Max Profit\n",
    "\n",
    "An array A consisting of N integers is given. It contains daily prices of a stock share for a period of N consecutive days. If a single share was bought on day P and sold on day Q, where 0 ≤ P ≤ Q < N, then the profit of such transaction is equal to A[Q] − A[P], provided that A[Q] ≥ A[P]. Otherwise, the transaction brings loss of A[P] − A[Q].\n",
    "\n",
    "For example, consider the following array A consisting of six elements such that:\n",
    "\n",
    "  A[0] = 23171\n",
    "  A[1] = 21011\n",
    "  A[2] = 21123\n",
    "  A[3] = 21366\n",
    "  A[4] = 21013\n",
    "  A[5] = 21367\n",
    "If a share was bought on day 0 and sold on day 2, a loss of 2048 would occur because A[2] − A[0] = 21123 − 23171 = −2048. If a share was bought on day 4 and sold on day 5, a profit of 354 would occur because A[5] − A[4] = 21367 − 21013 = 354. Maximum possible profit was 356. It would occur if a share was bought on day 1 and sold on day 5.\n",
    "\n",
    "Write a function,\n",
    "\n",
    "class Solution { public int solution(int[] A); }\n",
    "\n",
    "that, given an array A consisting of N integers containing daily prices of a stock share for a period of N consecutive days, returns the maximum possible profit from one transaction during this period. The function should return 0 if it was impossible to gain any profit.\n",
    "\n",
    "For example, given array A consisting of six elements such that:\n",
    "\n",
    "  A[0] = 23171\n",
    "  A[1] = 21011\n",
    "  A[2] = 21123\n",
    "  A[3] = 21366\n",
    "  A[4] = 21013\n",
    "  A[5] = 21367\n",
    "the function should return 356, as explained above.\n",
    "\n",
    "Write an efficient algorithm for the following assumptions:\n",
    "\n",
    "N is an integer within the range [0..400,000];\n",
    "each element of array A is an integer within the range [0..200,000]."
   ]
  },
  {
   "cell_type": "code",
   "execution_count": null,
   "metadata": {},
   "outputs": [],
   "source": [
    "def max_profit(A:list)->int:\n",
    "    profit = 0\n",
    "    stack = []\n",
    "    for a in A:\n",
    "        if stack and stack[-1]<a:\n",
    "            profit = max(profit,a - stack[-1])\n",
    "\n",
    "        if not stack or stack[-1]>a:\n",
    "            stack.append(a)\n",
    "\n",
    "    if profit<=0:\n",
    "        return 0\n",
    "    else:\n",
    "        return profit\n",
    "    \n",
    "def max_profit2(A:list)->int:    \n",
    "    if len(A) == 0:\n",
    "        return 0\n",
    "    profit = 0\n",
    "    min_buy = A[0]\n",
    "    for a in A:\n",
    "        if  min_buy < a:\n",
    "            profit = max(profit,a - min_buy)\n",
    "\n",
    "        min_buy = min(min_buy,a)\n",
    "\n",
    "    if profit<=0:\n",
    "        return 0\n",
    "    else:\n",
    "        return profit"
   ]
  },
  {
   "cell_type": "markdown",
   "metadata": {},
   "source": [
    "# Reversing Coins\n",
    "\n",
    "Consider n coins aligned in a row. Each coin is showing heads at the beginning.  \n",
    "\n",
    "0 0 0 0 0 0 0 0 0 0  \n",
    "1 2 3 4 5 6 7 8 9 10  \n",
    "  \n",
    "Then, n people turn over corresponding coins as follows. Person i reverses coins with numbers  \n",
    "that are multiples of i. That is, person i flips coins i, 2 · i, 3 · i, . . . until no more appropriate  \n",
    "coins remain. The goal is to count the number of coins showing tails. In the above example,  \n",
    "the final configuration is:  \n",
    "0 1 0 1 0 0 0 0 1 0  \n",
    "1 2 3 4 5 6 7 8 9 10"
   ]
  },
  {
   "cell_type": "code",
   "execution_count": 221,
   "metadata": {
    "ExecuteTime": {
     "end_time": "2021-05-02T03:59:12.398156Z",
     "start_time": "2021-05-02T03:59:12.393905Z"
    }
   },
   "outputs": [],
   "source": [
    "def rev_coins(N:int)->int:\n",
    "    \"\"\"\n",
    "    O(n log n)\n",
    "    \"\"\"\n",
    "    count = 0\n",
    "    coins = [0]*(N+1)\n",
    "    for i in range(1,N+1):\n",
    "        k = i\n",
    "        while k<= N:\n",
    "            coins[k] = coins[k]^1\n",
    "            k +=i\n",
    "        count += coins[i]\n",
    "    return count\n",
    "\n",
    "def fast_rev_coins(N:int)->int:\n",
    "    \"\"\"\n",
    "    O(1) maybe?\n",
    "    \"\"\"\n",
    "    import math\n",
    "    return math.floor(math.sqrt(N))"
   ]
  },
  {
   "cell_type": "code",
   "execution_count": 223,
   "metadata": {
    "ExecuteTime": {
     "end_time": "2021-05-02T03:59:50.740957Z",
     "start_time": "2021-05-02T03:59:21.901977Z"
    }
   },
   "outputs": [
    {
     "data": {
      "text/plain": [
       "3162"
      ]
     },
     "execution_count": 223,
     "metadata": {},
     "output_type": "execute_result"
    }
   ],
   "source": [
    "rev_coins(10_000_000)"
   ]
  },
  {
   "cell_type": "code",
   "execution_count": 224,
   "metadata": {
    "ExecuteTime": {
     "end_time": "2021-05-02T04:00:12.646624Z",
     "start_time": "2021-05-02T04:00:12.642899Z"
    }
   },
   "outputs": [
    {
     "data": {
      "text/plain": [
       "3162"
      ]
     },
     "execution_count": 224,
     "metadata": {},
     "output_type": "execute_result"
    }
   ],
   "source": [
    "fast_rev_coins(10_000_000)"
   ]
  },
  {
   "cell_type": "markdown",
   "metadata": {},
   "source": [
    "# Min Perimeter Rectangle\n",
    "\n",
    "An integer N is given, representing the area of some rectangle.\n",
    "\n",
    "The area of a rectangle whose sides are of length A and B is A * B, and the perimeter is 2 * (A + B).\n",
    "\n",
    "The goal is to find the minimal perimeter of any rectangle whose area equals N. The sides of this rectangle should be only integers.\n",
    "\n",
    "For example, given integer N = 30, rectangles of area 30 are:\n",
    "\n",
    "(1, 30), with a perimeter of 62,\n",
    "(2, 15), with a perimeter of 34,\n",
    "(3, 10), with a perimeter of 26,\n",
    "(5, 6), with a perimeter of 22.\n",
    "Write a function:\n",
    "\n",
    "class Solution { public int solution(int N); }\n",
    "\n",
    "that, given an integer N, returns the minimal perimeter of any rectangle whose area is exactly equal to N.\n",
    "\n",
    "For example, given an integer N = 30, the function should return 22, as explained above.\n",
    "\n",
    "Write an efficient algorithm for the following assumptions:\n",
    "\n",
    "N is an integer within the range [1..1,000,000,000]."
   ]
  },
  {
   "cell_type": "code",
   "execution_count": 319,
   "metadata": {
    "ExecuteTime": {
     "end_time": "2021-05-05T05:13:39.593922Z",
     "start_time": "2021-05-05T05:13:39.588985Z"
    }
   },
   "outputs": [],
   "source": [
    "def divisors(N:int)->int:\n",
    "    i = 1\n",
    "    div = set()\n",
    "    while i**2 < N:\n",
    "        if N%i == 0:\n",
    "            div.add(i)\n",
    "            div.add(int(N/i))\n",
    "        i +=1\n",
    "    if i**2 == N:\n",
    "        div.add(i)   \n",
    "    \n",
    "    return div\n",
    "\n",
    "def min_perimeter(N):\n",
    "    if N==1:\n",
    "        return 4\n",
    "    div = divisors(N)\n",
    "    perimeter = 10e10\n",
    "    for d in div:\n",
    "        perimeter = min(perimeter,(2*(d+int(N/d))))\n",
    "    \n",
    "    return perimeter"
   ]
  },
  {
   "cell_type": "code",
   "execution_count": 320,
   "metadata": {
    "ExecuteTime": {
     "end_time": "2021-05-05T05:13:40.102264Z",
     "start_time": "2021-05-05T05:13:40.098682Z"
    }
   },
   "outputs": [
    {
     "data": {
      "text/plain": [
       "24"
      ]
     },
     "execution_count": 320,
     "metadata": {},
     "output_type": "execute_result"
    }
   ],
   "source": [
    "min_perimeter(36)"
   ]
  },
  {
   "cell_type": "markdown",
   "metadata": {
    "ExecuteTime": {
     "end_time": "2021-05-05T06:19:06.271340Z",
     "start_time": "2021-05-05T06:19:06.269538Z"
    }
   },
   "source": [
    "# Flags\n",
    "\n",
    "A non-empty array A consisting of N integers is given.\n",
    "\n",
    "A peak is an array element which is larger than its neighbours. More precisely, it is an index P such that 0 < P < N − 1 and A[P − 1] < A[P] > A[P + 1].\n",
    "\n",
    "For example, the following array A:\n",
    "\n",
    "    A[0] = 1\n",
    "    A[1] = 5\n",
    "    A[2] = 3\n",
    "    A[3] = 4\n",
    "    A[4] = 3\n",
    "    A[5] = 4\n",
    "    A[6] = 1\n",
    "    A[7] = 2\n",
    "    A[8] = 3\n",
    "    A[9] = 4\n",
    "    A[10] = 6\n",
    "    A[11] = 2\n",
    "has exactly four peaks: elements 1, 3, 5 and 10.\n",
    "\n",
    "You are going on a trip to a range of mountains whose relative heights are represented by array A, as shown in a figure below. You have to choose how many flags you should take with you. The goal is to set the maximum number of flags on the peaks, according to certain rules.\n",
    "\n",
    "\n",
    "\n",
    "Flags can only be set on peaks. What's more, if you take K flags, then the distance between any two flags should be greater than or equal to K. The distance between indices P and Q is the absolute value |P − Q|.\n",
    "\n",
    "For example, given the mountain range represented by array A, above, with N = 12, if you take:\n",
    "\n",
    "two flags, you can set them on peaks 1 and 5;\n",
    "three flags, you can set them on peaks 1, 5 and 10;\n",
    "four flags, you can set only three flags, on peaks 1, 5 and 10.\n",
    "You can therefore set a maximum of three flags in this case.\n",
    "\n",
    "Write a function:\n",
    "\n",
    "def solution(A)\n",
    "\n",
    "that, given a non-empty array A of N integers, returns the maximum number of flags that can be set on the peaks of the array.\n",
    "\n",
    "For example, the following array A:\n",
    "\n",
    "    A[0] = 1\n",
    "    A[1] = 5\n",
    "    A[2] = 3\n",
    "    A[3] = 4\n",
    "    A[4] = 3\n",
    "    A[5] = 4\n",
    "    A[6] = 1\n",
    "    A[7] = 2\n",
    "    A[8] = 3\n",
    "    A[9] = 4\n",
    "    A[10] = 6\n",
    "    A[11] = 2\n",
    "the function should return 3, as explained above.\n",
    "\n",
    "Write an efficient algorithm for the following assumptions:\n",
    "\n",
    "N is an integer within the range [1..400,000];\n",
    "each element of array A is an integer within the range [0..1,000,000,000].\n"
   ]
  },
  {
   "cell_type": "code",
   "execution_count": 354,
   "metadata": {
    "ExecuteTime": {
     "end_time": "2021-05-05T22:44:35.638747Z",
     "start_time": "2021-05-05T22:44:35.632170Z"
    }
   },
   "outputs": [],
   "source": [
    "def find_peaks(A:list)->list:\n",
    "    peaks = []\n",
    "    for i,a in enumerate(A[1:-1],1):\n",
    "        conditions = [a > A[i-1],a> A[i+1]]\n",
    "        if all(conditions):\n",
    "            peaks.append(i)\n",
    "    return peaks\n",
    "\n",
    "def find_peaks2(A:list)->list:\n",
    "    peaks = []\n",
    "    for i,a in enumerate(A[1:-1],1):\n",
    "        if a > max(A[i-1],A[i+1]):\n",
    "            peaks.append(i)\n",
    "    return peaks\n",
    "\n",
    "def find_distances(peaks:list)->list:\n",
    "    distances =[]\n",
    "    n = len(peaks)\n",
    "    for i in range(1,n):\n",
    "        distances.append(peaks[i]-peaks[i-1])\n",
    "    \n",
    "    return distances\n",
    "\n",
    "def Flags(A):\n",
    "    if len(A) <= 1:\n",
    "        return 0\n",
    "    peaks = find_peaks(A)\n",
    "    distances = find_distances(peaks)\n",
    "    n_peaks = len(peaks)\n",
    "    maxflag = 0\n",
    "    for i in range(1,n_peaks+1):\n",
    "        flag = 0\n",
    "        stack = [0]\n",
    "        for d in distances:\n",
    "            if d+stack[-1] >= i:\n",
    "                flag +=1\n",
    "            else:\n",
    "                stack.append(stack[-1]+d)\n",
    "        maxflag = max(maxflag,flag)\n",
    "    \n",
    "    return flag+1"
   ]
  },
  {
   "cell_type": "code",
   "execution_count": 359,
   "metadata": {
    "ExecuteTime": {
     "end_time": "2021-05-05T22:50:09.238443Z",
     "start_time": "2021-05-05T22:50:09.234640Z"
    }
   },
   "outputs": [
    {
     "data": {
      "text/plain": [
       "[2, 4]"
      ]
     },
     "execution_count": 359,
     "metadata": {},
     "output_type": "execute_result"
    }
   ],
   "source": [
    "find_peaks([10,0,1,0,1,0,1])"
   ]
  },
  {
   "cell_type": "markdown",
   "metadata": {},
   "source": [
    "I took OTS Today. Thought of contributing to leetcode community.(Trying to add as much I can to recollect.)(Most of the questions are already added by other ppl but Just sharing my experience.)\n",
    "1 Hrs OTS\n",
    "4 Questions(Debugging, Data Structure Coding, Mcq, Data Structure Coding)\n",
    "\n",
    "Question 1-Debugging (Find Minimum in the array (1 Line of code change)(Very Easy) )\n",
    "Question 2- Coding (Find Sign of product of all element in an array multiplied Together.E.g: given an array like [-2,3,5,-9], return 1,0 or -1 if the product of all elements in the array is positive, 0 or negative respectively).\n",
    "Question 3: Count Visible nodes. (Count Visible Nodes in Binary Tree). From the Above list.\n",
    "Question 4: 10 Mcq questions:\n",
    "-how many comparisons you have on the 5 element array to find the minimum value Answer: (n-1) (4)\n",
    "-Given a list of 1000 elements which of the following numbers is the largest (Not sure But I Opted for a Permutation answer )\n",
    "-which of the following algorithm finds the shortest path in an unweighted graph? (BFS)\n",
    "-The time complexity of g(n, x, y) is O(n). What is the time complexity of f(n)? O(nlogN)\n",
    "def f(n):\n",
    "if n == 1:\n",
    "return 1\n",
    "x = f(n/2)\n",
    "y = f (n/2)\n",
    "return g(n,x,y) (n log n)\n",
    "-You are given an array with 10^8 elements and you must compute the sum A[j]+A[k] for every possible pair of elements in the array. How long will this computation take on a single mainstream computer? (milliseconds, seconds, hours, or a few hours) not sure what this answer is: More Then a few hours\n",
    "\n",
    "given a tree with 4 nodes. find the number of edges you will add to cease the tree from being a tree. (1 edge)\n",
    "-What data structure is commonly used in Realisation databases (B-Tree)\n",
    "-How do you write if statement does know if the number is odd in a most programming language. ( (x & 1) != 0 )\n",
    "Count Good Nodes in Binary Tree (just like the question here)\n",
    "\n",
    "\n",
    "\n",
    "Given an array of 1000 items. What is the highest? (That was the hardest for me)\n",
    "-- Number of unique pairs\n",
    "-- Number of sub arrays\n",
    "-- Number of permutations\n",
    "-- 10e12?"
   ]
  },
  {
   "cell_type": "markdown",
   "metadata": {},
   "source": [
    "# Sign of array element product"
   ]
  },
  {
   "cell_type": "code",
   "execution_count": 415,
   "metadata": {
    "ExecuteTime": {
     "end_time": "2021-05-08T14:51:09.533869Z",
     "start_time": "2021-05-08T14:51:09.521585Z"
    }
   },
   "outputs": [],
   "source": [
    "def sign(A:list)->int:\n",
    "    if len(A)==0:\n",
    "        return 0\n",
    "    count = 0\n",
    "    for a in A:\n",
    "        if a < 0:\n",
    "            count +=1\n",
    "        elif a==0:\n",
    "            return 0\n",
    "    \n",
    "    if count%2 ==0:\n",
    "        return 1\n",
    "    else:\n",
    "        return -1"
   ]
  },
  {
   "cell_type": "code",
   "execution_count": 422,
   "metadata": {
    "ExecuteTime": {
     "end_time": "2021-05-08T14:51:42.740676Z",
     "start_time": "2021-05-08T14:51:42.736753Z"
    }
   },
   "outputs": [
    {
     "data": {
      "text/plain": [
       "0"
      ]
     },
     "execution_count": 422,
     "metadata": {},
     "output_type": "execute_result"
    }
   ],
   "source": [
    "sign([100,-1,-1,-2,0])"
   ]
  },
  {
   "cell_type": "markdown",
   "metadata": {},
   "source": [
    "# Largest Alphabet Character"
   ]
  },
  {
   "cell_type": "code",
   "execution_count": 426,
   "metadata": {
    "ExecuteTime": {
     "end_time": "2021-05-08T14:58:08.500034Z",
     "start_time": "2021-05-08T14:58:08.496153Z"
    }
   },
   "outputs": [],
   "source": [
    "def largest_char(S:str)->str:\n",
    "    l_char = \"\"\n",
    "    for s in S:\n",
    "        l_char = max(l_char,s)\n",
    "    \n",
    "    return l_char"
   ]
  },
  {
   "cell_type": "code",
   "execution_count": 428,
   "metadata": {
    "ExecuteTime": {
     "end_time": "2021-05-08T14:58:35.435079Z",
     "start_time": "2021-05-08T14:58:35.430421Z"
    }
   },
   "outputs": [
    {
     "data": {
      "text/plain": [
       "'u'"
      ]
     },
     "execution_count": 428,
     "metadata": {},
     "output_type": "execute_result"
    }
   ],
   "source": [
    "largest_char(\"asdkfhjsadkjfb,sahdfkuasdkfjh\")"
   ]
  },
  {
   "cell_type": "markdown",
   "metadata": {},
   "source": [
    "# Meeting Rooms II\n",
    "\n",
    "Given an array of meeting time intervals intervals where intervals[i] = [starti, endi], return the minimum number of conference rooms required.  \n",
    "\n",
    "\n",
    "Example 1:  \n",
    "  \n",
    "Input: intervals = [[0,30],[5,10],[15,20]]  \n",
    "Output: 2  \n",
    "  \n",
    "Example 2:  \n",
    "  \n",
    "Input: intervals = [[7,10],[2,4]]  \n",
    "Output: 1  \n",
    "   \n",
    "  \n",
    "Constraints:  \n",
    "  \n",
    "1 <= intervals.length <= 104  \n",
    "0 <= starti < endi <= 106  "
   ]
  },
  {
   "cell_type": "code",
   "execution_count": 507,
   "metadata": {
    "ExecuteTime": {
     "end_time": "2021-05-08T21:06:37.258557Z",
     "start_time": "2021-05-08T21:06:37.249425Z"
    }
   },
   "outputs": [],
   "source": [
    "def meeting_rooms(S:list)->int:\n",
    "    \"\"\"\n",
    "    this works but its uggly because:\n",
    "     - Have to take into account edge cases explicitly (e.g if len(S)==1)\n",
    "     - repeat parts of code (e.g. else statement)\n",
    "     - Uses stack where should be using a heap (because of this we have to sort the stack everytime we modify it)\n",
    "    \"\"\"\n",
    "    if len(S)==1:\n",
    "        return 1\n",
    "    S.sort(key=lambda x:x[0])\n",
    "    rooms = 0\n",
    "    stack = []\n",
    "    for s in S:\n",
    "        if stack:\n",
    "            k=-1\n",
    "            while k>=-len(stack):\n",
    "                if s[0] >= stack[k]:\n",
    "                    stack[k] = s[1]\n",
    "                    stack.sort(reverse=True)\n",
    "                    break\n",
    "                k -=1\n",
    "            else:\n",
    "                rooms +=1\n",
    "                stack.append(s[1])\n",
    "                stack.sort(reverse=True)\n",
    "        else:\n",
    "            rooms +=1\n",
    "            stack.append(s[1])\n",
    "            stack.sort(reverse=True)\n",
    "    return rooms\n",
    "\n",
    "def meeting_rooms2(S:list)->int:\n",
    "    \"\"\"\n",
    "    much better indeed!\n",
    "    \"\"\"\n",
    "    import heapq\n",
    "    S.sort(key=lambda x:x[0])\n",
    "    rooms=1\n",
    "    heap=[S[0][1]]\n",
    "    for s in S[1:]:\n",
    "        if s[0] < heap[0]:\n",
    "            heapq.heappush(heap,s[1])\n",
    "            rooms +=1\n",
    "        else:\n",
    "            heapq.heapreplace(heap,s[1])\n",
    "        \n",
    "    return rooms"
   ]
  },
  {
   "cell_type": "code",
   "execution_count": 505,
   "metadata": {
    "ExecuteTime": {
     "end_time": "2021-05-08T20:55:14.207354Z",
     "start_time": "2021-05-08T20:55:14.203430Z"
    }
   },
   "outputs": [
    {
     "data": {
      "text/plain": [
       "2"
      ]
     },
     "execution_count": 505,
     "metadata": {},
     "output_type": "execute_result"
    }
   ],
   "source": [
    "meeting_rooms([[0,30],[5,10],[15,20]])"
   ]
  },
  {
   "cell_type": "code",
   "execution_count": 508,
   "metadata": {
    "ExecuteTime": {
     "end_time": "2021-05-08T21:06:45.979719Z",
     "start_time": "2021-05-08T21:06:45.975958Z"
    }
   },
   "outputs": [
    {
     "data": {
      "text/plain": [
       "2"
      ]
     },
     "execution_count": 508,
     "metadata": {},
     "output_type": "execute_result"
    }
   ],
   "source": [
    "meeting_rooms2([[0,30],[5,10],[15,20]])"
   ]
  },
  {
   "cell_type": "markdown",
   "metadata": {},
   "source": [
    "# Largest symetric integer\n",
    "Write a function that, given an array A of N integers, returns the lagest integer K > 0  \n",
    "such that both values K and -K exist in array A. If there is no such integer, the function should return 0.  \n",
    "  \n",
    "Example 1:  \n",
    "  \n",
    "Input: [3, 2, -2, 5, -3]  \n",
    "Output: 3  \n",
    "Example 2:  \n",
    "  \n",
    "Input: [1, 2, 3, -4]  \n",
    "Output: 0  "
   ]
  },
  {
   "cell_type": "code",
   "execution_count": 520,
   "metadata": {
    "ExecuteTime": {
     "end_time": "2021-05-08T21:37:11.528705Z",
     "start_time": "2021-05-08T21:37:11.523805Z"
    }
   },
   "outputs": [],
   "source": [
    "def largest_sym_int(A:list)->int:\n",
    "    from collections import defaultdict\n",
    "    int_dict = defaultdict(lambda:0)\n",
    "    for a in A:\n",
    "        int_dict[abs(a)] += 1\n",
    "    \n",
    "    candidates = [key for key,value in int_dict.items() if value >1]\n",
    "    \n",
    "    if not candidates:\n",
    "        return 0\n",
    "    else:\n",
    "        return max(candidates)\n",
    "    \n",
    "def largest_sym_int2(A:list)->int:\n",
    "    \"\"\"\n",
    "    Even better\n",
    "    \"\"\"\n",
    "    from collections import defaultdict\n",
    "    int_dict = defaultdict(lambda:0)\n",
    "    max_int = 0\n",
    "    for a in A:\n",
    "        int_dict[abs(a)] += 1\n",
    "        if int_dict[abs(a)] > 1:\n",
    "            max_int = max(max_int,abs(a))\n",
    "    \n",
    "    return max_int\n",
    "    "
   ]
  },
  {
   "cell_type": "code",
   "execution_count": 523,
   "metadata": {
    "ExecuteTime": {
     "end_time": "2021-05-08T21:37:23.089106Z",
     "start_time": "2021-05-08T21:37:23.084942Z"
    }
   },
   "outputs": [
    {
     "data": {
      "text/plain": [
       "0"
      ]
     },
     "execution_count": 523,
     "metadata": {},
     "output_type": "execute_result"
    }
   ],
   "source": [
    "largest_sym_int2([1, 2, 3, -4])"
   ]
  },
  {
   "cell_type": "markdown",
   "metadata": {
    "ExecuteTime": {
     "end_time": "2021-05-08T22:04:33.785375Z",
     "start_time": "2021-05-08T22:04:33.778137Z"
    }
   },
   "source": [
    "#  Unique integers\n",
    "\n",
    "Given an integer n, return any array containing n unique integers such that they add up to 0.\n",
    "\n",
    " \n",
    "\n",
    "Example 1:\n",
    "\n",
    "Input: n = 5\n",
    "Output: [-7,-1,1,3,4]\n",
    "Explanation: These arrays also are accepted [-5,-1,1,2,3] , [-3,-1,2,-2,4].\n",
    "Example 2:\n",
    "\n",
    "Input: n = 3\n",
    "Output: [-1,0,1]\n",
    "Example 3:\n",
    "\n",
    "Input: n = 1\n",
    "Output: [0]"
   ]
  },
  {
   "cell_type": "code",
   "execution_count": 555,
   "metadata": {
    "ExecuteTime": {
     "end_time": "2021-05-08T22:18:01.340873Z",
     "start_time": "2021-05-08T22:18:01.336534Z"
    }
   },
   "outputs": [],
   "source": [
    "def unique_sum_0(N:int)->list:\n",
    "    ints_list = []\n",
    "    if N==0:\n",
    "        return ints_list\n",
    "    if N%2 !=0:\n",
    "        ints_list.append(0)\n",
    "        ints_list.extend(list(range(1,(N//2)+1))+list(range(-1,(-N//2),-1)))\n",
    "    else:\n",
    "        ints_list.extend(list(range(1,((N+1)//2)+1))+list(range(-1,(-N//2)-1,-1)))\n",
    "        \n",
    "    return ints_list"
   ]
  },
  {
   "cell_type": "code",
   "execution_count": 560,
   "metadata": {
    "ExecuteTime": {
     "end_time": "2021-05-08T22:18:28.047863Z",
     "start_time": "2021-05-08T22:18:28.044346Z"
    }
   },
   "outputs": [
    {
     "data": {
      "text/plain": [
       "[0, 1, 2, -1, -2]"
      ]
     },
     "execution_count": 560,
     "metadata": {},
     "output_type": "execute_result"
    }
   ],
   "source": [
    "unique_sum_0(5)"
   ]
  },
  {
   "cell_type": "markdown",
   "metadata": {},
   "source": [
    "# Min Deletions"
   ]
  },
  {
   "cell_type": "code",
   "execution_count": 566,
   "metadata": {
    "ExecuteTime": {
     "end_time": "2021-05-09T03:17:09.515137Z",
     "start_time": "2021-05-09T03:17:09.511637Z"
    }
   },
   "outputs": [],
   "source": [
    "def minDeletions(s: str) -> int:\n",
    "    import collections\n",
    "    cnt, res, used = collections.Counter(s), 0, set()\n",
    "    for ch, freq in cnt.items():\n",
    "        while freq > 0 and freq in used:\n",
    "            freq -= 1\n",
    "            res += 1\n",
    "        used.add(freq)\n",
    "    return res\n"
   ]
  },
  {
   "cell_type": "markdown",
   "metadata": {},
   "source": [
    "# Min Steps\n",
    "\n",
    "Alexa is given n piles of equal or unequal heights. In one step, Alexa can remove any number of boxes from the pile which has the maximum height and try to make it equal to the one which is just lower than the maximum height of the stack. Determine the minimum number of steps required to make all of the piles equal in height.\n",
    "\n",
    "Example 1:  \n",
    "  \n",
    "Input: piles = [5, 2, 1]  \n",
    "Output: 3  \n",
    "  \n",
    "Explanation:  \n",
    "Step 1: reducing 5 -> 2 [2, 2, 1]  \n",
    "Step 2: reducing 2 -> 1 [2, 1, 1]  \n",
    "Step 3: reducing 2 -> 1 [1, 1, 1]  \n",
    "So final number of steps required is 3.  "
   ]
  },
  {
   "cell_type": "code",
   "execution_count": 583,
   "metadata": {
    "ExecuteTime": {
     "end_time": "2021-05-09T03:41:14.183593Z",
     "start_time": "2021-05-09T03:41:14.180031Z"
    }
   },
   "outputs": [],
   "source": [
    "def min_swaps(S:list)->int:\n",
    "    from collections import Counter\n",
    "    import numpy as np\n",
    "    S.sort(reverse=True)\n",
    "    count = Counter(S)\n",
    "    cumsum = np.cumsum([i for _,i in count.items()])\n",
    "    return sum(cumsum[:-1])\n",
    "        "
   ]
  },
  {
   "cell_type": "code",
   "execution_count": 584,
   "metadata": {
    "ExecuteTime": {
     "end_time": "2021-05-09T03:41:14.800181Z",
     "start_time": "2021-05-09T03:41:14.795710Z"
    }
   },
   "outputs": [
    {
     "data": {
      "text/plain": [
       "15"
      ]
     },
     "execution_count": 584,
     "metadata": {},
     "output_type": "execute_result"
    }
   ],
   "source": [
    "min_swaps([1, 1, 2, 2, 2, 3, 3, 3, 4, 4])"
   ]
  },
  {
   "cell_type": "markdown",
   "metadata": {},
   "source": [
    "# Is Connected"
   ]
  },
  {
   "cell_type": "code",
   "execution_count": null,
   "metadata": {},
   "outputs": [],
   "source": [
    "graph = [[1,2,3,4,5,6,7],[[1,2],[2,3],[3,1],[4,1],[4,5],[5,6],[6,7]]]\n",
    "graph = [[1,2,3,4,5,6,7],[[1,2],[1,3],[4,1],[1,5],[1,6],[1,7]]]\n",
    "graph = [[1,2,3,4,5,6,7],[[1,2],[1,3],[1,4],[5,1],[1,6],[1,7],\n",
    "                          [3,2],[2,4],[2,5],[2,6],[2,7],\n",
    "                          [3,4],[3,5],[3,6],[3,7],\n",
    "                          [4,5],[4,6],[4,7],\n",
    "                          [5,6],[5,7],\n",
    "                          [6,7]]]"
   ]
  },
  {
   "cell_type": "code",
   "execution_count": 203,
   "metadata": {
    "ExecuteTime": {
     "end_time": "2021-09-05T18:28:21.465276Z",
     "start_time": "2021-09-05T18:28:21.456104Z"
    }
   },
   "outputs": [],
   "source": [
    "graph = [[1,2,3,4,5,6,7],[[1,2],[1,3],[1,4],[5,1],[1,6],[1,7],\n",
    "                          [3,2],[2,4],[2,5],[2,6],[2,7],\n",
    "                          [3,4],[3,5],[3,6],[3,7],\n",
    "                          [4,5],[4,6],[4,7],\n",
    "                          [5,6],[5,7],\n",
    "                          [6,7]]]\n",
    "\n",
    "def connected(graph:list)->bool:\n",
    "    nodes = graph[0]\n",
    "    edges = graph[1]\n",
    "    conn = [nodes[0]]\n",
    "    \n",
    "    flag = True\n",
    "    for node in conn:\n",
    "        for _,edge in enumerate(edges):\n",
    "            print(node)\n",
    "            if node in edge:\n",
    "                for n in edge:\n",
    "                    if n not in conn:\n",
    "                        conn.append(n)\n",
    "\n",
    "            if len(conn) == len(nodes):\n",
    "                return True\n",
    "\n",
    "    return len(conn) == len(nodes)"
   ]
  },
  {
   "cell_type": "code",
   "execution_count": 204,
   "metadata": {
    "ExecuteTime": {
     "end_time": "2021-09-05T18:28:23.344634Z",
     "start_time": "2021-09-05T18:28:23.337913Z"
    }
   },
   "outputs": [
    {
     "name": "stdout",
     "output_type": "stream",
     "text": [
      "1\n",
      "1\n",
      "1\n",
      "1\n",
      "1\n",
      "1\n"
     ]
    },
    {
     "data": {
      "text/plain": [
       "True"
      ]
     },
     "execution_count": 204,
     "metadata": {},
     "output_type": "execute_result"
    }
   ],
   "source": [
    "connected(graph)"
   ]
  },
  {
   "cell_type": "markdown",
   "metadata": {},
   "source": [
    "# Bipartite"
   ]
  },
  {
   "cell_type": "code",
   "execution_count": 231,
   "metadata": {
    "ExecuteTime": {
     "end_time": "2021-09-05T23:25:43.575493Z",
     "start_time": "2021-09-05T23:25:43.569965Z"
    }
   },
   "outputs": [],
   "source": [
    "def bipartite(graph):\n",
    "    nodes = graph[0]\n",
    "    edges = graph[1]  \n",
    "    groups = [[nodes[0]],[]]\n",
    "    \n",
    "    for node in nodes:\n",
    "        for _,edge in enumerate(edges):\n",
    "            if node in groups[0]:\n",
    "                g = 1\n",
    "            else:\n",
    "                g = 0\n",
    "            if node in edge:\n",
    "                for n in edge:\n",
    "                    if n not in groups[g] and n != node:\n",
    "                        groups[g].append(n)\n",
    "    print(groups)\n",
    "    return len(set(groups[0]).intersection(set(groups[1]))) == 0\n"
   ]
  },
  {
   "cell_type": "code",
   "execution_count": 236,
   "metadata": {
    "ExecuteTime": {
     "end_time": "2021-09-05T23:29:05.362196Z",
     "start_time": "2021-09-05T23:29:05.356637Z"
    }
   },
   "outputs": [
    {
     "name": "stdout",
     "output_type": "stream",
     "text": [
      "[[1, 3, 5, 8, 9], [2, 4, 6, 7]]\n"
     ]
    },
    {
     "data": {
      "text/plain": [
       "True"
      ]
     },
     "execution_count": 236,
     "metadata": {},
     "output_type": "execute_result"
    }
   ],
   "source": [
    "graph = [[1,2,3,4,5,6,7,8,9],[[1,2],[2,3],[4,3],[4,5],[5,6],[8,7],[9,7]]]\n",
    "bipartite(graph)"
   ]
  },
  {
   "cell_type": "markdown",
   "metadata": {
    "ExecuteTime": {
     "end_time": "2021-05-20T03:28:27.459615Z",
     "start_time": "2021-05-20T03:28:27.457705Z"
    }
   },
   "source": [
    "# Is Palindrome"
   ]
  },
  {
   "cell_type": "code",
   "execution_count": null,
   "metadata": {},
   "outputs": [],
   "source": [
    "import re\n",
    "def ispal(s:str)->bool:\n",
    "    d = deque(\"\".join(re.findall(\"[a-zA-Z]|[0-9]+\", s.lower())))\n",
    "    while d:\n",
    "        try:\n",
    "            if d.popleft()!=d.pop():\n",
    "                return False\n",
    "        except:\n",
    "            continue\n",
    "    \n",
    "    return True"
   ]
  },
  {
   "cell_type": "markdown",
   "metadata": {},
   "source": [
    "# verificar se era uma arvore binary e validar"
   ]
  },
  {
   "cell_type": "markdown",
   "metadata": {},
   "source": [
    "# LinkedIn\n",
    "\n",
    "Linkedin provides users with the ability to connect to other professionals and form a social netwerk. Design the data structures and code necessary to determine whether or not any 2 users in LinkedIn are connected. Keep in mind that users may be connected diirectly or indirectly via other people's connections.\n"
   ]
  },
  {
   "cell_type": "markdown",
   "metadata": {},
   "source": [
    "# !!! Max Double Slice Sum"
   ]
  },
  {
   "cell_type": "markdown",
   "metadata": {
    "ExecuteTime": {
     "end_time": "2021-04-07T01:37:59.019480Z",
     "start_time": "2021-04-07T01:37:59.017267Z"
    }
   },
   "source": [
    "# !!! Number of Islands\n",
    "\n",
    "Given an m x n 2D binary grid grid which represents a map of '1's (land) and '0's (water), return the number of islands.\n",
    "\n",
    "An island is surrounded by water and is formed by connecting adjacent lands horizontally or vertically. You may assume all four edges of the grid are all surrounded by water.\n"
   ]
  },
  {
   "cell_type": "code",
   "execution_count": null,
   "metadata": {},
   "outputs": [],
   "source": [
    "#Input: grid = [\n",
    "#  [\"1\",\"1\",\"0\",\"0\",\"0\"],\n",
    "#  [\"1\",\"1\",\"0\",\"0\",\"0\"],\n",
    "#  [\"0\",\"0\",\"1\",\"0\",\"0\"],\n",
    "#  [\"0\",\"0\",\"0\",\"1\",\"1\"]\n",
    "#]\n",
    "#Output: 3"
   ]
  },
  {
   "cell_type": "code",
   "execution_count": 92,
   "metadata": {
    "ExecuteTime": {
     "end_time": "2021-04-07T01:41:23.958496Z",
     "start_time": "2021-04-07T01:41:23.955556Z"
    }
   },
   "outputs": [],
   "source": [
    "grid = [\n",
    "  [\"1\",\"1\",\"0\",\"0\",\"0\"],\n",
    "  [\"1\",\"1\",\"0\",\"0\",\"0\"],\n",
    "  [\"0\",\"0\",\"1\",\"0\",\"0\"],\n",
    "  [\"0\",\"0\",\"0\",\"1\",\"1\"]\n",
    "]"
   ]
  },
  {
   "cell_type": "code",
   "execution_count": 94,
   "metadata": {
    "ExecuteTime": {
     "end_time": "2021-04-07T01:41:38.415589Z",
     "start_time": "2021-04-07T01:41:38.412399Z"
    }
   },
   "outputs": [
    {
     "data": {
      "text/plain": [
       "['1', '1', '0', '0', '0']"
      ]
     },
     "execution_count": 94,
     "metadata": {},
     "output_type": "execute_result"
    }
   ],
   "source": [
    "\n",
    "grid[row]"
   ]
  },
  {
   "cell_type": "code",
   "execution_count": 100,
   "metadata": {
    "ExecuteTime": {
     "end_time": "2021-04-07T01:43:55.212076Z",
     "start_time": "2021-04-07T01:43:55.208344Z"
    }
   },
   "outputs": [
    {
     "data": {
      "text/plain": [
       "array([ True,  True, False, False, False])"
      ]
     },
     "execution_count": 100,
     "metadata": {},
     "output_type": "execute_result"
    }
   ],
   "source": [
    "np.array([int(i) for i in grid[0]])==1"
   ]
  },
  {
   "cell_type": "markdown",
   "metadata": {
    "ExecuteTime": {
     "end_time": "2021-04-07T01:46:43.733650Z",
     "start_time": "2021-04-07T01:46:43.731462Z"
    }
   },
   "source": [
    "# !!! Graph Search"
   ]
  },
  {
   "cell_type": "code",
   "execution_count": 237,
   "metadata": {
    "ExecuteTime": {
     "end_time": "2021-05-20T15:28:00.913613Z",
     "start_time": "2021-05-20T15:28:00.904633Z"
    }
   },
   "outputs": [],
   "source": [
    "from typing import List\n",
    "from collections import defaultdict, deque\n",
    "\n",
    "class Node():\n",
    "    def __init__(self,node_id:int):\n",
    "        self.id = node_id\n",
    "        self.connections = set([node_id])\n",
    "    \n",
    "    def __str__(self):\n",
    "        return(f\"node_id : {self.id} \\nconnections: {self.connections}\")\n",
    "    \n",
    "    def update_connection(self,node_id):\n",
    "        self.connections.add(node_id)\n",
    "    \n",
    "class Graph():\n",
    "    \n",
    "    def __init__(self):\n",
    "        self.nodes = defaultdict(lambda:\"NaN\")\n",
    "    \n",
    "    def __str__(self):\n",
    "        graph_string = \"\"\n",
    "        for node in self.nodes.values():\n",
    "            graph_string += \"\".join(f\"node_id : {node.id} \\nconnections: {node.connections}\\n\\n\")\n",
    "        return graph_string\n",
    "    \n",
    "    def add_node(self, node_id:int):\n",
    "        if node_id not in self.nodes:\n",
    "            self.nodes[node_id] = Node(node_id)\n",
    "    \n",
    "    def add_connection(self,node_pair:List[int]):\n",
    "        for node_id in node_pair:\n",
    "            if node_id not in self.nodes:\n",
    "                self.add_node(node_id)\n",
    "        self.nodes[node_pair[0]].update_connection(node_pair[1])\n",
    "        self.nodes[node_pair[1]].update_connection(node_pair[0])\n",
    "    \n",
    "    def has_connection(self,node_pair:List[int]):\n",
    "        \n",
    "        origin, destination = node_pair\n",
    "        queue_nodes = deque([origin])\n",
    "        visited = set()\n",
    "        \n",
    "        for node_id in node_pair:\n",
    "            if node_id not in self.nodes:\n",
    "                return f\"there is no node with the id:{node_id}\"\n",
    "        \n",
    "        while queue_nodes:\n",
    "            node_id = queue_nodes.popleft()\n",
    "            if destination in self.nodes[node_id].connections:\n",
    "                return True\n",
    "            if node_id in visited:\n",
    "                continue\n",
    "            else:\n",
    "                queue_nodes.extend(list(self.nodes[node_id].connections))\n",
    "                visited.add(node_id)\n",
    "        return False"
   ]
  },
  {
   "cell_type": "code",
   "execution_count": 238,
   "metadata": {
    "ExecuteTime": {
     "end_time": "2021-05-20T15:28:02.053768Z",
     "start_time": "2021-05-20T15:28:02.051324Z"
    }
   },
   "outputs": [],
   "source": [
    "f = Graph()"
   ]
  },
  {
   "cell_type": "code",
   "execution_count": 239,
   "metadata": {
    "ExecuteTime": {
     "end_time": "2021-05-20T15:28:02.535292Z",
     "start_time": "2021-05-20T15:28:02.531558Z"
    }
   },
   "outputs": [],
   "source": [
    "f.add_connection([\"Steve\",\"Anna\"])\n",
    "f.add_connection([\"Steve\",\"Bea\"])\n",
    "f.add_node(\"Boça\")"
   ]
  },
  {
   "cell_type": "code",
   "execution_count": 209,
   "metadata": {
    "ExecuteTime": {
     "end_time": "2021-05-20T15:16:47.265932Z",
     "start_time": "2021-05-20T15:16:47.260238Z"
    },
    "run_control": {
     "marked": true
    }
   },
   "outputs": [],
   "source": [
    "#f.add_node(0)\n",
    "f.add_connection([1,7])\n",
    "f.add_connection([1,8])\n",
    "f.add_connection([1,0])\n",
    "f.add_connection([1,2])\n",
    "f.add_connection([3,2])\n",
    "f.add_connection([4,8])\n",
    "f.add_connection([10,11])\n",
    "f.add_connection([10,9])\n",
    "f.add_connection([9,11])\n",
    "f.add_connection([9,110])\n",
    "f.add_connection([5,11])"
   ]
  },
  {
   "cell_type": "code",
   "execution_count": 240,
   "metadata": {
    "ExecuteTime": {
     "end_time": "2021-05-20T15:28:04.888777Z",
     "start_time": "2021-05-20T15:28:04.885905Z"
    }
   },
   "outputs": [
    {
     "name": "stdout",
     "output_type": "stream",
     "text": [
      "node_id : Steve \n",
      "connections: {'Steve', 'Bea', 'Anna'}\n",
      "\n",
      "node_id : Anna \n",
      "connections: {'Steve', 'Anna'}\n",
      "\n",
      "node_id : Bea \n",
      "connections: {'Steve', 'Bea'}\n",
      "\n",
      "node_id : Boça \n",
      "connections: {'Boça'}\n",
      "\n",
      "\n"
     ]
    }
   ],
   "source": [
    "print(f)"
   ]
  },
  {
   "cell_type": "code",
   "execution_count": 242,
   "metadata": {
    "ExecuteTime": {
     "end_time": "2021-05-20T15:30:18.009546Z",
     "start_time": "2021-05-20T15:30:18.005983Z"
    }
   },
   "outputs": [
    {
     "data": {
      "text/plain": [
       "False"
      ]
     },
     "execution_count": 242,
     "metadata": {},
     "output_type": "execute_result"
    }
   ],
   "source": [
    "f.has_connection([\"Boça\",\"Bea\"])"
   ]
  },
  {
   "cell_type": "code",
   "execution_count": 214,
   "metadata": {
    "ExecuteTime": {
     "end_time": "2021-05-20T15:17:04.789709Z",
     "start_time": "2021-05-20T15:17:04.785288Z"
    }
   },
   "outputs": [
    {
     "name": "stdout",
     "output_type": "stream",
     "text": [
      "node_id : 1 \n",
      "connections: {8, 0, 2, 7}\n",
      "node_id : 7 \n",
      "connections: {1}\n",
      "node_id : 8 \n",
      "connections: {1, 4}\n",
      "node_id : 0 \n",
      "connections: {1}\n",
      "node_id : 2 \n",
      "connections: {1, 3}\n",
      "node_id : 3 \n",
      "connections: {2}\n",
      "node_id : 4 \n",
      "connections: {8}\n",
      "node_id : 10 \n",
      "connections: {9, 11}\n",
      "node_id : 11 \n",
      "connections: {9, 10, 5}\n",
      "node_id : 9 \n",
      "connections: {10, 11, 110}\n",
      "node_id : 110 \n",
      "connections: {9}\n",
      "node_id : 5 \n",
      "connections: {11}\n"
     ]
    }
   ],
   "source": [
    "for i in f.nodes.values():\n",
    "    print(i)"
   ]
  },
  {
   "cell_type": "code",
   "execution_count": 26,
   "metadata": {
    "ExecuteTime": {
     "end_time": "2021-05-20T13:00:12.606055Z",
     "start_time": "2021-05-20T13:00:12.600748Z"
    }
   },
   "outputs": [
    {
     "name": "stdout",
     "output_type": "stream",
     "text": [
      "0\n",
      "[]\n"
     ]
    }
   ],
   "source": [
    "t = Node(0)\n",
    "print(t.id)a\n",
    "print(t.connections)"
   ]
  },
  {
   "cell_type": "code",
   "execution_count": 105,
   "metadata": {
    "ExecuteTime": {
     "end_time": "2021-04-07T03:53:55.641997Z",
     "start_time": "2021-04-07T03:53:55.635669Z"
    }
   },
   "outputs": [
    {
     "ename": "AttributeError",
     "evalue": "'list' object has no attribute 'rotate'",
     "output_type": "error",
     "traceback": [
      "\u001b[0;31m---------------------------------------------------------------------------\u001b[0m",
      "\u001b[0;31mAttributeError\u001b[0m                            Traceback (most recent call last)",
      "\u001b[0;32m<ipython-input-105-c13147421e64>\u001b[0m in \u001b[0;36m<module>\u001b[0;34m\u001b[0m\n\u001b[0;32m----> 1\u001b[0;31m \u001b[0;34m[\u001b[0m\u001b[0;36m1\u001b[0m\u001b[0;34m,\u001b[0m\u001b[0;36m2\u001b[0m\u001b[0;34m,\u001b[0m\u001b[0;36m3\u001b[0m\u001b[0;34m,\u001b[0m\u001b[0;36m4\u001b[0m\u001b[0;34m]\u001b[0m\u001b[0;34m.\u001b[0m\u001b[0mrotate\u001b[0m\u001b[0;34m(\u001b[0m\u001b[0;36m1\u001b[0m\u001b[0;34m)\u001b[0m\u001b[0;34m\u001b[0m\u001b[0;34m\u001b[0m\u001b[0m\n\u001b[0m",
      "\u001b[0;31mAttributeError\u001b[0m: 'list' object has no attribute 'rotate'"
     ]
    }
   ],
   "source": [
    "[1,2,3,4].rotate(1)"
   ]
  },
  {
   "cell_type": "markdown",
   "metadata": {
    "ExecuteTime": {
     "end_time": "2021-05-08T03:11:33.942699Z",
     "start_time": "2021-05-08T03:11:33.922861Z"
    }
   },
   "source": [
    "Min Swaps to Make Palindrome  \n",
    "Max Length of a Concatenated String with Unique Characters  \n",
    "Partition array into N subsets with balanced sum  \n",
    "Jump Game [Experienced]  \n",
    "Count Visible Nodes in Binary Tree   "
   ]
  },
  {
   "cell_type": "code",
   "execution_count": null,
   "metadata": {},
   "outputs": [],
   "source": [
    "Day of the week that is K days later\n",
    "Max Network Rank\n",
    "Lexicographically Smallest String\n",
    "Longest Substring Without 3 Contiguous Occurrences of Letter\n",
    "String Without 3 Identical Consecutive Letters\n",
    "Longest Semi-Alternating Substring\n",
    "Max Inserts to Obtain String Without 3 Consecutive 'a'\n",
    "Min Adj Swaps to Group Red Balls\n",
    "Particle Velocity\n",
    "Widest Path Without Trees\n",
    "Fair Indexes"
   ]
  }
 ],
 "metadata": {
  "kernelspec": {
   "display_name": "Python 3",
   "language": "python",
   "name": "python3"
  },
  "language_info": {
   "codemirror_mode": {
    "name": "ipython",
    "version": 3
   },
   "file_extension": ".py",
   "mimetype": "text/x-python",
   "name": "python",
   "nbconvert_exporter": "python",
   "pygments_lexer": "ipython3",
   "version": "3.6.9"
  },
  "toc": {
   "base_numbering": 1,
   "nav_menu": {
    "height": "166px",
    "width": "160px"
   },
   "number_sections": true,
   "sideBar": true,
   "skip_h1_title": false,
   "title_cell": "Table of Contents",
   "title_sidebar": "Contents",
   "toc_cell": false,
   "toc_position": {
    "height": "calc(100% - 180px)",
    "left": "10px",
    "top": "150px",
    "width": "358.391px"
   },
   "toc_section_display": true,
   "toc_window_display": true
  }
 },
 "nbformat": 4,
 "nbformat_minor": 4
}
